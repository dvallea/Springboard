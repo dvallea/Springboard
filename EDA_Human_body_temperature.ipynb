{
 "cells": [
  {
   "cell_type": "markdown",
   "metadata": {},
   "source": [
    "# What is the True Normal Human Body Temperature? \n",
    "\n",
    "#### Background\n",
    "\n",
    "The mean normal body temperature was held to be 37$^{\\circ}$C or 98.6$^{\\circ}$F for more than 120 years since it was first conceptualized and reported by Carl Wunderlich in a famous 1868 book. But, is this value statistically correct?"
   ]
  },
  {
   "cell_type": "markdown",
   "metadata": {},
   "source": [
    "<h3>Exercises</h3>\n",
    "\n",
    "<p>In this exercise, you will analyze a dataset of human body temperatures and employ the concepts of hypothesis testing, confidence intervals, and statistical significance.</p>\n",
    "\n",
    "<p>Answer the following questions <b>in this notebook below and submit to your Github account</b>.</p> \n",
    "\n",
    "<ol>\n",
    "<li>  Is the distribution of body temperatures normal? \n",
    "    <ul>\n",
    "    <li> Although this is not a requirement for CLT to hold (read CLT carefully), it gives us some peace of mind that the population may also be normally distributed if we assume that this sample is representative of the population.\n",
    "    </ul>\n",
    "<li>  Is the sample size large? Are the observations independent?\n",
    "    <ul>\n",
    "    <li> Remember that this is a condition for the CLT, and hence the statistical tests we are using, to apply.\n",
    "    </ul>\n",
    "<li>  Is the true population mean really 98.6 degrees F?\n",
    "    <ul>\n",
    "    <li> Would you use a one-sample or two-sample test? Why?\n",
    "    <li> In this situation, is it appropriate to use the $t$ or $z$ statistic? \n",
    "    <li> Now try using the other test. How is the result be different? Why?\n",
    "    </ul>\n",
    "<li>  Draw a small sample of size 10 from the data and repeat both tests. \n",
    "    <ul>\n",
    "    <li> Which one is the correct one to use? \n",
    "    <li> What do you notice? What does this tell you about the difference in application of the $t$ and $z$ statistic?\n",
    "    </ul>\n",
    "<li>  At what temperature should we consider someone's temperature to be \"abnormal\"?\n",
    "    <ul>\n",
    "    <li> Start by computing the margin of error and confidence interval.\n",
    "    </ul>\n",
    "<li>  Is there a significant difference between males and females in normal temperature?\n",
    "    <ul>\n",
    "    <li> What test did you use and why?\n",
    "    <li> Write a story with your conclusion in the context of the original problem.\n",
    "    </ul>\n",
    "</ol>\n",
    "\n",
    "You can include written notes in notebook cells using Markdown: \n",
    "   - In the control panel at the top, choose Cell > Cell Type > Markdown\n",
    "   - Markdown syntax: http://nestacms.com/docs/creating-content/markdown-cheat-sheet\n",
    "\n",
    "#### Resources\n",
    "\n",
    "+ Information and data sources: http://www.amstat.org/publications/jse/datasets/normtemp.txt, http://www.amstat.org/publications/jse/jse_data_archive.htm\n",
    "+ Markdown syntax: http://nestacms.com/docs/creating-content/markdown-cheat-sheet\n",
    "\n",
    "****"
   ]
  },
  {
   "cell_type": "code",
   "execution_count": 1,
   "metadata": {
    "collapsed": true
   },
   "outputs": [],
   "source": [
    "import pandas as pd\n",
    "import matplotlib.pyplot as plt\n",
    "import numpy as np\n",
    "\n",
    "df = pd.read_csv('/Users/danielvalle/Documents/Coding/Springboard/Human body temperature - EDA/data/human_body_temperature.csv')"
   ]
  },
  {
   "cell_type": "code",
   "execution_count": 2,
   "metadata": {},
   "outputs": [
    {
     "name": "stdout",
     "output_type": "stream",
     "text": [
      "   temperature gender  heart_rate\n",
      "0         99.3      F        68.0\n",
      "1         98.4      F        81.0\n",
      "2         97.8      M        73.0\n",
      "3         99.2      F        66.0\n",
      "4         98.0      F        73.0\n",
      "       temperature  heart_rate\n",
      "count   130.000000  130.000000\n",
      "mean     98.249231   73.761538\n",
      "std       0.733183    7.062077\n",
      "min      96.300000   57.000000\n",
      "25%      97.800000   69.000000\n",
      "50%      98.300000   74.000000\n",
      "75%      98.700000   79.000000\n",
      "max     100.800000   89.000000\n",
      "<class 'pandas.core.frame.DataFrame'>\n",
      "RangeIndex: 130 entries, 0 to 129\n",
      "Data columns (total 3 columns):\n",
      "temperature    130 non-null float64\n",
      "gender         130 non-null object\n",
      "heart_rate     130 non-null float64\n",
      "dtypes: float64(2), object(1)\n",
      "memory usage: 3.1+ KB\n",
      "None\n"
     ]
    }
   ],
   "source": [
    "# Basically explore the data\n",
    "\n",
    "print(df.head())\n",
    "print(df.describe())\n",
    "print(df.info())"
   ]
  },
  {
   "cell_type": "code",
   "execution_count": 3,
   "metadata": {},
   "outputs": [
    {
     "data": {
      "image/png": "[encoded data removed]",
      "text/plain": [
       "<matplotlib.figure.Figure at 0x10a53fba8>"
      ]
     },
     "metadata": {},
     "output_type": "display_data"
    }
   ],
   "source": [
    "# Compute Empirical Cumulative Distribution Function\n",
    "\n",
    "#Define a function to create the ECDF\n",
    "def ecdf(data):\n",
    "    \"\"\"Compute ECDF for a one-dimensional array of measurements.\"\"\"\n",
    "\n",
    "    # Number of data points: n\n",
    "    n = len(data)\n",
    "\n",
    "    # x-data for the ECDF: x\n",
    "    x = np.sort(data)\n",
    "\n",
    "    # y-data for the ECDF: y\n",
    "    y = np.arange(1, n+1) / n\n",
    "\n",
    "    return x, y\n",
    "\n",
    "# Get x and y values for the temperature data\n",
    "x_temp, y_temp = ecdf(df['temperature'])\n",
    "\n",
    "# Compute percentiles\n",
    "percentiles = np.array([2.5, 25, 50, 75, 97.5])\n",
    "percentiles_values = np.percentile(df['temperature'], percentiles)\n",
    "\n",
    "# Plot the ECDF and percentile points\n",
    "_ = plt.plot(x_temp, y_temp, marker='.', linestyle='none')\n",
    "_ = plt.margins(0.02)\n",
    "_ = plt.xlabel('Temperature (Farenheit degrees)')\n",
    "_ = plt.ylabel('ECDF')\n",
    "_ = plt.plot(percentiles_values, percentiles/100, marker='D', color='red',\n",
    "         linestyle='none')\n",
    "plt.show()"
   ]
  },
  {
   "cell_type": "markdown",
   "metadata": {},
   "source": [
    "### 1. Is the distribution of body temperatures normal?\n",
    "\n",
    "The 'Human body temperature' histogram suggests a normal distribution; although, the data seems slightly skewed to the right.  \n",
    "\n",
    "Based on the CDF of the temperature data and the theoretical data below, the distribution of body temperature seems to be normal since it resembles the shape of the theoretical CDF.\n",
    "\n",
    "Are there other tests to establish that the data is normally distributed?\n",
    "\n",
    "However, performing two normal distribution tests can help further clarify it. The p-value of the D'Agostino and Pearson normality test does not reach significance. This in turn suggests that there is no reason to reject the null hypothesis that the data comes from a normal distribution. In addition, the result of the Shapiro test also shows no reason to reject the null hypothesis."
   ]
  },
  {
   "cell_type": "code",
   "execution_count": 4,
   "metadata": {},
   "outputs": [
    {
     "data": {
      "image/png": "[encoded data removed]",
      "text/plain": [
       "<matplotlib.figure.Figure at 0x10a561438>"
      ]
     },
     "metadata": {},
     "output_type": "display_data"
    }
   ],
   "source": [
    "# EDA\n",
    "obrservations = len(df['temperature'])\n",
    "n_bins = np.sqrt((obrservations))\n",
    "n_bins = int(n_bins)\n",
    "\n",
    "_ = plt.hist(df['temperature'], bins=n_bins)\n",
    "_ = plt.xlabel('Temperature {Farenheit degrees}')\n",
    "_ = plt.ylabel('number of individuals')\n",
    "_ = plt.title('Human body temperature')\n",
    "plt.show()"
   ]
  },
  {
   "cell_type": "code",
   "execution_count": 5,
   "metadata": {},
   "outputs": [
    {
     "data": {
      "image/png": "[encoded data removed]",
      "text/plain": [
       "<matplotlib.figure.Figure at 0x105387358>"
      ]
     },
     "metadata": {},
     "output_type": "display_data"
    }
   ],
   "source": [
    "# Compute the mean and standard deviation of the data\n",
    "mu = np.mean(df['temperature'])\n",
    "sigma = np.std(df['temperature'])\n",
    "\n",
    "# Sample out of a normal distribution using this mean and standard deviation\n",
    "samples = np.random.normal(mu, sigma, 10000)\n",
    "\n",
    "# Obtain the CDF values out of the samples and of the real data\n",
    "x_theor, y_theor = ecdf(samples)\n",
    "x, y = ecdf(df['temperature'])\n",
    "\n",
    "# Plot bot CDF\n",
    "_ = plt.plot(x_theor, y_theor)\n",
    "_ = plt.plot(x, y, marker='.', linestyle='none')\n",
    "plt.margins(0.02)\n",
    "_ = plt.xlabel('Temperature (Farenheit degrees)')\n",
    "_ = plt.ylabel('CDF')\n",
    "plt.title('Human body temperature')\n",
    "plt.show()"
   ]
  },
  {
   "cell_type": "code",
   "execution_count": 6,
   "metadata": {},
   "outputs": [
    {
     "name": "stdout",
     "output_type": "stream",
     "text": [
      "NormaltestResult(statistic=2.703801433319203, pvalue=0.2587479863488254)\n",
      "Shapiro test: (0.9865770936012268, 0.233174666762352)\n"
     ]
    }
   ],
   "source": [
    "# Check for nomrmality in the data\n",
    "import scipy.stats\n",
    "\n",
    "norm_test = scipy.stats.normaltest(df['temperature'])\n",
    "print(norm_test)\n",
    "\n",
    "shapiro_test = scipy.stats.shapiro(df['temperature'])\n",
    "print('Shapiro test:', shapiro_test)"
   ]
  },
  {
   "cell_type": "markdown",
   "metadata": {},
   "source": [
    "### 2. Is the sample size large? Are the observations independent?\n",
    "\n",
    "The sample size is large: n > 30. \n",
    "\n",
    "The observations are independent of each other since each observation represents a different individual. "
   ]
  },
  {
   "cell_type": "code",
   "execution_count": 7,
   "metadata": {},
   "outputs": [
    {
     "name": "stdout",
     "output_type": "stream",
     "text": [
      "Sample size:  130\n"
     ]
    }
   ],
   "source": [
    "print('Sample size: ', len(df['temperature']))"
   ]
  },
  {
   "cell_type": "markdown",
   "metadata": {},
   "source": [
    "### 3. Is the true population mean really 98.6 degrees F?\n",
    "\n",
    "Since human body temperature constitutes a continuous function, its mean lies between a range rather than a single point. Thus, it is not possible that the true population mean lies at 98.6 degrees Farenheit. \n",
    "\n",
    "Actually, the human body temperature lies within 98.1 and 98.4 Farenheit degrees with a 95% of confidence. \n",
    "\n",
    "\n",
    "\n",
    "- Would you use a one-sample or two-sample test? Why?\n",
    "\n",
    "Since we are looking only at one group, not two groups, we will be using a one-sample test. \n",
    "\n",
    "\n",
    "\n",
    "- In this situation, is it appropriate to use the t or z statistic?\n",
    "Because the sample size is large (n>30), and assuming that the sample mean is relatively close to the population mean, it is appropiate to use the z statistic. \n",
    "\n",
    "Assumming as the null hypothesis that the true human body temperature population mean is 98.6, there are reasons to reject this null hypothesis because of the very small p-value < 0.05. \n",
    "\n",
    "\n",
    "- Now try using the other test. How is the result be different? Why?\n",
    "\n",
    "Using the t-statistic, the null hypothesis is also rejected given that the p-value < .05. Using the z- or t-statistic yield the same result (reject null hypothesis) because of the sample size is n > 30. Thus, both tests yield relatively similar results. "
   ]
  },
  {
   "cell_type": "code",
   "execution_count": 8,
   "metadata": {},
   "outputs": [
    {
     "name": "stdout",
     "output_type": "stream",
     "text": [
      "Body temperature (95% confidence interval): (98.12200290560803, 98.3764586328535)\n"
     ]
    },
    {
     "name": "stderr",
     "output_type": "stream",
     "text": [
      "/Library/Frameworks/Python.framework/Versions/3.6/lib/python3.6/site-packages/statsmodels/compat/pandas.py:56: FutureWarning: The pandas.core.datetools module is deprecated and will be removed in a future version. Please use the pandas.tseries module instead.\n",
      "  from pandas.core import datetools\n"
     ]
    }
   ],
   "source": [
    "# Calculate body temperature mean interval at the 95% confidence \n",
    "import statsmodels.stats.api as sms\n",
    "print('Body temperature (95% confidence interval):', sms.DescrStatsW(df['temperature']).tconfint_mean())"
   ]
  },
  {
   "cell_type": "code",
   "execution_count": 9,
   "metadata": {},
   "outputs": [
    {
     "name": "stdout",
     "output_type": "stream",
     "text": [
      "z_score: 5.4548232923645195\n",
      "p-value: 4.902157013653152e-08\n"
     ]
    }
   ],
   "source": [
    "# Calculate z score for every observation\n",
    "#from scipy.stats import zscore\n",
    "#print(zscore(df['temperature']))\n",
    "\n",
    "# Calculate the z_score for the sample data: \n",
    "# value - mean / std (of sample : std / srt(sample length))\n",
    "z_score = ( (98.6 - df['temperature'].mean()) / (df['temperature'].std() / np.sqrt(len(df)) ))\n",
    "print('z_score:', z_score)\n",
    "\n",
    "p_value = (1 - scipy.stats.norm.cdf(z_score)) * 2\n",
    "print('p-value:', p_value)"
   ]
  },
  {
   "cell_type": "code",
   "execution_count": 10,
   "metadata": {},
   "outputs": [
    {
     "name": "stdout",
     "output_type": "stream",
     "text": [
      "t-statistic p-value: 2.4106320428707306e-07\n"
     ]
    }
   ],
   "source": [
    "# Calculate the t-statistic p-value\n",
    "# The z_score is used as the t_score\n",
    "t_p_value = (1 - scipy.stats.t.cdf(z_score, len(df) - 1)) * 2\n",
    "print('t-statistic p-value:', t_p_value)"
   ]
  },
  {
   "cell_type": "markdown",
   "metadata": {},
   "source": [
    "### 4. Draw a small sample of size 10 from the data and repeat both tests.\n",
    "\n",
    "- Which one is the correct one to use?\n",
    "Using this small sample (n = 10) both the z-statistic and the t-statistic obtain p_values below .05, suggesting that both tests reject the null hypothesis. Thus, both are correct when compared to the results of the whole dataset. \n",
    "\n",
    "\n",
    "\n",
    "- What do you notice? What does this tell you about the difference in application of the t and z statistic?\n",
    "\n",
    "The sample size determines which test to use, but in this particular example we do not find clear differences among them. "
   ]
  },
  {
   "cell_type": "code",
   "execution_count": 11,
   "metadata": {},
   "outputs": [
    {
     "name": "stdout",
     "output_type": "stream",
     "text": [
      "z_score: 0.9604953164109462\n",
      "p-value: 0.33680598705922327\n",
      "t-statistic p-value: 0.3618983074717028\n"
     ]
    }
   ],
   "source": [
    "# Draw a random sample with size 10\n",
    "sample_10 = df.sample(10)\n",
    "\n",
    "\n",
    "# Compute z-statistic\n",
    "z_score = ( (98.6 - sample_10['temperature'].mean()) / (sample_10['temperature'].std() / np.sqrt(len(sample_10)) ))\n",
    "print('z_score:', z_score)\n",
    "\n",
    "p_value = (1 - scipy.stats.norm.cdf(z_score)) * 2\n",
    "print('p-value:', p_value)\n",
    "\n",
    "# Compute t-statistic\n",
    "t_p_value = (1 - scipy.stats.t.cdf(z_score, len(sample_10) - 1)) * 2\n",
    "print('t-statistic p-value:', t_p_value)"
   ]
  },
  {
   "cell_type": "markdown",
   "metadata": {},
   "source": [
    "### 5. At what temperature should we consider someone's temperature to be \"abnormal\"?\n",
    "\n",
    "Any temperature value outside the range between 98.1 and 98.4 Farenheit degrees will be considered 'abnormal'. Observe how this 'abnormal' temperatures compared to the distribution of 'normal' temperatures' in the histogram below. "
   ]
  },
  {
   "cell_type": "code",
   "execution_count": 12,
   "metadata": {},
   "outputs": [
    {
     "name": "stdout",
     "output_type": "stream",
     "text": [
      "Body temperature (95% confidence interval): (98.12200290560803, 98.3764586328535)\n"
     ]
    }
   ],
   "source": [
    "# Calculate 95% confidence interval of sample mean\n",
    "print('Body temperature (95% confidence interval):', sms.DescrStatsW(df['temperature']).tconfint_mean())"
   ]
  },
  {
   "cell_type": "code",
   "execution_count": 13,
   "metadata": {},
   "outputs": [
    {
     "data": {
      "image/png": "[encoded data removed]",
      "text/plain": [
       "<matplotlib.figure.Figure at 0x10ca5ae80>"
      ]
     },
     "metadata": {},
     "output_type": "display_data"
    },
    {
     "name": "stdout",
     "output_type": "stream",
     "text": [
      "Std of replicates: 0.06419700067815476\n",
      "Standard error of the mean: 0.06405661469519337\n",
      "Confidence intervals: [98.12307692 98.37615385]\n",
      "abnormal temperature from as low as 98.05902030838173 and as high as 98.44021046084903 F degrees\n"
     ]
    }
   ],
   "source": [
    "#At what temperature should we consider someone's temperature to be \"abnormal\"?\n",
    "#Start by computing the margin of error and confidence interval.\n",
    "\n",
    "### Compute the PDF and standard error of the mean\n",
    "\n",
    "# Define a function to get bootstraps\n",
    "def bootstrap_replicate_1d(data, func):\n",
    "    return func(np.random.choice(data, size=len(data)))\n",
    "\n",
    "# Define a function to get bootstrap replicates from the data\n",
    "def draw_bs_reps(data, func, size=1):\n",
    "    \"\"\"Draw bootstrap replicates.\"\"\"\n",
    "\n",
    "    # Initialize array of replicates: bs_replicates\n",
    "    bs_replicates = np.empty(size)\n",
    "\n",
    "    # Generate replicates\n",
    "    for i in range(size):\n",
    "        bs_replicates[i] = bootstrap_replicate_1d(data, func)\n",
    "\n",
    "    return bs_replicates\n",
    "\n",
    "# Get bootstrap replicates of the temperature data\n",
    "temp_bs_replicates = draw_bs_reps(df['temperature'], np.mean, size=10000)\n",
    "\n",
    "# Make a histogram of the results\n",
    "_ = plt.hist(temp_bs_replicates, bins=50, normed=True)\n",
    "_ = plt.xlabel('Mean body temperature (Farenheit degrees)')\n",
    "_ = plt.ylabel('PDF')\n",
    "plt.show()\n",
    "\n",
    "# Compute standard deviation of the replicates\n",
    "std_replicates = np.std(temp_bs_replicates)\n",
    "print('Std of replicates:',std_replicates)\n",
    "\n",
    "# Compute the standard error of the mean\n",
    "sem = np.std(df['temperature']) / np.sqrt(len(df['temperature']))\n",
    "print('Standard error of the mean:',sem)\n",
    "\n",
    "\n",
    "# Compute the 95% confidence interval\n",
    "conf_int_95 = np.percentile(temp_bs_replicates, [2.5, 97.5])\n",
    "print('Confidence intervals:', conf_int_95)\n",
    "\n",
    "# Could it be that an abnormal temperature lies at the addition/difference of the standard error of the mean of the confidence intervals\n",
    "abnormal_low = conf_int_95[0] - sem\n",
    "abnormal_high = conf_int_95[1] + sem\n",
    "print('abnormal temperature from as low as', abnormal_low, 'and as high as', abnormal_high, 'F degrees')"
   ]
  },
  {
   "cell_type": "markdown",
   "metadata": {},
   "source": [
    "### 6. Is there a significant difference between males and females in normal temperature?\n",
    "\n",
    "\n",
    "- What test did you use and why?\n",
    "\n",
    "The z-test was used because the sample size is 65 for both the male and female subsets of data. \n",
    "\n",
    "\n",
    "- Write a story with your conclusion in the context of the original problem.\n",
    "\n",
    "The null hypothesis that there is no difference between the male and female body temperature is rejected (p < 0.01); they are indeed different. \n",
    "\n",
    "Overall, this analysis has shown that human body temperature follow a normal distribution. We have found that mean body temperature lies between 98.2 and 98.4 F with 95% confidence; mean human body temperature is not 98.6 F. Any value outside the range of mean body temperature can be considered to be 'abnormal'. Finally, male and female body temperature are significantly different.  "
   ]
  },
  {
   "cell_type": "code",
   "execution_count": 14,
   "metadata": {},
   "outputs": [
    {
     "name": "stdout",
     "output_type": "stream",
     "text": [
      "male: 65  female: 65\n",
      "male temp: 98.10461538461537  female temp: 98.39384615384614\n"
     ]
    }
   ],
   "source": [
    "# Divide the dataset into male and female\n",
    "male = df[df['gender'] == 'M']\n",
    "female = df[df['gender'] == 'F']\n",
    "print('male:', len(male), ' female:', len(female))\n",
    "\n",
    "# Identify the mean temperature for male and female\n",
    "print('male temp:', male['temperature'].mean(), ' female temp:', female['temperature'].mean())"
   ]
  },
  {
   "cell_type": "code",
   "execution_count": 15,
   "metadata": {},
   "outputs": [
    {
     "data": {
      "image/png": "[encoded data removed]",
      "text/plain": [
       "<matplotlib.figure.Figure at 0x10cb0a588>"
      ]
     },
     "metadata": {},
     "output_type": "display_data"
    }
   ],
   "source": [
    "#Compute and plot ECDF for each mean of male and female\n",
    "\n",
    "#Compute ECDF\n",
    "x_male, y_male = ecdf(male['temperature'])\n",
    "x_female, y_female = ecdf(female['temperature'])\n",
    "\n",
    "#Plot ECDF\n",
    "_ = plt.plot(x_male, y_male, marker='.', linestyle='none')\n",
    "_ = plt.plot(x_female, y_female, marker='.', linestyle='none')\n",
    "plt.margins(0.02)\n",
    "\n",
    "_ = plt.xlabel('Body temperature (F degrees)')\n",
    "_ = plt.ylabel('ECDF')\n",
    "_ = plt.legend(('male', 'female'), loc='lower right')\n",
    "plt.title('Body temperature: male vs female')\n",
    "plt.show()"
   ]
  },
  {
   "cell_type": "code",
   "execution_count": 16,
   "metadata": {},
   "outputs": [
    {
     "name": "stdout",
     "output_type": "stream",
     "text": [
      "p-value = 0.0095\n"
     ]
    }
   ],
   "source": [
    "# Hypothesis test\n",
    "# Use a bootstrap analysis to answer whether ot not that difference is significative\n",
    "\n",
    "## Define a function to get bootstrap replicate\n",
    "def bootstrap_replicate_1d(data, func):\n",
    "    return func(np.random.choice(data, size=len(data)))\n",
    "\n",
    "## Define a function to get bootstrap replicates\n",
    "def draw_bs_reps(data, func, size=1):\n",
    "    \"\"\"Draw bootstrap replicates.\"\"\"\n",
    "\n",
    "    # Initialize array of replicates: bs_replicates\n",
    "    bs_replicates = np.empty(size)\n",
    "\n",
    "    # Generate replicates\n",
    "    for i in range(size):\n",
    "        bs_replicates[i] = bootstrap_replicate_1d(data, func)\n",
    "\n",
    "    return bs_replicates\n",
    "\n",
    "# Estimate the difference of the mean of body temperature between male and female\n",
    "mean_difference = np.mean(male['temperature']) - np.mean(female['temperature'])\n",
    "\n",
    "#Compute mean of combine data\n",
    "combined_mean = np.mean(np.concatenate((male['temperature'], female['temperature'])))\n",
    "\n",
    "# Shift the samples\n",
    "male_shifted = male['temperature'] - np.mean(male['temperature']) + combined_mean\n",
    "female_shifted = female['temperature'] - np.mean(female['temperature']) + combined_mean\n",
    "\n",
    "# Get bootstrap replicates of shifted data\n",
    "bs_replicates_shifted_male = draw_bs_reps(male_shifted, np.mean, 10000)\n",
    "bs_replicates_shifted_female = draw_bs_reps(female_shifted, np.mean, 10000)\n",
    "\n",
    "# Compute difference of means of replicates\n",
    "shifted_replicate_mean_difference = bs_replicates_shifted_male - bs_replicates_shifted_female\n",
    "\n",
    "# Compute p-value\n",
    "p = np.sum(shifted_replicate_mean_difference <= mean_difference) / len(shifted_replicate_mean_difference)\n",
    "print('p-value =', p)"
   ]
  }
 ],
 "metadata": {
  "kernelspec": {
   "display_name": "Python 3",
   "language": "python",
   "name": "python3"
  },
  "language_info": {
   "codemirror_mode": {
    "name": "ipython",
    "version": 3
   },
   "file_extension": ".py",
   "mimetype": "text/x-python",
   "name": "python",
   "nbconvert_exporter": "python",
   "pygments_lexer": "ipython3",
   "version": "3.6.1"
  }
 },
 "nbformat": 4,
 "nbformat_minor": 1
}
