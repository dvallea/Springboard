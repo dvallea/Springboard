{
 "cells": [
  {
   "cell_type": "markdown",
   "metadata": {},
   "source": [
    "# Predicting hotel reviews rating\n",
    "\n",
    "With the increasing availability of social feedback on platforms such as Yelp or TripAdvisor, more and more customers consult reviews before making their next decision about a purchase, airplane ticket or hotel reservation. In the case of hotels, 90% of travelers agree that reviews are influential when making a decision on where to stay. These customers also trust the reviews that they find as much as personal recommendations (Brightlocal.com). If reviews are not positive enough, it could amount to losing 88% of web traffic that references reviews. In addition, 75% of consumers complete a call to action after reading a great review.\n",
    "\n",
    "From the business perspective, customer reviews contain a large amount of information that can help identify current issues and fix them, customer satisfaction, and customer loyalty. However, in order to obtain this information, involves reading through a great number of these reviews, which in turn, may required a number of readers analyzing the texts for a large number of hours.\n",
    "\n",
    "This project aims to helping with this issue, specifically hotel reviews, by applying NLP to catalog customer reviews as positive or negative.\n",
    "\n",
    "The main benefit of this product is to save hours of going through the reviews and follow a consistent pattern in cataloging them. In addition, for those reviews that are not accompanied by a rating (eg. 3 stars), this product will be able to make predictions as to the review rating. By saving the bussiness working hours, this time can be spent in other tasks such as targeting issues or implementing new marketing strategies. Thus, the main beneficiaries of these product are hotel companies as well as online platforms dedicated to provide a place to stay. "
   ]
  },
  {
   "cell_type": "markdown",
   "metadata": {},
   "source": [
    "## Data\n",
    "\n",
    "The dataset used for this project contains 35050 reviews for hotels in the United States. In addition to the review itself (textual), a review title is provided as well as the hotel rating (from 0 to 10). Metadata about the hotel being reviewed is also provided: name, address, category, date. Metadata about the reviewer is also provided: username, city, and province.  "
   ]
  },
  {
   "cell_type": "code",
   "execution_count": 1,
   "metadata": {
    "collapsed": true
   },
   "outputs": [],
   "source": [
    "import pandas as pd\n",
    "import numpy as np\n",
    "\n",
    "import matplotlib.pyplot as plt\n",
    "import seaborn as sn\n",
    "plt.style.use('ggplot')\n",
    "%matplotlib inline\n",
    "\n",
    "import re\n",
    "\n",
    "from wordcloud import STOPWORDS\n",
    "\n",
    "from sklearn.model_selection import train_test_split\n",
    "from sklearn.feature_extraction.text import CountVectorizer\n",
    "from sklearn.feature_extraction.text import TfidfTransformer\n",
    "from sklearn.feature_extraction.text import TfidfVectorizer\n",
    "from sklearn.feature_extraction.text import HashingVectorizer\n",
    "\n",
    "from sklearn import linear_model\n",
    "from sklearn.naive_bayes import MultinomialNB\n",
    "from sklearn.naive_bayes import BernoulliNB\n",
    "from sklearn.ensemble import RandomForestClassifier\n",
    "from sklearn import svm\n",
    "from sklearn.neighbors import KNeighborsClassifier\n",
    "from sklearn.svm import SVC\n",
    "\n",
    "from sklearn.metrics import accuracy_score, log_loss\n",
    "from sklearn.metrics import roc_curve, auc\n",
    "\n",
    "from sklearn.utils import resample"
   ]
  },
  {
   "cell_type": "code",
   "execution_count": 2,
   "metadata": {
    "collapsed": true
   },
   "outputs": [],
   "source": [
    "data = pd.read_csv('/Users/danielvalle/Documents/Coding/Springboard/Capstone project 2 - NLP/Hotel reviews.csv', encoding='latin-1')"
   ]
  },
  {
   "cell_type": "code",
   "execution_count": 3,
   "metadata": {},
   "outputs": [
    {
     "data": {
      "text/html": [
       "<div>\n",
       "<style scoped>\n",
       "    .dataframe tbody tr th:only-of-type {\n",
       "        vertical-align: middle;\n",
       "    }\n",
       "\n",
       "    .dataframe tbody tr th {\n",
       "        vertical-align: top;\n",
       "    }\n",
       "\n",
       "    .dataframe thead th {\n",
       "        text-align: right;\n",
       "    }\n",
       "</style>\n",
       "<table border=\"1\" class=\"dataframe\">\n",
       "  <thead>\n",
       "    <tr style=\"text-align: right;\">\n",
       "      <th></th>\n",
       "      <th>address</th>\n",
       "      <th>categories</th>\n",
       "      <th>city</th>\n",
       "      <th>country</th>\n",
       "      <th>latitude</th>\n",
       "      <th>longitude</th>\n",
       "      <th>name</th>\n",
       "      <th>postalCode</th>\n",
       "      <th>province</th>\n",
       "      <th>reviews.date</th>\n",
       "      <th>reviews.dateAdded</th>\n",
       "      <th>reviews.doRecommend</th>\n",
       "      <th>reviews.id</th>\n",
       "      <th>reviews.rating</th>\n",
       "      <th>reviews.text</th>\n",
       "      <th>reviews.title</th>\n",
       "      <th>reviews.userCity</th>\n",
       "      <th>reviews.username</th>\n",
       "      <th>reviews.userProvince</th>\n",
       "    </tr>\n",
       "  </thead>\n",
       "  <tbody>\n",
       "    <tr>\n",
       "      <th>0</th>\n",
       "      <td>Riviera San Nicol 11/a</td>\n",
       "      <td>Hotels</td>\n",
       "      <td>Mableton</td>\n",
       "      <td>US</td>\n",
       "      <td>45.421611</td>\n",
       "      <td>12.376187</td>\n",
       "      <td>Hotel Russo Palace</td>\n",
       "      <td>30126</td>\n",
       "      <td>GA</td>\n",
       "      <td>2013-09-22T00:00:00Z</td>\n",
       "      <td>2016-10-24T00:00:25Z</td>\n",
       "      <td>NaN</td>\n",
       "      <td>NaN</td>\n",
       "      <td>4.0</td>\n",
       "      <td>Pleasant 10 min walk along the sea front to th...</td>\n",
       "      <td>Good location away from the crouds</td>\n",
       "      <td>NaN</td>\n",
       "      <td>Russ (kent)</td>\n",
       "      <td>NaN</td>\n",
       "    </tr>\n",
       "    <tr>\n",
       "      <th>1</th>\n",
       "      <td>Riviera San Nicol 11/a</td>\n",
       "      <td>Hotels</td>\n",
       "      <td>Mableton</td>\n",
       "      <td>US</td>\n",
       "      <td>45.421611</td>\n",
       "      <td>12.376187</td>\n",
       "      <td>Hotel Russo Palace</td>\n",
       "      <td>30126</td>\n",
       "      <td>GA</td>\n",
       "      <td>2015-04-03T00:00:00Z</td>\n",
       "      <td>2016-10-24T00:00:25Z</td>\n",
       "      <td>NaN</td>\n",
       "      <td>NaN</td>\n",
       "      <td>5.0</td>\n",
       "      <td>Really lovely hotel. Stayed on the very top fl...</td>\n",
       "      <td>Great hotel with Jacuzzi bath!</td>\n",
       "      <td>NaN</td>\n",
       "      <td>A Traveler</td>\n",
       "      <td>NaN</td>\n",
       "    </tr>\n",
       "    <tr>\n",
       "      <th>2</th>\n",
       "      <td>Riviera San Nicol 11/a</td>\n",
       "      <td>Hotels</td>\n",
       "      <td>Mableton</td>\n",
       "      <td>US</td>\n",
       "      <td>45.421611</td>\n",
       "      <td>12.376187</td>\n",
       "      <td>Hotel Russo Palace</td>\n",
       "      <td>30126</td>\n",
       "      <td>GA</td>\n",
       "      <td>2014-05-13T00:00:00Z</td>\n",
       "      <td>2016-10-24T00:00:25Z</td>\n",
       "      <td>NaN</td>\n",
       "      <td>NaN</td>\n",
       "      <td>5.0</td>\n",
       "      <td>Ett mycket bra hotell. Det som drog ner betyge...</td>\n",
       "      <td>Lugnt lÀ_À_ge</td>\n",
       "      <td>NaN</td>\n",
       "      <td>Maud</td>\n",
       "      <td>NaN</td>\n",
       "    </tr>\n",
       "    <tr>\n",
       "      <th>3</th>\n",
       "      <td>Riviera San Nicol 11/a</td>\n",
       "      <td>Hotels</td>\n",
       "      <td>Mableton</td>\n",
       "      <td>US</td>\n",
       "      <td>45.421611</td>\n",
       "      <td>12.376187</td>\n",
       "      <td>Hotel Russo Palace</td>\n",
       "      <td>30126</td>\n",
       "      <td>GA</td>\n",
       "      <td>2013-10-27T00:00:00Z</td>\n",
       "      <td>2016-10-24T00:00:25Z</td>\n",
       "      <td>NaN</td>\n",
       "      <td>NaN</td>\n",
       "      <td>5.0</td>\n",
       "      <td>We stayed here for four nights in October. The...</td>\n",
       "      <td>Good location on the Lido.</td>\n",
       "      <td>NaN</td>\n",
       "      <td>Julie</td>\n",
       "      <td>NaN</td>\n",
       "    </tr>\n",
       "    <tr>\n",
       "      <th>4</th>\n",
       "      <td>Riviera San Nicol 11/a</td>\n",
       "      <td>Hotels</td>\n",
       "      <td>Mableton</td>\n",
       "      <td>US</td>\n",
       "      <td>45.421611</td>\n",
       "      <td>12.376187</td>\n",
       "      <td>Hotel Russo Palace</td>\n",
       "      <td>30126</td>\n",
       "      <td>GA</td>\n",
       "      <td>2015-03-05T00:00:00Z</td>\n",
       "      <td>2016-10-24T00:00:25Z</td>\n",
       "      <td>NaN</td>\n",
       "      <td>NaN</td>\n",
       "      <td>5.0</td>\n",
       "      <td>We stayed here for four nights in October. The...</td>\n",
       "      <td>À_À_À_À_À_À_ À_À_À_À_À_À_À_À_À_...</td>\n",
       "      <td>NaN</td>\n",
       "      <td>sungchul</td>\n",
       "      <td>NaN</td>\n",
       "    </tr>\n",
       "  </tbody>\n",
       "</table>\n",
       "</div>"
      ],
      "text/plain": [
       "                  address categories      city country   latitude  longitude  \\\n",
       "0  Riviera San Nicol 11/a     Hotels  Mableton      US  45.421611  12.376187   \n",
       "1  Riviera San Nicol 11/a     Hotels  Mableton      US  45.421611  12.376187   \n",
       "2  Riviera San Nicol 11/a     Hotels  Mableton      US  45.421611  12.376187   \n",
       "3  Riviera San Nicol 11/a     Hotels  Mableton      US  45.421611  12.376187   \n",
       "4  Riviera San Nicol 11/a     Hotels  Mableton      US  45.421611  12.376187   \n",
       "\n",
       "                 name postalCode province          reviews.date  \\\n",
       "0  Hotel Russo Palace      30126       GA  2013-09-22T00:00:00Z   \n",
       "1  Hotel Russo Palace      30126       GA  2015-04-03T00:00:00Z   \n",
       "2  Hotel Russo Palace      30126       GA  2014-05-13T00:00:00Z   \n",
       "3  Hotel Russo Palace      30126       GA  2013-10-27T00:00:00Z   \n",
       "4  Hotel Russo Palace      30126       GA  2015-03-05T00:00:00Z   \n",
       "\n",
       "      reviews.dateAdded  reviews.doRecommend  reviews.id  reviews.rating  \\\n",
       "0  2016-10-24T00:00:25Z                  NaN         NaN             4.0   \n",
       "1  2016-10-24T00:00:25Z                  NaN         NaN             5.0   \n",
       "2  2016-10-24T00:00:25Z                  NaN         NaN             5.0   \n",
       "3  2016-10-24T00:00:25Z                  NaN         NaN             5.0   \n",
       "4  2016-10-24T00:00:25Z                  NaN         NaN             5.0   \n",
       "\n",
       "                                        reviews.text  \\\n",
       "0  Pleasant 10 min walk along the sea front to th...   \n",
       "1  Really lovely hotel. Stayed on the very top fl...   \n",
       "2  Ett mycket bra hotell. Det som drog ner betyge...   \n",
       "3  We stayed here for four nights in October. The...   \n",
       "4  We stayed here for four nights in October. The...   \n",
       "\n",
       "                                       reviews.title reviews.userCity  \\\n",
       "0                 Good location away from the crouds              NaN   \n",
       "1                     Great hotel with Jacuzzi bath!              NaN   \n",
       "2                                    Lugnt lÀ_À_ge              NaN   \n",
       "3                         Good location on the Lido.              NaN   \n",
       "4  À_À_À_À_À_À_ À_À_À_À_À_À_À_À_À_...              NaN   \n",
       "\n",
       "  reviews.username reviews.userProvince  \n",
       "0      Russ (kent)                  NaN  \n",
       "1       A Traveler                  NaN  \n",
       "2             Maud                  NaN  \n",
       "3            Julie                  NaN  \n",
       "4         sungchul                  NaN  "
      ]
     },
     "execution_count": 3,
     "metadata": {},
     "output_type": "execute_result"
    }
   ],
   "source": [
    "data.head()"
   ]
  },
  {
   "cell_type": "code",
   "execution_count": 4,
   "metadata": {},
   "outputs": [
    {
     "name": "stdout",
     "output_type": "stream",
     "text": [
      "<class 'pandas.core.frame.DataFrame'>\n",
      "RangeIndex: 35912 entries, 0 to 35911\n",
      "Data columns (total 19 columns):\n",
      "address                 35912 non-null object\n",
      "categories              35912 non-null object\n",
      "city                    35912 non-null object\n",
      "country                 35912 non-null object\n",
      "latitude                35826 non-null float64\n",
      "longitude               35826 non-null float64\n",
      "name                    35912 non-null object\n",
      "postalCode              35857 non-null object\n",
      "province                35912 non-null object\n",
      "reviews.date            35653 non-null object\n",
      "reviews.dateAdded       35912 non-null object\n",
      "reviews.doRecommend     0 non-null float64\n",
      "reviews.id              0 non-null float64\n",
      "reviews.rating          35050 non-null float64\n",
      "reviews.text            35890 non-null object\n",
      "reviews.title           34290 non-null object\n",
      "reviews.userCity        16263 non-null object\n",
      "reviews.username        35869 non-null object\n",
      "reviews.userProvince    17518 non-null object\n",
      "dtypes: float64(5), object(14)\n",
      "memory usage: 5.2+ MB\n"
     ]
    }
   ],
   "source": [
    "data.info()"
   ]
  },
  {
   "cell_type": "markdown",
   "metadata": {},
   "source": [
    "## Data wrangling and cleaning\n",
    "\n",
    "First, those reviews which do not show a rating will be dropped since they do not help us in establishing the ground truth for the sentiment associated with the review. \n",
    "\n",
    "As a starting point, reviews rated as 5 or higher will be considered positive while those rated below 4 will be considered as negative. From this, we can see that negative reviews outnumber positive ones. We will keep this in mind for considering techniques to deal with imbalanced data. \n",
    "\n",
    "Then, we move on to cleaning the text: make sure that reviews are strings, convert them to lower case and delete non alphanumerical characters. \n",
    "\n",
    "Then, we are ready to split the data into train and test sets. In the next step, we fit and transform each review in the train set into a numerical vector having as features each each word (attested at least two times) and contiguous sequences of two words (bigrams). Then, this matrix is further fitted and transformed via tf-idf transformer. A similar process is applied to the test data with the difference that only the transformations are applied; the fitting step is skipped since the same fitting of the train data is used in order to allow for the same set of features (words and bigrams) in both train and test samples. During this process of fitting and transformation, stopwords were also removed."
   ]
  },
  {
   "cell_type": "code",
   "execution_count": 5,
   "metadata": {
    "collapsed": true
   },
   "outputs": [],
   "source": [
    "# Drop null values of ratings\n",
    "data = data[data['reviews.rating'].notnull()]"
   ]
  },
  {
   "cell_type": "code",
   "execution_count": 6,
   "metadata": {
    "collapsed": true
   },
   "outputs": [],
   "source": [
    "# Create column with binary values for sentiment\n",
    "data[\"sentiment\"] = [1 if x >= 5 else 0 for x in data['reviews.rating']]"
   ]
  },
  {
   "cell_type": "code",
   "execution_count": 7,
   "metadata": {},
   "outputs": [
    {
     "data": {
      "text/plain": [
       "Text(0.5,1,\"Hotel review sentiment (1 = 'positive')\")"
      ]
     },
     "execution_count": 7,
     "metadata": {},
     "output_type": "execute_result"
    },
    {
     "data": {
      "image/png": "[encoded data removed]",
      "text/plain": [
       "<matplotlib.figure.Figure at 0x111de1b38>"
      ]
     },
     "metadata": {},
     "output_type": "display_data"
    }
   ],
   "source": [
    "data.sentiment.value_counts().plot(kind='bar')\n",
    "plt.title(\"Hotel review sentiment (1 = 'positive')\")"
   ]
  },
  {
   "cell_type": "code",
   "execution_count": 8,
   "metadata": {
    "collapsed": true
   },
   "outputs": [],
   "source": [
    "# Cleaning text\n",
    "def clean(review):\n",
    "        review = str(review)\n",
    "        review = str(review.lower())  # Lower case\n",
    "        review = re.compile('[^a-z]+').sub(' ', str(review)).strip() # Remove non alphabetical numbers\n",
    "        return review\n",
    "\n",
    "# Add column review cleaned    \n",
    "data['review_cleaned'] = [clean(x) for x in data['reviews.text']]"
   ]
  },
  {
   "cell_type": "code",
   "execution_count": 9,
   "metadata": {},
   "outputs": [
    {
     "name": "stdout",
     "output_type": "stream",
     "text": [
      "Pleasant 10 min walk along the sea front to the Water Bus. restaurants etc. Hotel was comfortable breakfast was good - quite a variety. Room aircon didn't work very well. Take mosquito repelant!\n",
      "-----------\n",
      "pleasant min walk along the sea front to the water bus restaurants etc hotel was comfortable breakfast was good quite a variety room aircon didn t work very well take mosquito repelant\n"
     ]
    }
   ],
   "source": [
    "# Sanity check\n",
    "print(data['reviews.text'][0])\n",
    "print('-----------')\n",
    "print(data['review_cleaned'][0])"
   ]
  },
  {
   "cell_type": "code",
   "execution_count": 10,
   "metadata": {},
   "outputs": [
    {
     "name": "stdout",
     "output_type": "stream",
     "text": [
      "28040\n",
      "7010\n"
     ]
    }
   ],
   "source": [
    "# Split dataset into train and test\n",
    "data_senti = data[[\"sentiment\" , \"review_cleaned\"]]\n",
    "train = data_senti.sample(frac=0.8,random_state=200)\n",
    "test = data_senti.drop(train.index)\n",
    "\n",
    "print(len(train))\n",
    "print(len(test))"
   ]
  },
  {
   "cell_type": "code",
   "execution_count": 11,
   "metadata": {
    "collapsed": true
   },
   "outputs": [],
   "source": [
    "# Call up stopwords\n",
    "stopwords = STOPWORDS\n",
    "stopwords.remove('not')\n",
    "stopwords.remove('no')"
   ]
  },
  {
   "cell_type": "code",
   "execution_count": 12,
   "metadata": {
    "collapsed": true
   },
   "outputs": [],
   "source": [
    "# Vectorize reviews for classification: random forest, linear regression, SVM, BernouliNB, etc\n",
    "\n",
    "# Call tfidf vectorizer, fit and transform the data \n",
    "count_vect = CountVectorizer(min_df = 2, stop_words = stopwords , ngram_range = (1,2))\n",
    "tfidf_transformer = TfidfTransformer()\n",
    "\n",
    "X_train_counts = count_vect.fit_transform(train[\"review_cleaned\"])        \n",
    "X_train_tfidf = tfidf_transformer.fit_transform(X_train_counts)\n",
    "\n",
    "X_test_counts = count_vect.transform(test[\"review_cleaned\"])        \n",
    "X_test_tfidf = tfidf_transformer.transform(X_test_counts)\n",
    "\n",
    "#tfidf_vect = TfidfVectorizer(min_df = 2, stop_words = stopwords, ngram_range=(1, 2))\n",
    "#X_train_tfidf = tfidf_vect.fit_transform(train['review_cleaned'])\n",
    "#X_test_tfidf = tfidf_vect.fit_transform(test['review_cleaned'])\n",
    "\n",
    "y_train = train['sentiment']\n",
    "y_test = test['sentiment']"
   ]
  },
  {
   "cell_type": "code",
   "execution_count": 13,
   "metadata": {},
   "outputs": [
    {
     "name": "stdout",
     "output_type": "stream",
     "text": [
      "X_train: (28040, 89627)\n",
      "y_train: (28040,)\n",
      "X_test: (7010, 89627)\n",
      "y_test: (7010,)\n"
     ]
    }
   ],
   "source": [
    "# Evaluate dimensionality\n",
    "print('X_train:', X_train_tfidf.shape)\n",
    "print('y_train:', y_train.shape)\n",
    "print('X_test:', X_test_tfidf.shape)\n",
    "print('y_test:', y_test.shape)"
   ]
  },
  {
   "cell_type": "markdown",
   "metadata": {},
   "source": [
    "## Training the model\n",
    "\n",
    "Given that we are trying to predict whether the review was positive or negative, this involves a binary classification task. Since there is a variety of classifiers for this task with different strengths and weakneses, we attempt to try some of them and compare their performace. Here we will be testing the following classifiers: Logistic Regression, Multinomial N(aive) B(ayes), Bernoulli N(aive) B(ayes), Random Forest, KNeighbors classifier, and SVC. \n",
    "\n",
    "Notice that the KNeighbors and SVC models were run but they were discarded from further use because their performance was lower than the other classifiers and, most importantly for exposition purposes, they had a runtime of approximately 14 hours.  \n",
    "\n",
    "These classifiers will be evaluated with regard to their accuracy in both the train and test data, prediction accuracy and log loss. A dataframe is created to store this information and another dataframe to contain the review predictions for each classifier. \n",
    "\n",
    "After running the models, we find that the BernoulliNB classifier obtains the highest performance: 75.69%. Since we are working with imbalanced data, accuracy may not be the best metric for this problem. Given that we are interested on whether the review was classified as positive or negative, we will use the ROC AUC as a secondary metric. Here, the BernoulliNB classifier also shows the highest performance:  ROC AUC: 0.77. "
   ]
  },
  {
   "cell_type": "code",
   "execution_count": 14,
   "metadata": {
    "collapsed": true
   },
   "outputs": [],
   "source": [
    "classifiers = [linear_model.LogisticRegression(solver='lbfgs' , C=10000), \n",
    "              MultinomialNB(), \n",
    "              BernoulliNB(), \n",
    "              RandomForestClassifier(n_estimators=20, max_depth=30, random_state=30)]"
   ]
  },
  {
   "cell_type": "code",
   "execution_count": 15,
   "metadata": {
    "collapsed": true
   },
   "outputs": [],
   "source": [
    "# Define a function for classifiers without KNeighbors and SVC because they do not perform well for this project\n",
    "# and they take very long to run\n",
    "\n",
    "# Define a function to run the classifiers\n",
    "def run_classifiers(X_train, X_test, y_train, y_test, classifiers):\n",
    "    # Create a dataframe with results\n",
    "    results_cols = ['Classifier', 'Train score', 'Test score', 'Accuracy', 'Log Loss']\n",
    "    results = pd.DataFrame(columns = results_cols)\n",
    "\n",
    "    predictions_cols = [x.__class__.__name__ for x in classifiers]\n",
    "    global predictions\n",
    "    predictions = pd.DataFrame()\n",
    "\n",
    "    for clf in classifiers:\n",
    "        clf.fit(X_train, y_train)\n",
    "    \n",
    "        name = clf.__class__.__name__\n",
    "    \n",
    "        print('='*30)\n",
    "        print(name)\n",
    "    \n",
    "        print('**** Results ****')\n",
    "        train_score = clf.score(X_train, y_train)\n",
    "        test_score = clf.score(X_test, y_test)\n",
    "        print('Train score: {:.4%}'.format(train_score))\n",
    "        print('Test score: {:.4%}'.format(test_score))\n",
    "    \n",
    "        prediction = clf.predict(X_test)\n",
    "        acc = accuracy_score(y_test, prediction)\n",
    "        print(\"Accuracy: {:.4%}\".format(acc))\n",
    "        log_predictions = pd.DataFrame(prediction.tolist())\n",
    "        predictions = pd.concat([predictions, log_predictions], axis = 1)\n",
    "    \n",
    "    \n",
    "        try:\n",
    "            train_predictions = clf.predict_proba(X_test)\n",
    "            ll = log_loss(y_test, train_predictions)\n",
    "            print(\"Log Loss: {}\".format(ll))\n",
    "        except:\n",
    "            ll = 'Not applicable'\n",
    "    \n",
    "        #acc and ll have been removed\n",
    "        log_entry = pd.DataFrame([[name, train_score, test_score, acc, ll]], columns = results_cols)\n",
    "        results = results.append(log_entry)\n",
    "        \n",
    "    # Get results in one view\n",
    "    print(results.head())\n",
    "    predictions.columns = predictions_cols\n",
    "    print('*' * 40)\n",
    "    print(predictions.head())\n",
    "    \n",
    "    \n",
    "    # ROC curve\n",
    "    cmp = 0\n",
    "    colors = ['b', 'g', 'y', 'm']\n",
    "    for model, predict in predictions.items():\n",
    "        false_positive_rate, true_positive_rate, thresholds = roc_curve(y_test, predict)\n",
    "        roc_auc = auc(false_positive_rate, true_positive_rate)\n",
    "        plt.plot(false_positive_rate, true_positive_rate, colors[cmp], label='%s: AUC %0.2f'% (model,roc_auc))\n",
    "        cmp += 1\n",
    "\n",
    "    plt.title('Classifiers  ROC AUC')\n",
    "    plt.xlabel('False positive rate')\n",
    "    plt.ylabel('True positive rate')\n",
    "    plt.legend(loc='lower right')\n",
    "    plt.plot([0,1],[0,1],'r--')\n",
    "    plt.show()"
   ]
  },
  {
   "cell_type": "code",
   "execution_count": 16,
   "metadata": {},
   "outputs": [
    {
     "name": "stdout",
     "output_type": "stream",
     "text": [
      "==============================\n",
      "LogisticRegression\n",
      "**** Results ****\n",
      "Train score: 98.0884%\n",
      "Test score: 73.1954%\n",
      "Accuracy: 73.1954%\n",
      "Log Loss: 1.599029948996817\n",
      "==============================\n",
      "MultinomialNB\n",
      "**** Results ****\n",
      "Train score: 83.4629%\n",
      "Test score: 74.2939%\n",
      "Accuracy: 74.2939%\n",
      "Log Loss: 0.49556609892741993\n",
      "==============================\n",
      "BernoulliNB\n",
      "**** Results ****\n",
      "Train score: 82.7960%\n",
      "Test score: 75.6919%\n",
      "Accuracy: 75.6919%\n",
      "Log Loss: 1.461166745324262\n",
      "==============================\n",
      "RandomForestClassifier\n",
      "**** Results ****\n",
      "Train score: 72.3502%\n",
      "Test score: 66.8616%\n",
      "Accuracy: 66.8616%\n",
      "Log Loss: 0.5856102467161411\n",
      "               Classifier  Train score  Test score  Accuracy  Log Loss\n",
      "0      LogisticRegression     0.980884    0.731954  0.731954  1.599030\n",
      "0           MultinomialNB     0.834629    0.742939  0.742939  0.495566\n",
      "0             BernoulliNB     0.827960    0.756919  0.756919  1.461167\n",
      "0  RandomForestClassifier     0.723502    0.668616  0.668616  0.585610\n",
      "****************************************\n",
      "   LogisticRegression  MultinomialNB  BernoulliNB  RandomForestClassifier\n",
      "0                   0              0            1                       0\n",
      "1                   0              0            1                       0\n",
      "2                   0              1            1                       1\n",
      "3                   0              1            1                       1\n",
      "4                   1              0            0                       0\n"
     ]
    },
    {
     "data": {
      "image/png": "[encoded data removed]",
      "text/plain": [
       "<matplotlib.figure.Figure at 0x106e559e8>"
      ]
     },
     "metadata": {},
     "output_type": "display_data"
    }
   ],
   "source": [
    "# Run classifiers\n",
    "run_classifiers(X_train_tfidf, X_test_tfidf, y_train, y_test, classifiers)"
   ]
  },
  {
   "cell_type": "code",
   "execution_count": null,
   "metadata": {
    "collapsed": true
   },
   "outputs": [],
   "source": []
  },
  {
   "cell_type": "markdown",
   "metadata": {},
   "source": [
    "### Change the threshold for review sentiment\n",
    "\n",
    "When providing feedback on a social platform, users sometimes avoid giving a strong rating. That is, we find that a number of users do not use the rating scale fully, but they refrain from grating a 10 or 0 rating in a 10-based scale. In order to account for this phenomenon, here we will adjust the threshold for assigning a review as positive or negative in order to capture the most polarized sentiment in these reviews: ratings equal or higher than 6 will be classify as positive and ratings equal or smaller than 3 will be classified as negative. \n",
    "\n",
    "Notice the highly imbalanced data obtained with a strong bias towards the negative class. In order to account for this, we will upsample the positive class and downsample the negative class to make them each having 1500 samples.\n",
    "\n",
    "After this step, the same modeling steps as in the previous section will be followed. \n",
    "\n",
    "Notice that all these models seem to perform very well, higher than 90% each. This is a little bit too suspicious compared to the previous models. One reason for this very high performance could be related to the resampling of the data, especially the relatively large oversampling and downsampling. This, in turn, may have had the effect of refucing the variability in the data making it more prone to overfitting, especially when the test set comes from the resampled data. Another possibility is that the models are actually picking up a signal now that the rating threshold has change. We will keep under consideration as we evaluate additional methods."
   ]
  },
  {
   "cell_type": "code",
   "execution_count": 17,
   "metadata": {},
   "outputs": [
    {
     "name": "stdout",
     "output_type": "stream",
     "text": [
      "None    22605\n",
      "0       12103\n",
      "1         342\n",
      "Name: sentiment_conservative, dtype: int64\n",
      "12445\n",
      "0    12103\n",
      "1      342\n",
      "Name: sentiment_conservative, dtype: int64\n"
     ]
    }
   ],
   "source": [
    "# Reorganize the data into positive and negative reviews with a more conservative margin\n",
    "# Positive => 7; Negative =< 3\n",
    "\n",
    "# Create column with binary values for sentiment\n",
    "data[\"sentiment_conservative\"] = [1 if x >= 6 else 0 if x <= 3 else 'None' for x in data['reviews.rating']]\n",
    "print(data['sentiment_conservative'].value_counts()) \n",
    "\n",
    "# Create data_cs with only the positive and negative values \n",
    "data_cs = data.loc[data['sentiment_conservative'].isin([1,0])]\n",
    "print(len(data_cs))\n",
    "print(data_cs['sentiment_conservative'].value_counts())"
   ]
  },
  {
   "cell_type": "code",
   "execution_count": 18,
   "metadata": {
    "collapsed": true
   },
   "outputs": [],
   "source": [
    "# Resampling: upsampling and downsampling\n",
    "\n",
    "# Separate the classes\n",
    "positive_cs = data_cs[data_cs.sentiment_conservative == 1]\n",
    "negative_cs = data_cs[data_cs.sentiment_conservative != 1]\n",
    "\n",
    "# Perform up and downsampling\n",
    "positive_cs_upsample = resample(positive_cs, replace=True, n_samples=1500, random_state=123)\n",
    "negative_cs_downsample = resample(negative_cs, replace=False, n_samples=1500, random_state=123)\n",
    "\n",
    "# Concatenate the resampled dataframes\n",
    "data_cs_resampled = pd.concat([positive_cs_upsample, negative_cs_downsample])\n",
    "\n",
    "# Split dataset into train and test\n",
    "data_senti_cs_resampled = data_cs_resampled[[\"sentiment_conservative\" , \"review_cleaned\"]] # dataframe with only 2 columns\n",
    "train_cs_resampled = data_senti_cs_resampled.sample(frac=0.8,random_state=200)\n",
    "test_cs_resampled = data_senti_cs_resampled.drop(train.index)"
   ]
  },
  {
   "cell_type": "code",
   "execution_count": 19,
   "metadata": {
    "collapsed": true
   },
   "outputs": [],
   "source": [
    "# Vectorize reviews from resampled dataset\n",
    "count_vect = CountVectorizer(min_df = 2, stop_words = stopwords , ngram_range = (1,2)) # Reset CountVectorizer\n",
    "tfidf_transformer = TfidfTransformer()                                                 # Reset TfidfTransformer\n",
    "\n",
    "X_train_counts_cs_resampled = count_vect.fit_transform(train_cs_resampled[\"review_cleaned\"])        \n",
    "X_train_tfidf_cs_resampled = tfidf_transformer.fit_transform(X_train_counts_cs_resampled)\n",
    "\n",
    "X_test_counts_cs_resampled = count_vect.transform(test_cs_resampled[\"review_cleaned\"])        \n",
    "X_test_tfidf_cs_resampled = tfidf_transformer.transform(X_test_counts_cs_resampled)\n",
    "\n",
    "y_train_cs_resampled = train_cs_resampled['sentiment_conservative'].astype('int')\n",
    "y_test_cs_resampled = test_cs_resampled['sentiment_conservative'].astype('int')"
   ]
  },
  {
   "cell_type": "code",
   "execution_count": 20,
   "metadata": {},
   "outputs": [
    {
     "name": "stdout",
     "output_type": "stream",
     "text": [
      "==============================\n",
      "LogisticRegression\n",
      "**** Results ****\n",
      "Train score: 99.9583%\n",
      "Test score: 99.3092%\n",
      "Accuracy: 99.3092%\n",
      "Log Loss: 0.015718726019979153\n",
      "==============================\n",
      "MultinomialNB\n",
      "**** Results ****\n",
      "Train score: 98.1667%\n",
      "Test score: 97.4093%\n",
      "Accuracy: 97.4093%\n",
      "Log Loss: 0.1624447931612195\n",
      "==============================\n",
      "BernoulliNB\n",
      "**** Results ****\n",
      "Train score: 90.7500%\n",
      "Test score: 91.3644%\n",
      "Accuracy: 91.3644%\n",
      "Log Loss: 0.35380962933480803\n",
      "==============================\n",
      "RandomForestClassifier\n",
      "**** Results ****\n",
      "Train score: 96.8333%\n",
      "Test score: 94.1278%\n",
      "Accuracy: 94.1278%\n",
      "Log Loss: 0.31145346835904997\n",
      "               Classifier  Train score  Test score  Accuracy  Log Loss\n",
      "0      LogisticRegression     0.999583    0.993092  0.993092  0.015719\n",
      "0           MultinomialNB     0.981667    0.974093  0.974093  0.162445\n",
      "0             BernoulliNB     0.907500    0.913644  0.913644  0.353810\n",
      "0  RandomForestClassifier     0.968333    0.941278  0.941278  0.311453\n",
      "****************************************\n",
      "   LogisticRegression  MultinomialNB  BernoulliNB  RandomForestClassifier\n",
      "0                   1              1            1                       1\n",
      "1                   1              1            0                       0\n",
      "2                   1              1            0                       1\n",
      "3                   1              1            1                       1\n",
      "4                   1              1            1                       1\n"
     ]
    },
    {
     "data": {
      "image/png": "[encoded data removed]",
      "text/plain": [
       "<matplotlib.figure.Figure at 0x11474a128>"
      ]
     },
     "metadata": {},
     "output_type": "display_data"
    }
   ],
   "source": [
    "# Run the classifiers\n",
    "run_classifiers(X_train_tfidf_cs_resampled, X_test_tfidf_cs_resampled, y_train_cs_resampled, y_test_cs_resampled, classifiers)"
   ]
  },
  {
   "cell_type": "code",
   "execution_count": null,
   "metadata": {
    "collapsed": true
   },
   "outputs": [],
   "source": []
  },
  {
   "cell_type": "markdown",
   "metadata": {},
   "source": [
    "### Neural network analysis\n",
    "\n",
    "An alternative to the models analyzed above is to use neural networks to predict the class of the review. In this section, we explored neural networks with different levels of complexity in order to search for a model with better performance than the algorithms created earlier. Since we are dealing with textual data that has been transformed into a numerical representation, it is possible that the neural network identifies certain patterns (in the hidden) layers that are not available to the other classifiers and thus enhance its performance. Notice that for this initial step of testing neural networks, the threshold for hotel reviews is: negative equal or less than 5 and positive everyting else. \n",
    "\n",
    "Notice that the three neural networks models tried here produce results less accurate than the BernoulliNB (75%) classifier. Possibly, making the neural network more complex in terms of the number of hidden layers and nodes within them could improve the model's performance. However, we will refrain from that approach here because that will make the models runtime much longer ( > 12 hours). \n",
    "\n",
    "Instead, different tokenization methods for the text data such as binary and frequency will be explored. The rationale behind this is that the way in which the text data is transformed into a numerical vector may play an important role in making the signal stronger. \n",
    "\n",
    "With a simple neural network of one hidden layers and 100 nodes, none of the tokenization methods tried (binary, frequency, count, tf-idf) showed a performance higher than the BernoulliNB classifier. Again, as in the previous trial, increasing the model's complexity could  improve performance but be much costly in terms of runtime. Instead of doing that, feature engineering will be explored instead. "
   ]
  },
  {
   "cell_type": "code",
   "execution_count": 21,
   "metadata": {},
   "outputs": [
    {
     "name": "stderr",
     "output_type": "stream",
     "text": [
      "Using TensorFlow backend.\n"
     ]
    },
    {
     "name": "stdout",
     "output_type": "stream",
     "text": [
      "(35050, 110680)\n",
      "(35050, 2)\n",
      "<class 'scipy.sparse.csr.csr_matrix'>\n",
      "<class 'numpy.matrixlib.defmatrix.matrix'>\n"
     ]
    }
   ],
   "source": [
    "# Neural network analysis\n",
    "\n",
    "# Pre_process data\n",
    "# Note this data has 1 for reviews >=5 and 0 for everyting lower\n",
    "\n",
    "# Convert target data into categorical and then to a matrix\n",
    "from keras.utils import to_categorical\n",
    "\n",
    "y_nn = to_categorical(data_senti.sentiment)\n",
    "y_nn = np.asmatrix(y_nn)\n",
    "\n",
    "# Create data for variable X\n",
    "X_nn = data_senti.review_cleaned\n",
    "X_nn = count_vect.fit_transform(X_nn)        \n",
    "X_nn = tfidf_transformer.fit_transform(X_nn)\n",
    "\n",
    "print(X_nn.shape)\n",
    "print(y_nn.shape)\n",
    "print(type(X_nn))\n",
    "print(type(y_nn))"
   ]
  },
  {
   "cell_type": "code",
   "execution_count": 22,
   "metadata": {},
   "outputs": [
    {
     "name": "stdout",
     "output_type": "stream",
     "text": [
      "Train on 26287 samples, validate on 8763 samples\n",
      "Epoch 1/20\n",
      "26287/26287 [==============================] - 120s 5ms/step - loss: 0.4935 - acc: 0.7542 - val_loss: 0.4912 - val_acc: 0.7500\n",
      "Epoch 2/20\n",
      "26287/26287 [==============================] - 138s 5ms/step - loss: 0.2397 - acc: 0.8993 - val_loss: 0.6016 - val_acc: 0.7324\n",
      "Epoch 3/20\n",
      "26287/26287 [==============================] - 154s 6ms/step - loss: 0.1052 - acc: 0.9545 - val_loss: 0.7431 - val_acc: 0.7204\n"
     ]
    },
    {
     "data": {
      "text/plain": [
       "<keras.callbacks.History at 0x11180f908>"
      ]
     },
     "execution_count": 22,
     "metadata": {},
     "output_type": "execute_result"
    }
   ],
   "source": [
    "# Create a simple neural network\n",
    "import keras\n",
    "from keras.layers import Dense\n",
    "from keras.models import Sequential\n",
    "from keras.callbacks import EarlyStopping\n",
    "\n",
    "input_shape = X_nn.shape[1]\n",
    "early_stopping_monitor = EarlyStopping(patience=2)  # Stop after two epochs without any improvement in the model's performance\n",
    "\n",
    "# Neural network with one hidden layer and 100 nodes\n",
    "model = Sequential()\n",
    "model.add(Dense(100, activation='relu', input_shape=(input_shape, ))) #Input shape: number of columns of X\n",
    "model.add(Dense(2, activation='softmax'))\n",
    "model.compile(optimizer='adam', loss='categorical_crossentropy', metrics=['accuracy'])\n",
    "model.fit(X_nn, y_nn, validation_split=0.25, epochs=20, callbacks=[early_stopping_monitor])"
   ]
  },
  {
   "cell_type": "code",
   "execution_count": 23,
   "metadata": {},
   "outputs": [
    {
     "name": "stdout",
     "output_type": "stream",
     "text": [
      "Train on 26287 samples, validate on 8763 samples\n",
      "Epoch 1/20\n",
      "26287/26287 [==============================] - 127s 5ms/step - loss: 0.4900 - acc: 0.7516 - val_loss: 0.4923 - val_acc: 0.7471\n",
      "Epoch 2/20\n",
      "26287/26287 [==============================] - 144s 5ms/step - loss: 0.2137 - acc: 0.9072 - val_loss: 0.6393 - val_acc: 0.7248\n",
      "Epoch 3/20\n",
      "26287/26287 [==============================] - 149s 6ms/step - loss: 0.0951 - acc: 0.9550 - val_loss: 0.9345 - val_acc: 0.7201\n"
     ]
    },
    {
     "data": {
      "text/plain": [
       "<keras.callbacks.History at 0x12302ba90>"
      ]
     },
     "execution_count": 23,
     "metadata": {},
     "output_type": "execute_result"
    }
   ],
   "source": [
    "# Neural netwrok with two hidden layers (100 nodes each)\n",
    "model_2 = Sequential()\n",
    "model_2.add(Dense(100, activation='relu', input_shape=(input_shape, ))) #Input shape: number of columns of X\n",
    "model_2.add(Dense(100, activation='relu'))\n",
    "model_2.add(Dense(2, activation='softmax'))\n",
    "model_2.compile(optimizer='adam', loss='categorical_crossentropy', metrics=['accuracy'])\n",
    "model_2.fit(X_nn, y_nn, validation_split=0.25, epochs=20, callbacks=[early_stopping_monitor])"
   ]
  },
  {
   "cell_type": "code",
   "execution_count": 24,
   "metadata": {},
   "outputs": [
    {
     "name": "stdout",
     "output_type": "stream",
     "text": [
      "Train on 26287 samples, validate on 8763 samples\n",
      "Epoch 1/20\n",
      "26287/26287 [==============================] - 303s 12ms/step - loss: 0.4887 - acc: 0.7535 - val_loss: 0.4941 - val_acc: 0.7510\n",
      "Epoch 2/20\n",
      "26287/26287 [==============================] - 324s 12ms/step - loss: 0.2266 - acc: 0.9013 - val_loss: 0.6180 - val_acc: 0.7256\n",
      "Epoch 3/20\n",
      "26287/26287 [==============================] - 313s 12ms/step - loss: 0.1013 - acc: 0.9529 - val_loss: 0.7988 - val_acc: 0.7225\n"
     ]
    },
    {
     "data": {
      "text/plain": [
       "<keras.callbacks.History at 0x1141c2470>"
      ]
     },
     "execution_count": 24,
     "metadata": {},
     "output_type": "execute_result"
    }
   ],
   "source": [
    "# Model 3: 1 hidden layer, 250 nodes\n",
    "model_3 = Sequential()\n",
    "model_3.add(Dense(250, activation='relu', input_shape=(input_shape, ))) #Input shape: number of columns of X\n",
    "model_3.add(Dense(2, activation='softmax'))\n",
    "model_3.compile(optimizer='adam', loss='categorical_crossentropy', metrics=['accuracy'])\n",
    "model_3.fit(X_nn, y_nn, validation_split=0.25, epochs=20, callbacks=[early_stopping_monitor])"
   ]
  },
  {
   "cell_type": "code",
   "execution_count": 25,
   "metadata": {
    "collapsed": true
   },
   "outputs": [],
   "source": [
    "### Neural networks second part - tokenization\n",
    "\n",
    "# Import keras tokenizer\n",
    "from keras.preprocessing.text import Tokenizer\n",
    "\n",
    "def nn_tokenizer(data, mode):\n",
    "    '''Define function to convert X text data into numerical data though different tokenization modes'''\n",
    "    tokenizer = Tokenizer()\n",
    "    tokenizer.fit_on_texts(data)\n",
    "    X_nn = tokenizer.texts_to_matrix(data, mode=mode)\n",
    "    return X_nn"
   ]
  },
  {
   "cell_type": "code",
   "execution_count": 26,
   "metadata": {
    "collapsed": true
   },
   "outputs": [],
   "source": [
    "# Define a simple model for neural network\n",
    "\n",
    "def snn_model(X, y, input_shape):\n",
    "    '''Define a model, compile and fit it: return accuracy scores'''\n",
    "    model = Sequential()\n",
    "    model.add(Dense(100, activation='relu', input_shape=(input_shape, ))) #Input shape: number of columns of X\n",
    "    model.add(Dense(2, activation='softmax'))\n",
    "    \n",
    "    model.compile(optimizer='adam', loss='categorical_crossentropy', metrics=['accuracy'])\n",
    "    \n",
    "    history = model.fit(X, y, validation_split=0.25, epochs=20, callbacks=[early_stopping_monitor], verbose=2)\n",
    "    scores.append(history.history.keys())"
   ]
  },
  {
   "cell_type": "code",
   "execution_count": 27,
   "metadata": {},
   "outputs": [
    {
     "name": "stdout",
     "output_type": "stream",
     "text": [
      "Train on 26287 samples, validate on 8763 samples\n",
      "Epoch 1/20\n",
      " - 38s - loss: 0.4901 - acc: 0.7609 - val_loss: 0.4955 - val_acc: 0.7532\n",
      "Epoch 2/20\n",
      " - 49s - loss: 0.3733 - acc: 0.8256 - val_loss: 0.5287 - val_acc: 0.7461\n",
      "Epoch 3/20\n",
      " - 47s - loss: 0.2813 - acc: 0.8734 - val_loss: 0.6110 - val_acc: 0.7362\n",
      "Train on 26287 samples, validate on 8763 samples\n",
      "Epoch 1/20\n",
      " - 38s - loss: 0.4901 - acc: 0.7611 - val_loss: 0.4918 - val_acc: 0.7561\n",
      "Epoch 2/20\n",
      " - 36s - loss: 0.3741 - acc: 0.8244 - val_loss: 0.5224 - val_acc: 0.7468\n",
      "Epoch 3/20\n",
      " - 38s - loss: 0.2772 - acc: 0.8786 - val_loss: 0.5879 - val_acc: 0.7403\n",
      "Train on 26287 samples, validate on 8763 samples\n",
      "Epoch 1/20\n",
      " - 40s - loss: 0.4992 - acc: 0.7578 - val_loss: 0.4987 - val_acc: 0.7497\n",
      "Epoch 2/20\n",
      " - 38s - loss: 0.3293 - acc: 0.8479 - val_loss: 0.5821 - val_acc: 0.7402\n",
      "Epoch 3/20\n",
      " - 35s - loss: 0.2196 - acc: 0.9052 - val_loss: 0.7039 - val_acc: 0.7307\n",
      "Train on 26287 samples, validate on 8763 samples\n",
      "Epoch 1/20\n",
      " - 38s - loss: 0.5482 - acc: 0.7162 - val_loss: 0.5241 - val_acc: 0.7419\n",
      "Epoch 2/20\n",
      " - 33s - loss: 0.4501 - acc: 0.7918 - val_loss: 0.5225 - val_acc: 0.7525\n",
      "Epoch 3/20\n",
      " - 33s - loss: 0.4040 - acc: 0.8170 - val_loss: 0.5387 - val_acc: 0.7483\n",
      "Epoch 4/20\n",
      " - 40s - loss: 0.3697 - acc: 0.8329 - val_loss: 0.5631 - val_acc: 0.7434\n"
     ]
    }
   ],
   "source": [
    "# Define different modes\n",
    "modes = ['binary', 'count', 'tfidf', 'freq']\n",
    "\n",
    "# Define list of scores to record the results\n",
    "scores = []\n",
    "\n",
    "# Run the different methods and score the scores\n",
    "\n",
    "for mode in modes:\n",
    "    X_nn = nn_tokenizer(data_senti.review_cleaned, mode)\n",
    "    input_shape = X_nn.shape[1] \n",
    "    snn_model(X_nn, y_nn, input_shape=input_shape)"
   ]
  },
  {
   "cell_type": "markdown",
   "metadata": {},
   "source": []
  },
  {
   "cell_type": "markdown",
   "metadata": {},
   "source": [
    "## Part of speech tagging\n",
    "\n",
    "In this section, we will develop a feature that relates each individual word item in the text reviews and associates it with a part of speech (pos) tag, e.g. noun or verb. The rationale behind this is to disambiguate or distinguish the meaning associated with the same form of a word but that plays a different function in a context depending on its part of speech. Thus, this feature allows us to incorporate some of the contextual information in the analysis of the hotel reviews that otherwise was not available. This feature pos creates a column in which each word is associated with its corresponding part of speech into a single string for later vectorization. \n",
    "\n",
    "In adding this information, it is the BernoulliNB classifier that outperforms the rest. When comparing the results of the current model with that of the model without pos information, the former outperforms the latter by a couple of centesimal points. Thus, it is likely that adding the pos information helps into picking up a signal for distinguishing the classes. BEcause of this, we will keep this feature for further improvement. "
   ]
  },
  {
   "cell_type": "code",
   "execution_count": 28,
   "metadata": {},
   "outputs": [
    {
     "name": "stdout",
     "output_type": "stream",
     "text": [
      "pleasant min walk along the sea front to the water bus restaurants etc hotel was comfortable breakfast was good quite a variety room aircon didn t work very well take mosquito repelant\n",
      "==============================\n",
      "pleasant min walk along sea front water bus restaurants etc hotel comfortable breakfast good quite variety room aircon work well take mosquito repelant\n",
      "==============================\n",
      "[('pleasant', 'JJ'), ('min', 'NN'), ('walk', 'NN'), ('along', 'IN'), ('sea', 'NN'), ('front', 'JJ'), ('water', 'NN'), ('bus', 'NN'), ('restaurants', 'NNS'), ('etc', 'JJ'), ('hotel', 'NN'), ('comfortable', 'JJ'), ('breakfast', 'NN'), ('good', 'JJ'), ('quite', 'RB'), ('variety', 'NN'), ('room', 'NN'), ('aircon', 'NN'), ('work', 'NN'), ('well', 'RB'), ('take', 'VB'), ('mosquito', 'NN'), ('repelant', 'NN')]\n",
      "==============================\n",
      "['pleasantJJ', 'minNN', 'walkNN', 'alongIN', 'seaNN', 'frontJJ', 'waterNN', 'busNN', 'restaurantsNNS', 'etcJJ', 'hotelNN', 'comfortableJJ', 'breakfastNN', 'goodJJ', 'quiteRB', 'varietyNN', 'roomNN', 'airconNN', 'workNN', 'wellRB', 'takeVB', 'mosquitoNN', 'repelantNN']\n",
      "==============================\n",
      "pleasantJJ minNN walkNN alongIN seaNN frontJJ waterNN busNN restaurantsNNS etcJJ hotelNN comfortableJJ breakfastNN goodJJ quiteRB varietyNN roomNN airconNN workNN wellRB takeVB mosquitoNN repelantNN\n"
     ]
    }
   ],
   "source": [
    "# Add pos tagging to the bag of words\n",
    "from nltk import pos_tag\n",
    "from nltk.tokenize import word_tokenize\n",
    "from nltk.corpus import stopwords\n",
    "\n",
    "# Create column with cleaned text (str, lower case); tokenize it and add part of speech    \n",
    "data['pos'] = [clean(x) for x in data['reviews.text']]\n",
    "print(data['pos'][0])\n",
    "(print('=' * 30))\n",
    "\n",
    "# Remove stop words\n",
    "stoplist = set(stopwords.words('english'))\n",
    "data['pos'] = data['pos'].apply(lambda x: ' '.join([word for word in x.split() if word not in (stoplist)]))\n",
    "print(data['pos'][0])\n",
    "(print('=' * 30))\n",
    "\n",
    "# Tokenize and add part of speech\n",
    "data['pos'] = [pos_tag(word_tokenize(x)) for x in data['pos']]\n",
    "print(data['pos'][0])\n",
    "(print('=' * 30))\n",
    "\n",
    "# Join tuples into a single string for each row\n",
    "data['pos'] = [[''.join(tup) for tup in row] for row in data['pos']]\n",
    "print(data['pos'][0])\n",
    "(print('=' * 30))\n",
    "\n",
    "# Convert a list of strings into a single string\n",
    "data['pos'] = [' '.join(x) for x in data['pos']]\n",
    "print(data['pos'][0])"
   ]
  },
  {
   "cell_type": "code",
   "execution_count": 29,
   "metadata": {},
   "outputs": [
    {
     "name": "stdout",
     "output_type": "stream",
     "text": [
      "28040\n",
      "7010\n"
     ]
    }
   ],
   "source": [
    "# Split dataset into train and test\n",
    "data_pos = data[[\"sentiment\" , \"pos\"]]\n",
    "train_pos = data_pos.sample(frac=0.8,random_state=200)\n",
    "test_pos = data_pos.drop(train_pos.index)\n",
    "\n",
    "print(len(train_pos))\n",
    "print(len(test_pos))"
   ]
  },
  {
   "cell_type": "code",
   "execution_count": 30,
   "metadata": {},
   "outputs": [
    {
     "name": "stdout",
     "output_type": "stream",
     "text": [
      "pleasantJJ minNN walkNN alongIN seaNN frontJJ waterNN busNN restaurantsNNS etcJJ hotelNN comfortableJJ breakfastNN goodJJ quiteRB varietyNN roomNN airconNN workNN wellRB takeVB mosquitoNN repelantNN\n",
      "<class 'str'>\n"
     ]
    }
   ],
   "source": [
    "print(train_pos['pos'][0])\n",
    "print(type(train_pos['pos'][0]))"
   ]
  },
  {
   "cell_type": "code",
   "execution_count": 31,
   "metadata": {
    "collapsed": true
   },
   "outputs": [],
   "source": [
    "# Vectorize reviews for classification: random forest, linear regression, SVM, BernouliNB, etc\n",
    "\n",
    "# Call tfidf vectorizer, fit and transform the data \n",
    "count_vect = CountVectorizer(min_df = 2, stop_words = None, ngram_range = (1, 2))\n",
    "tfidf_transformer = TfidfTransformer()\n",
    "\n",
    "X_train_pos_counts = count_vect.fit_transform(train_pos[\"pos\"])        \n",
    "X_train_pos_tfidf = tfidf_transformer.fit_transform(X_train_pos_counts)\n",
    "\n",
    "X_test_pos_counts = count_vect.transform(test_pos[\"pos\"])        \n",
    "X_test_pos_tfidf = tfidf_transformer.transform(X_test_pos_counts)\n",
    "\n",
    "y_train = train_pos['sentiment']\n",
    "y_test = test_pos['sentiment']"
   ]
  },
  {
   "cell_type": "code",
   "execution_count": 32,
   "metadata": {},
   "outputs": [
    {
     "name": "stdout",
     "output_type": "stream",
     "text": [
      "==============================\n",
      "LogisticRegression\n",
      "**** Results ****\n",
      "Train score: 98.2168%\n",
      "Test score: 73.3666%\n",
      "Accuracy: 73.3666%\n",
      "Log Loss: 1.7117901167757348\n",
      "==============================\n",
      "MultinomialNB\n",
      "**** Results ****\n",
      "Train score: 83.3987%\n",
      "Test score: 73.6947%\n",
      "Accuracy: 73.6947%\n",
      "Log Loss: 0.5071141746802602\n",
      "==============================\n",
      "BernoulliNB\n",
      "**** Results ****\n",
      "Train score: 84.1833%\n",
      "Test score: 75.8773%\n",
      "Accuracy: 75.8773%\n",
      "Log Loss: 1.312334423350751\n",
      "==============================\n",
      "RandomForestClassifier\n",
      "**** Results ****\n",
      "Train score: 70.1534%\n",
      "Test score: 65.9914%\n",
      "Accuracy: 65.9914%\n",
      "Log Loss: 0.6030410247560132\n",
      "               Classifier  Train score  Test score  Accuracy  Log Loss\n",
      "0      LogisticRegression     0.982168    0.733666  0.733666  1.711790\n",
      "0           MultinomialNB     0.833987    0.736947  0.736947  0.507114\n",
      "0             BernoulliNB     0.841833    0.758773  0.758773  1.312334\n",
      "0  RandomForestClassifier     0.701534    0.659914  0.659914  0.603041\n",
      "****************************************\n",
      "   LogisticRegression  MultinomialNB  BernoulliNB  RandomForestClassifier\n",
      "0                   1              0            1                       0\n",
      "1                   1              0            1                       0\n",
      "2                   0              1            1                       0\n",
      "3                   1              0            1                       1\n",
      "4                   1              0            0                       0\n"
     ]
    },
    {
     "data": {
      "image/png": "[encoded data removed]",
      "text/plain": [
       "<matplotlib.figure.Figure at 0x1076e22e8>"
      ]
     },
     "metadata": {},
     "output_type": "display_data"
    }
   ],
   "source": [
    "run_classifiers(X_train_pos_tfidf, X_test_pos_tfidf, y_train, y_test, classifiers)"
   ]
  },
  {
   "cell_type": "markdown",
   "metadata": {},
   "source": []
  },
  {
   "cell_type": "markdown",
   "metadata": {},
   "source": [
    "## Add additional feature beyond review (textual)\n",
    "\n",
    "In this section, additional textual data will be added to the model. Especifically, the textual data cotained in the review title will also be considered when modeling in addition to the review itself. By having a larger dataset with richer information, it is expected to increase the model's performance. \n",
    "\n",
    "In order to do this, both the review and title textual data will be preprocessed in the same fashion as done above. That is, change it to lowercase, remove stopwords, etc. In addition, each word in the review and title will be associated with its corresponding part of speech, as this proved to increase the model's performance. Then, each of those features, review and title, will be vectorized. The next step consists of merging the dataset containing the review inofrmation with the title dataframe. Attempting this with the data as it is outruns the memory of the computer in which this model is run and shuts it down. In order to avoid this technical difficulty, the number of the reviews' features will be reduced to 5000 most important ones through chi-square. Once this is done, the two dataframes are concatenated. \n",
    "\n",
    "The next step is to run the same classifiers as before. Overall, all the classifiers performance increased by adding the textual data. Now, the MultinomialNB shows the hihgest accuracy followed by the BernoulliNB classifier. However, since the dataset is imbalanced towards the negative class, a different metric could provide a more accurate image of the models performance. Here, the ROC area under the curve provides a better view of it. Now, it is again the BernoulliNB classifier that shows the highest performance with a .80 AUC, which is an relatively considerable increased from the previous model. For the next trial, both the review and title of the review will be kept as it increases the model performance. "
   ]
  },
  {
   "cell_type": "code",
   "execution_count": 33,
   "metadata": {},
   "outputs": [
    {
     "name": "stdout",
     "output_type": "stream",
     "text": [
      "goodJJ locationNN awayRB croudsNNS\n"
     ]
    }
   ],
   "source": [
    "# Make a copy of the dataframe to add the additional features\n",
    "data_moref = data.copy()\n",
    "\n",
    "## Clean both review and title (notice that review is already cleaned)\n",
    "# Remove stop words in review\n",
    "data_moref['review_cleaned'] = data_moref['review_cleaned'].apply(lambda x: ' '.join([word for word in x.split() if word not in (stoplist)]))\n",
    "\n",
    "# Clean and remove stopwords in title\n",
    "data_moref['title_cleaned'] = [clean(x) for x in data_moref['reviews.title']]\n",
    "data_moref['title_cleaned'] = data_moref['title_cleaned'].apply(lambda x: ' '.join([word for word in x.split() if word not in (stoplist)]))\n",
    "\n",
    "## Tokenize and add part of speech for review title\n",
    "data_moref['title_pos'] = [pos_tag(word_tokenize(x)) for x in data_moref['title_cleaned']]\n",
    "\n",
    "# Join tuples into a single string for each row\n",
    "data_moref['title_pos'] = [[''.join(tup) for tup in row] for row in data_moref['title_pos']]\n",
    "\n",
    "# Convert a list of strings into a single string\n",
    "data_moref['title_pos'] = [' '.join(x) for x in data_moref['title_pos']]\n",
    "print(data_moref['title_pos'][0])"
   ]
  },
  {
   "cell_type": "code",
   "execution_count": 34,
   "metadata": {},
   "outputs": [
    {
     "data": {
      "text/html": [
       "<div>\n",
       "<style scoped>\n",
       "    .dataframe tbody tr th:only-of-type {\n",
       "        vertical-align: middle;\n",
       "    }\n",
       "\n",
       "    .dataframe tbody tr th {\n",
       "        vertical-align: top;\n",
       "    }\n",
       "\n",
       "    .dataframe thead th {\n",
       "        text-align: right;\n",
       "    }\n",
       "</style>\n",
       "<table border=\"1\" class=\"dataframe\">\n",
       "  <thead>\n",
       "    <tr style=\"text-align: right;\">\n",
       "      <th></th>\n",
       "      <th>address</th>\n",
       "      <th>categories</th>\n",
       "      <th>city</th>\n",
       "      <th>country</th>\n",
       "      <th>latitude</th>\n",
       "      <th>longitude</th>\n",
       "      <th>name</th>\n",
       "      <th>postalCode</th>\n",
       "      <th>province</th>\n",
       "      <th>reviews.date</th>\n",
       "      <th>...</th>\n",
       "      <th>reviews.title</th>\n",
       "      <th>reviews.userCity</th>\n",
       "      <th>reviews.username</th>\n",
       "      <th>reviews.userProvince</th>\n",
       "      <th>sentiment</th>\n",
       "      <th>review_cleaned</th>\n",
       "      <th>sentiment_conservative</th>\n",
       "      <th>pos</th>\n",
       "      <th>title_cleaned</th>\n",
       "      <th>title_pos</th>\n",
       "    </tr>\n",
       "  </thead>\n",
       "  <tbody>\n",
       "    <tr>\n",
       "      <th>0</th>\n",
       "      <td>Riviera San Nicol 11/a</td>\n",
       "      <td>Hotels</td>\n",
       "      <td>Mableton</td>\n",
       "      <td>US</td>\n",
       "      <td>45.421611</td>\n",
       "      <td>12.376187</td>\n",
       "      <td>Hotel Russo Palace</td>\n",
       "      <td>30126</td>\n",
       "      <td>GA</td>\n",
       "      <td>2013-09-22T00:00:00Z</td>\n",
       "      <td>...</td>\n",
       "      <td>Good location away from the crouds</td>\n",
       "      <td>NaN</td>\n",
       "      <td>Russ (kent)</td>\n",
       "      <td>NaN</td>\n",
       "      <td>0</td>\n",
       "      <td>pleasant min walk along sea front water bus re...</td>\n",
       "      <td>None</td>\n",
       "      <td>pleasantJJ minNN walkNN alongIN seaNN frontJJ ...</td>\n",
       "      <td>good location away crouds</td>\n",
       "      <td>goodJJ locationNN awayRB croudsNNS</td>\n",
       "    </tr>\n",
       "    <tr>\n",
       "      <th>1</th>\n",
       "      <td>Riviera San Nicol 11/a</td>\n",
       "      <td>Hotels</td>\n",
       "      <td>Mableton</td>\n",
       "      <td>US</td>\n",
       "      <td>45.421611</td>\n",
       "      <td>12.376187</td>\n",
       "      <td>Hotel Russo Palace</td>\n",
       "      <td>30126</td>\n",
       "      <td>GA</td>\n",
       "      <td>2015-04-03T00:00:00Z</td>\n",
       "      <td>...</td>\n",
       "      <td>Great hotel with Jacuzzi bath!</td>\n",
       "      <td>NaN</td>\n",
       "      <td>A Traveler</td>\n",
       "      <td>NaN</td>\n",
       "      <td>1</td>\n",
       "      <td>really lovely hotel stayed top floor surprised...</td>\n",
       "      <td>None</td>\n",
       "      <td>reallyRB lovelyJJ hotelNN stayedVBD topJJ floo...</td>\n",
       "      <td>great hotel jacuzzi bath</td>\n",
       "      <td>greatJJ hotelNN jacuzziNN bathNN</td>\n",
       "    </tr>\n",
       "  </tbody>\n",
       "</table>\n",
       "<p>2 rows × 25 columns</p>\n",
       "</div>"
      ],
      "text/plain": [
       "                  address categories      city country   latitude  longitude  \\\n",
       "0  Riviera San Nicol 11/a     Hotels  Mableton      US  45.421611  12.376187   \n",
       "1  Riviera San Nicol 11/a     Hotels  Mableton      US  45.421611  12.376187   \n",
       "\n",
       "                 name postalCode province          reviews.date  \\\n",
       "0  Hotel Russo Palace      30126       GA  2013-09-22T00:00:00Z   \n",
       "1  Hotel Russo Palace      30126       GA  2015-04-03T00:00:00Z   \n",
       "\n",
       "                  ...                                       reviews.title  \\\n",
       "0                 ...                  Good location away from the crouds   \n",
       "1                 ...                      Great hotel with Jacuzzi bath!   \n",
       "\n",
       "   reviews.userCity  reviews.username  reviews.userProvince sentiment  \\\n",
       "0               NaN       Russ (kent)                   NaN         0   \n",
       "1               NaN        A Traveler                   NaN         1   \n",
       "\n",
       "                                      review_cleaned sentiment_conservative  \\\n",
       "0  pleasant min walk along sea front water bus re...                   None   \n",
       "1  really lovely hotel stayed top floor surprised...                   None   \n",
       "\n",
       "                                                 pos  \\\n",
       "0  pleasantJJ minNN walkNN alongIN seaNN frontJJ ...   \n",
       "1  reallyRB lovelyJJ hotelNN stayedVBD topJJ floo...   \n",
       "\n",
       "               title_cleaned                           title_pos  \n",
       "0  good location away crouds  goodJJ locationNN awayRB croudsNNS  \n",
       "1   great hotel jacuzzi bath    greatJJ hotelNN jacuzziNN bathNN  \n",
       "\n",
       "[2 rows x 25 columns]"
      ]
     },
     "execution_count": 34,
     "metadata": {},
     "output_type": "execute_result"
    }
   ],
   "source": [
    "data_moref.head(2)"
   ]
  },
  {
   "cell_type": "code",
   "execution_count": 35,
   "metadata": {},
   "outputs": [
    {
     "name": "stdout",
     "output_type": "stream",
     "text": [
      "28040\n",
      "7010\n"
     ]
    }
   ],
   "source": [
    "# Split dataset into train and test\n",
    "train_moref = data_moref.sample(frac=0.8,random_state=200)\n",
    "test_moref = data_moref.drop(train.index)\n",
    "\n",
    "print(len(train))\n",
    "print(len(test))"
   ]
  },
  {
   "cell_type": "code",
   "execution_count": 36,
   "metadata": {},
   "outputs": [
    {
     "name": "stdout",
     "output_type": "stream",
     "text": [
      "X_train review: (28040, 93905)\n",
      "X_test review: (7010, 93905)\n",
      "X_train title: (28040, 11260)\n",
      "X_test title: (7010, 11260)\n",
      "y_train: (28040,)\n",
      "y_test: (7010,)\n"
     ]
    }
   ],
   "source": [
    "## Vectorize and tf-idf for both title and review\n",
    "\n",
    "# Call tfidf vectorizer, fit and transform the data \n",
    "# Here the HashingVectorizer will be used instead of the CountVectorizer in order to save memory\n",
    "count_vect_review = CountVectorizer(min_df = 2, stop_words = None , ngram_range = (1,2))\n",
    "tfidf_transformer_review = TfidfTransformer()\n",
    "\n",
    "## Vectorize review\n",
    "# Vectorize review for X train\n",
    "X_train_review = count_vect_review.fit_transform(train_moref[\"pos\"])        \n",
    "X_train_review_tfidf = tfidf_transformer_review.fit_transform(X_train_review)\n",
    "\n",
    "# Vectorize review for X test\n",
    "X_test_review = count_vect_review.transform(test_moref[\"pos\"])        \n",
    "X_test_review_tfidf = tfidf_transformer_review.transform(X_test_review)\n",
    "\n",
    "\n",
    "## Vectorize title\n",
    "# Reset vectorizer\n",
    "count_vect_title = CountVectorizer(min_df = 2, stop_words = None , ngram_range = (1,2))\n",
    "tfidf_transformer_title = TfidfTransformer()\n",
    "\n",
    "# Vectorize title for X train\n",
    "X_train_title = count_vect_title.fit_transform(train_moref[\"title_pos\"])        \n",
    "X_train_title_tfidf = tfidf_transformer_title.fit_transform(X_train_title)\n",
    "\n",
    "# Vectorize title for X test\n",
    "X_test_title = count_vect_title.transform(test_moref[\"title_pos\"])        \n",
    "X_test_title_tfidf = tfidf_transformer_title.transform(X_test_title)\n",
    "\n",
    "\n",
    "# Separate the y for train and test\n",
    "y_train_moref = train_moref['sentiment']\n",
    "y_test_moref = test_moref['sentiment']\n",
    "\n",
    "# Check shape of created variables\n",
    "print('X_train review:', X_train_review_tfidf.shape)\n",
    "print('X_test review:', X_test_review_tfidf.shape)\n",
    "print('X_train title:', X_train_title_tfidf.shape)\n",
    "print('X_test title:', X_test_title_tfidf.shape)\n",
    "print('y_train:', y_train_moref.shape)\n",
    "print('y_test:', y_test_moref.shape)"
   ]
  },
  {
   "cell_type": "code",
   "execution_count": 37,
   "metadata": {},
   "outputs": [
    {
     "name": "stdout",
     "output_type": "stream",
     "text": [
      "X_train review (28040, 93905)\n",
      "X_train title (28040, 11260)\n",
      "X_test review (7010, 93905)\n",
      "X_test title (7010, 11260)\n"
     ]
    }
   ],
   "source": [
    "## Create dataframes for X_train review and title\n",
    "# Convert review sparse matrix into dataframe\n",
    "X_train_review_df = pd.DataFrame(X_train_review_tfidf.todense())\n",
    "X_train_review_df.columns = count_vect_review.get_feature_names()\n",
    "\n",
    "# Convert title sparse matrix into dataframe\n",
    "X_train_title_df = pd.DataFrame(X_train_title_tfidf.todense())\n",
    "X_train_title_df.columns = count_vect_title.get_feature_names()\n",
    "\n",
    "\n",
    "## Create dataframes for X_test review and title\n",
    "# Create dataframe for X_test review\n",
    "X_test_review_df = pd.DataFrame(X_test_review_tfidf.todense())\n",
    "X_test_review_df.columns = count_vect_review.get_feature_names()\n",
    "\n",
    "# Create dataframe for X_test title\n",
    "X_test_title_df = pd.DataFrame(X_test_title_tfidf.todense())\n",
    "X_test_title_df.columns = count_vect_title.get_feature_names()\n",
    "\n",
    "print('X_train review', X_train_review_df.shape)\n",
    "print('X_train title', X_train_title_df.shape)\n",
    "print('X_test review', X_test_review_df.shape)\n",
    "print('X_test title', X_test_title_df.shape)"
   ]
  },
  {
   "cell_type": "markdown",
   "metadata": {},
   "source": [
    "#### Apply dimensionality reduction to handle overhead memory constraints when merging dataframes. "
   ]
  },
  {
   "cell_type": "code",
   "execution_count": 38,
   "metadata": {},
   "outputs": [
    {
     "name": "stdout",
     "output_type": "stream",
     "text": [
      "(35050, 116926)\n",
      "(35050, 13926)\n"
     ]
    }
   ],
   "source": [
    "# Apply dimensionality reduction to handle overhead memory constraints\n",
    "\n",
    "# Vectorize reviews \n",
    "count_vect_review = CountVectorizer(min_df = 2, stop_words = None , ngram_range = (1,2))\n",
    "tfidf_transformer_review = TfidfTransformer()\n",
    "\n",
    "review = count_vect_review.fit_transform(data_moref['pos'])        \n",
    "review_tfidf = tfidf_transformer_review.fit_transform(review)\n",
    "print(review_tfidf.shape)\n",
    "\n",
    "\n",
    "# Vectorize title\n",
    "count_vect_title = CountVectorizer(min_df = 2, stop_words = None , ngram_range = (1,2))\n",
    "tfidf_transformer_title = TfidfTransformer()\n",
    "\n",
    "title = count_vect_title.fit_transform(data_moref['title_pos'])        \n",
    "title_tfidf = tfidf_transformer_title.fit_transform(title)\n",
    "print(title_tfidf.shape)"
   ]
  },
  {
   "cell_type": "code",
   "execution_count": 39,
   "metadata": {},
   "outputs": [
    {
     "name": "stdout",
     "output_type": "stream",
     "text": [
      "(35050, 10000)\n",
      "Expected shape: 35050 10000\n",
      "After dropping na: (35050, 10001)\n"
     ]
    }
   ],
   "source": [
    "# Reduce dimensionality of review\n",
    "\n",
    "from sklearn.feature_selection import SelectKBest\n",
    "from sklearn.feature_selection import chi2\n",
    "\n",
    "# Find the 5000 most informative words\n",
    "selector = SelectKBest(chi2, k=5000)\n",
    "selector.fit(review_tfidf, data_moref['sentiment'])\n",
    "\n",
    "top_words_review = selector.get_support().nonzero()\n",
    "\n",
    "# Create dataframe with only the top 5000 words\n",
    "review_top_5k = review_tfidf[:,top_words_review[0]]\n",
    "\n",
    "\n",
    "# Reduce dimensionality of title\n",
    "selector = SelectKBest(chi2, k=5000)\n",
    "selector.fit(title_tfidf, data_moref['sentiment'])\n",
    "\n",
    "top_words_title = selector.get_support().nonzero()\n",
    "\n",
    "title_top_5k = title_tfidf[:,top_words_title[0]]\n",
    "\n",
    "\n",
    "# Convert matrices to dataframe\n",
    "review_df = pd.DataFrame(review_top_5k.todense())\n",
    "#review_df.columns = review.get_feature_names()[:,top_words_review[0]]  # Add column names\n",
    "\n",
    "title_df = pd.DataFrame(title_top_5k.todense())\n",
    "#title_df.columns = title.get_feature_names()[:,top_words_title[0]]    # Add column names\n",
    "\n",
    "\n",
    "# Concatenate dataframes\n",
    "features = pd.concat([review_df, title_df], axis=1)\n",
    "print(features.shape)\n",
    "print('Expected shape:', 35050, 10000)\n",
    "\n",
    "# Rename columns since there were two sets of columns from 0 to 4999\n",
    "features.columns.values[:] = np.arange(10000) \n",
    "\n",
    "# Add targe variable\n",
    "features['sentiment'] = [int(round(x)) for x in data_moref['sentiment']]\n",
    "\n",
    "# Drop na values\n",
    "features.dropna()\n",
    "print('After dropping na:', features.shape)"
   ]
  },
  {
   "cell_type": "code",
   "execution_count": 40,
   "metadata": {},
   "outputs": [
    {
     "data": {
      "text/plain": [
       "numpy.int64"
      ]
     },
     "execution_count": 40,
     "metadata": {},
     "output_type": "execute_result"
    }
   ],
   "source": [
    "type(features['sentiment'][1])"
   ]
  },
  {
   "cell_type": "code",
   "execution_count": 41,
   "metadata": {
    "collapsed": true
   },
   "outputs": [],
   "source": [
    "# Split data into train and test\n",
    "X_train, X_test, y_train, y_test = train_test_split(features[features.columns.difference(['sentiment'])], features['sentiment'], test_size=0.25, random_state=123)"
   ]
  },
  {
   "cell_type": "code",
   "execution_count": 42,
   "metadata": {},
   "outputs": [
    {
     "name": "stdout",
     "output_type": "stream",
     "text": [
      "==============================\n",
      "LogisticRegression\n",
      "**** Results ****\n",
      "Train score: 88.5419%\n",
      "Test score: 79.5960%\n",
      "Accuracy: 79.5960%\n",
      "Log Loss: 0.481867219396902\n",
      "==============================\n",
      "MultinomialNB\n",
      "**** Results ****\n",
      "Train score: 83.1438%\n",
      "Test score: 81.0910%\n",
      "Accuracy: 81.0910%\n",
      "Log Loss: 0.4069902935904946\n",
      "==============================\n",
      "BernoulliNB\n",
      "**** Results ****\n",
      "Train score: 81.5042%\n",
      "Test score: 79.8699%\n",
      "Accuracy: 79.8699%\n",
      "Log Loss: 0.8318596157945343\n",
      "==============================\n",
      "RandomForestClassifier\n",
      "**** Results ****\n",
      "Train score: 78.1489%\n",
      "Test score: 71.3112%\n",
      "Accuracy: 71.3112%\n",
      "Log Loss: 0.5655247174999638\n",
      "               Classifier  Train score  Test score  Accuracy  Log Loss\n",
      "0      LogisticRegression     0.885419    0.795960  0.795960  0.481867\n",
      "0           MultinomialNB     0.831438    0.810910  0.810910  0.406990\n",
      "0             BernoulliNB     0.815042    0.798699  0.798699  0.831860\n",
      "0  RandomForestClassifier     0.781489    0.713112  0.713112  0.565525\n",
      "****************************************\n",
      "   LogisticRegression  MultinomialNB  BernoulliNB  RandomForestClassifier\n",
      "0                   0              0            1                       0\n",
      "1                   1              1            1                       1\n",
      "2                   1              0            1                       0\n",
      "3                   0              0            1                       1\n",
      "4                   1              1            1                       1\n"
     ]
    },
    {
     "data": {
      "image/png": "[encoded data removed]",
      "text/plain": [
       "<matplotlib.figure.Figure at 0x17361b2b0>"
      ]
     },
     "metadata": {},
     "output_type": "display_data"
    }
   ],
   "source": [
    "# Run classifiers\n",
    "run_classifiers(X_train, X_test, y_train, y_test, classifiers)"
   ]
  },
  {
   "cell_type": "code",
   "execution_count": null,
   "metadata": {
    "collapsed": true
   },
   "outputs": [],
   "source": []
  },
  {
   "cell_type": "markdown",
   "metadata": {},
   "source": [
    "### Add non-textual features\n",
    "\n",
    "In this last section, meta-features or features related to the size, form and sentence type of the review are added to the dataset containing both review and title information from the previous section. Then, the same models as in the previous sections are run. \n",
    "\n",
    "Overall, applying this approach decreases the models accuracy as well as ROC area under the curve with the exception of the BernoulliNB classifier that stays at .80. Given this results, it seems that adding the meta features makes the models more complex without any significant gain in performance. Because of this, the metafeatures will not be included in the final version of the model. "
   ]
  },
  {
   "cell_type": "code",
   "execution_count": 43,
   "metadata": {},
   "outputs": [
    {
     "name": "stdout",
     "output_type": "stream",
     "text": [
      "(35050, 9)\n"
     ]
    }
   ],
   "source": [
    "# Add further features contained in the dataset\n",
    "\n",
    "# Add meta features\n",
    "transform_functions = [\n",
    "    lambda x: len(x),                              # length of review\n",
    "    lambda x: x.count(\" \"),                        # number of spaces\n",
    "    lambda x: x.count(\".\"),                        # number of sentences\n",
    "    lambda x: x.count(\"!\"),                        # number of exclamation sentences\n",
    "    lambda x: x.count(\"?\"),                        # number of questions\n",
    "    lambda x: len(x) / (x.count(\" \") + 1),         # ratio of length over spaces\n",
    "    lambda x: x.count(\" \") / (x.count(\".\") + 1),   # number of spaces per sentence\n",
    "    lambda x: len(re.findall(\"\\d\", x)),            # number of digits\n",
    "    lambda x: len(re.findall(\"[A-Z]\", x)),         # number of capitalized words\n",
    "]\n",
    "\n",
    "# Add these meta features into a column\n",
    "# Make sure that all rows in 'reviews.text' are string type\n",
    "data_moref['pos'] = data_moref['pos'].astype(str)\n",
    "\n",
    "meta = []\n",
    "\n",
    "# Create column for each meta-feature\n",
    "for func in transform_functions:\n",
    "    meta.append(data_moref['pos'].apply(func))\n",
    "    \n",
    "# Convert metafeatures to a numpy array and transpose it\n",
    "meta_ft = np.asarray(meta).T\n",
    "meta_ft = pd.DataFrame(meta_ft)\n",
    "cols = ['length', 'spaces', 'full_stop', 'exclamation', 'interrogation', 'ratio_over_spaces', 'spaces_per_sentence', 'digits', 'capitalized_words']\n",
    "meta_ft.columns = cols\n",
    "\n",
    "print(meta_ft.shape)"
   ]
  },
  {
   "cell_type": "code",
   "execution_count": 44,
   "metadata": {},
   "outputs": [
    {
     "name": "stdout",
     "output_type": "stream",
     "text": [
      "(35050, 10010)\n"
     ]
    }
   ],
   "source": [
    "# Concatenate both review, title and meta features about review\n",
    "features_meta = pd.concat([features, meta_ft], axis=1)\n",
    "print(features_meta.shape)"
   ]
  },
  {
   "cell_type": "code",
   "execution_count": 45,
   "metadata": {
    "collapsed": true
   },
   "outputs": [],
   "source": [
    "# Split data into train and split\n",
    "X_train, X_test, y_train, y_test = train_test_split(features_meta[features_meta.columns.difference(['sentiment'])], features['sentiment'], test_size=0.25, random_state=123)"
   ]
  },
  {
   "cell_type": "code",
   "execution_count": 46,
   "metadata": {},
   "outputs": [
    {
     "name": "stdout",
     "output_type": "stream",
     "text": [
      "==============================\n",
      "LogisticRegression\n",
      "**** Results ****\n",
      "Train score: 75.6420%\n",
      "Test score: 74.6092%\n",
      "Accuracy: 74.6092%\n",
      "Log Loss: 0.5200543849660549\n",
      "==============================\n",
      "MultinomialNB\n",
      "**** Results ****\n",
      "Train score: 78.1032%\n",
      "Test score: 76.6062%\n",
      "Accuracy: 76.6062%\n",
      "Log Loss: 0.5127377241452364\n",
      "==============================\n",
      "BernoulliNB\n",
      "**** Results ****\n",
      "Train score: 81.5042%\n",
      "Test score: 79.8471%\n",
      "Accuracy: 79.8471%\n",
      "Log Loss: 0.8320947972558765\n",
      "==============================\n",
      "RandomForestClassifier\n",
      "**** Results ****\n",
      "Train score: 79.1228%\n",
      "Test score: 71.1971%\n",
      "Accuracy: 71.1971%\n",
      "Log Loss: 0.561813587429701\n",
      "               Classifier  Train score  Test score  Accuracy  Log Loss\n",
      "0      LogisticRegression     0.756420    0.746092  0.746092  0.520054\n",
      "0           MultinomialNB     0.781032    0.766062  0.766062  0.512738\n",
      "0             BernoulliNB     0.815042    0.798471  0.798471  0.832095\n",
      "0  RandomForestClassifier     0.791228    0.711971  0.711971  0.561814\n",
      "****************************************\n",
      "   LogisticRegression  MultinomialNB  BernoulliNB  RandomForestClassifier\n",
      "0                   0              1            1                       0\n",
      "1                   1              1            1                       1\n",
      "2                   0              0            1                       0\n",
      "3                   0              0            1                       0\n",
      "4                   1              1            1                       1\n"
     ]
    },
    {
     "data": {
      "image/png": "[encoded data removed]",
      "text/plain": [
       "<matplotlib.figure.Figure at 0x16a54ef60>"
      ]
     },
     "metadata": {},
     "output_type": "display_data"
    }
   ],
   "source": [
    "# Run classifiers\n",
    "run_classifiers(X_train, X_test, y_train, y_test, classifiers)"
   ]
  },
  {
   "cell_type": "markdown",
   "metadata": {},
   "source": [
    "## Conclusions\n",
    "\n",
    "The goal of this project was to develop a model to predict whether a hotel review would be positive or negative based on the textual review itself as well as the title. A number of different classifiers including neural networks were trained in order to select the one with the best performance. Out of them, the BernoulliNB classifier showed the highest performance when measured with regard to the ROC area under the curve; although this classifier also showed a high accuracy level. The BernoulliNB classifier showed the highest performance 0.80 ROC AUC when been fed both the review and title textual data in which each word was associated with its corresponding part of speech tag. \n",
    "\n",
    "Thus, this model is ready to help hotel stakeholders to evaluate the perception that customers have about their hotels and the service offered there. This model allows to automatize reading the reviews, which in turn can save the proportional amount of monetary resources used to pay human readers. In addition, having such a model provides a more neutral and constant measure to evaluate the hotel reviews, something that could not be achieved when different readers evaluate the reviews. By having this information, hotel stakeholders can identify the main perception of their bussiness and consider ways to improve them. \n",
    "\n",
    "Further ways to improve this model involves adding additional features to the dataset such as the location of the reviewer, the location of the reviewed hotel as well as the date in which the review was made in order to have a more fine-grained understanding of this pattern, e.g. hotels in certain areas are better reviewed than hotels in different areas or reviews are better in certain seasons or months. Furthemore, this model could be more insightful by showing which words were more relevant in this model. In other words, identify which concepts users used most in order to better identifies issues with the bussiness. For instance, if reviews marked negatively show the word bathroom, we could conclude that customers are not satisfied with the features of the bathroom and do something about that. Although, incliuding this informaiton was part of the orignial project, it was not included because of technical reasons when performing dimesnionality reduction. However, we believe that adding this feature will make the model more informative. "
   ]
  },
  {
   "cell_type": "markdown",
   "metadata": {},
   "source": [
    "### References\n",
    "https://www.brightlocal.com/2014/08/14/5-visual-stats-power-of-online-reviews/"
   ]
  }
 ],
 "metadata": {
  "kernelspec": {
   "display_name": "Python 3",
   "language": "python",
   "name": "python3"
  },
  "language_info": {
   "codemirror_mode": {
    "name": "ipython",
    "version": 3
   },
   "file_extension": ".py",
   "mimetype": "text/x-python",
   "name": "python",
   "nbconvert_exporter": "python",
   "pygments_lexer": "ipython3",
   "version": "3.6.1"
  }
 },
 "nbformat": 4,
 "nbformat_minor": 2
}
