{
 "cells": [
  {
   "cell_type": "markdown",
   "metadata": {},
   "source": [
    "# Examining Racial Discrimination in the US Job Market\n",
    "\n",
    "### Background\n",
    "Racial discrimination continues to be pervasive in cultures throughout the world. Researchers examined the level of racial discrimination in the United States labor market by randomly assigning identical résumés to black-sounding or white-sounding names and observing the impact on requests for interviews from employers.\n",
    "\n",
    "### Data\n",
    "In the dataset provided, each row represents a resume. The 'race' column has two values, 'b' and 'w', indicating black-sounding and white-sounding. The column 'call' has two values, 1 and 0, indicating whether the resume received a call from employers or not.\n",
    "\n",
    "Note that the 'b' and 'w' values in race are assigned randomly to the resumes when presented to the employer."
   ]
  },
  {
   "cell_type": "markdown",
   "metadata": {},
   "source": [
    "### Exercises\n",
    "You will perform a statistical analysis to establish whether race has a significant impact on the rate of callbacks for resumes.\n",
    "\n",
    "Answer the following questions **in this notebook below and submit to your Github account**. \n",
    "\n",
    "   1. What test is appropriate for this problem? Does CLT apply?\n",
    "   2. What are the null and alternate hypotheses?\n",
    "   3. Compute margin of error, confidence interval, and p-value.\n",
    "   4. Write a story describing the statistical significance in the context or the original problem.\n",
    "   5. Does your analysis mean that race/name is the most important factor in callback success? Why or why not? If not, how would you amend your analysis?\n",
    "\n",
    "You can include written notes in notebook cells using Markdown: \n",
    "   - In the control panel at the top, choose Cell > Cell Type > Markdown\n",
    "   - Markdown syntax: http://nestacms.com/docs/creating-content/markdown-cheat-sheet\n",
    "\n",
    "\n",
    "#### Resources\n",
    "+ Experiment information and data source: http://www.povertyactionlab.org/evaluation/discrimination-job-market-united-states\n",
    "+ Scipy statistical methods: http://docs.scipy.org/doc/scipy/reference/stats.html \n",
    "+ Markdown syntax: http://nestacms.com/docs/creating-content/markdown-cheat-sheet\n",
    "****"
   ]
  },
  {
   "cell_type": "code",
   "execution_count": 1,
   "metadata": {
    "collapsed": true
   },
   "outputs": [],
   "source": [
    "import pandas as pd\n",
    "import numpy as np\n",
    "from scipy import stats\n",
    "import matplotlib.pyplot as plt"
   ]
  },
  {
   "cell_type": "code",
   "execution_count": 2,
   "metadata": {
    "collapsed": true
   },
   "outputs": [],
   "source": [
    "data = pd.io.stata.read_stata('/racial_disc/data/us_job_market_discrimination.dta')"
   ]
  },
  {
   "cell_type": "code",
   "execution_count": 3,
   "metadata": {},
   "outputs": [
    {
     "name": "stdout",
     "output_type": "stream",
     "text": [
      "  id ad  education  ofjobs  yearsexp  honors  volunteer  military  empholes  \\\n",
      "0  b  1          4       2         6       0          0         0         1   \n",
      "1  b  1          3       3         6       0          1         1         0   \n",
      "2  b  1          4       1         6       0          0         0         0   \n",
      "3  b  1          3       4         6       0          1         0         1   \n",
      "4  b  1          3       3        22       0          0         0         0   \n",
      "\n",
      "   occupspecific    ...      compreq  orgreq  manuf  transcom  bankreal trade  \\\n",
      "0             17    ...          1.0     0.0    1.0       0.0       0.0   0.0   \n",
      "1            316    ...          1.0     0.0    1.0       0.0       0.0   0.0   \n",
      "2             19    ...          1.0     0.0    1.0       0.0       0.0   0.0   \n",
      "3            313    ...          1.0     0.0    1.0       0.0       0.0   0.0   \n",
      "4            313    ...          1.0     1.0    0.0       0.0       0.0   0.0   \n",
      "\n",
      "  busservice othservice  missind  ownership  \n",
      "0        0.0        0.0      0.0             \n",
      "1        0.0        0.0      0.0             \n",
      "2        0.0        0.0      0.0             \n",
      "3        0.0        0.0      0.0             \n",
      "4        0.0        1.0      0.0  Nonprofit  \n",
      "\n",
      "[5 rows x 65 columns]\n",
      "(4870, 65)\n"
     ]
    }
   ],
   "source": [
    "print(data.head())\n",
    "print(data.shape)"
   ]
  },
  {
   "cell_type": "markdown",
   "metadata": {},
   "source": [
    "### 1. What test is appropriate for this problem? Does CLT apply?\n",
    "\n",
    "The normality tests rejects the null hypothesis that the data comes from a normal distribution. Thus, a non-paramatric test will be used. The appropiate test for this problem is the Mann Whitney U test for two groups (black and white). \n",
    "\n",
    "The CLT applies because the data is large (2435*2; n > 30) and the labels were randomly selected."
   ]
  },
  {
   "cell_type": "code",
   "execution_count": 4,
   "metadata": {},
   "outputs": [
    {
     "name": "stdout",
     "output_type": "stream",
     "text": [
      "b    2435\n",
      "w    2435\n",
      "Name: race, dtype: int64\n",
      "race  call\n",
      "b     0.0     2278\n",
      "      1.0      157\n",
      "w     0.0     2200\n",
      "      1.0      235\n",
      "Name: call, dtype: int64\n"
     ]
    }
   ],
   "source": [
    "# Length of the data\n",
    "print(data.race.value_counts())\n",
    "\n",
    "# Response to resumes\n",
    "print(data.groupby('race')['call'].value_counts())"
   ]
  },
  {
   "cell_type": "code",
   "execution_count": 5,
   "metadata": {},
   "outputs": [
    {
     "name": "stdout",
     "output_type": "stream",
     "text": [
      "NormaltestResult(statistic=1304.8637469446803, pvalue=4.4919770957666643e-284)\n",
      "NormaltestResult(statistic=1743.1541461306329, pvalue=0.0)\n"
     ]
    }
   ],
   "source": [
    "# Check for normality in the data\n",
    "print(stats.normaltest(data[data.race=='w'].call))\n",
    "print(stats.normaltest(data[data.race=='b'].call))"
   ]
  },
  {
   "cell_type": "markdown",
   "metadata": {
    "collapsed": true
   },
   "source": [
    "### 2. What are the null and alternate hypotheses?  \n",
    "\n",
    "Null hypothesis: there is not difference between white and black sounding names and their call rate. Put it differently, white and black get the same call rate.\n",
    "Alternate hypothesis: Black and white names receive a different call rate."
   ]
  },
  {
   "cell_type": "markdown",
   "metadata": {
    "collapsed": true
   },
   "source": [
    "### 3. Compute margin of error, confidence interval, and p-value."
   ]
  },
  {
   "cell_type": "code",
   "execution_count": 6,
   "metadata": {},
   "outputs": [
    {
     "name": "stdout",
     "output_type": "stream",
     "text": [
      "black-sounding name calls: 157.0\n",
      "black-sounding name resumes: 2435\n",
      "white-sounding name call: 235.0\n",
      "white-sounding name resumes: 2435\n"
     ]
    }
   ],
   "source": [
    "# number of callbacks for black-sounding names\n",
    "black_call = sum(data[data.race=='b'].call)\n",
    "print('black-sounding name calls:',black_call)\n",
    "print('black-sounding name resumes:', len(data[data.race=='b']))\n",
    "\n",
    "# number of callbacks for white-sounding names\n",
    "white_call = sum(data[data.race == 'w'].call)\n",
    "print('white-sounding name call:', white_call)\n",
    "print('white-sounding name resumes:', len(data[data.race=='w']))"
   ]
  },
  {
   "cell_type": "code",
   "execution_count": 7,
   "metadata": {},
   "outputs": [
    {
     "name": "stdout",
     "output_type": "stream",
     "text": [
      "z_score: 2869647.5\n",
      "p_value = 1.9957709596809747e-05\n"
     ]
    }
   ],
   "source": [
    "# Subset data into groups\n",
    "white = data[data.race=='w']\n",
    "black = data[data.race=='b']\n",
    "\n",
    "# Mann-Whitney U-test\n",
    "statistic, p_value = stats.mannwhitneyu(sorted(white.call), sorted(black.call))\n",
    "print('z_score:', statistic)\n",
    "print('p_value =', p_value)"
   ]
  },
  {
   "cell_type": "code",
   "execution_count": 8,
   "metadata": {},
   "outputs": [
    {
     "name": "stdout",
     "output_type": "stream",
     "text": [
      "Call rate(white) confidence interval (95%): (0.08477242880649906, 0.10824605168631408)\n",
      "Call rate(black) confidence interval (95%): (0.05471454925653359, 0.07423822281738839)\n"
     ]
    },
    {
     "name": "stderr",
     "output_type": "stream",
     "text": [
      "/Library/Frameworks/Python.framework/Versions/3.6/lib/python3.6/site-packages/statsmodels/compat/pandas.py:56: FutureWarning: The pandas.core.datetools module is deprecated and will be removed in a future version. Please use the pandas.tseries module instead.\n",
      "  from pandas.core import datetools\n"
     ]
    }
   ],
   "source": [
    "# Confidence intervals\n",
    "import statsmodels.stats.api as sms\n",
    "print('Call rate(white) confidence interval (95%):', sms.DescrStatsW(white.call).tconfint_mean())\n",
    "print('Call rate(black) confidence interval (95%):', sms.DescrStatsW(black.call).tconfint_mean())"
   ]
  },
  {
   "cell_type": "code",
   "execution_count": 9,
   "metadata": {},
   "outputs": [
    {
     "name": "stdout",
     "output_type": "stream",
     "text": [
      "0.015255406349886438\n"
     ]
    }
   ],
   "source": [
    "# Proportions\n",
    "proportion_w = white_call / len(data[data.race=='w'])\n",
    "proportion_b = black_call / len(data[data.race=='b'])\n",
    "\n",
    "# SE of difference of proportions\n",
    "SE = ((proportion_w * (1 - proportion_w)) / len(data[data.race=='w']) + \n",
    "      (proportion_b * (1 - proportion_b)) / len(data[data.race=='b'])) ** 0.5\n",
    "\n",
    "# Margin of error\n",
    "# 1.96 = z-value for 95% confidence interval (see z_value table)\n",
    "# margin of error = critical value * standard error\n",
    "me = 1.96 * SE\n",
    "print(me)"
   ]
  },
  {
   "cell_type": "markdown",
   "metadata": {
    "collapsed": true
   },
   "source": [
    "### 4. Write a story describing the statistical significance in the context or the original problem.\n",
    "\n",
    "This project studies whether or not there are indications of racial discrimination in the US labor market. In order to investigate this, identical resumés were randomly assigned white-sounding names and black-sounding names in order to evaluate the response rate for interviews from employers. The analysis of the data shows that the response rate is statistically different for resumés having white or black sounding names. This is, the data indicates a trace of racial discrimination in favor of white-sounding names over black-sounding ones. "
   ]
  },
  {
   "cell_type": "markdown",
   "metadata": {
    "collapsed": true
   },
   "source": [
    "### 5. Does your analysis mean that race/name is the most important factor in callback success? Why or why not? If not, how would you amend your analysis?\n",
    "\n",
    "Based on the information above, it cannot be concluded that race is the most important factor in callback success. There could be other variables such as 'sex', 'city', 'manager', 'computerskills', among others, as well as their interactions that could play a role in the rate of callbacks. Including those variables in the analysis will help in answering what is the most important factor in callback success. "
   ]
  }
 ],
 "metadata": {
  "kernelspec": {
   "display_name": "Python 3",
   "language": "python",
   "name": "python3"
  },
  "language_info": {
   "codemirror_mode": {
    "name": "ipython",
    "version": 3
   },
   "file_extension": ".py",
   "mimetype": "text/x-python",
   "name": "python",
   "nbconvert_exporter": "python",
   "pygments_lexer": "ipython3",
   "version": "3.6.1"
  }
 },
 "nbformat": 4,
 "nbformat_minor": 1
}
