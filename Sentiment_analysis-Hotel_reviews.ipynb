{
 "cells": [
  {
   "cell_type": "markdown",
   "metadata": {},
   "source": [
    "# Predicting hotel reviews rating\n",
    "\n",
    "With the increasing availability of social feedback on platforms such as Yelp or TripAdvisor, more and more customers consult reviews before making their next decision about a purchase, airplane ticket or hotel reservation. In the case of hotels, 90% of travelers agree that reviews are influential when making a decision on where to stay. These customers also trust the reviews that they find as much as personal recommendations (Brightlocal.com). If reviews are not positive enough, it could amount to losing 88% of web traffic that references reviews. In addition, 75% of consumers complete a call to action after reading a great review.\n",
    "\n",
    "From the business perspective, customer reviews contain a large amount of information that can help identify current issues and fix them, customer satisfaction, and customer loyalty. However, in order to obtain this information, involves reading through a great number of these reviews, which in turn, may required a number of readers analyzing the texts for a large number of hours.\n",
    "\n",
    "This project aims to helping with this issue, specifically hotel reviews, by applying NLP to catalog customer reviews as positive or negative.\n",
    "\n",
    "The main benefit of this product is to save hours of going through the reviews and follow a consistent pattern in cataloging them. In addition, for those reviews that are not accompanied by a rating (eg. 3 stars), this product will be able to make predictions as to the review rating. By saving the bussiness working hours, this time can be spent in other tasks such as targeting issues or implementing new marketing strategies. Thus, the main beneficiaries of these product are hotel companies as well as online platforms dedicated to provide a place to stay. "
   ]
  },
  {
   "cell_type": "markdown",
   "metadata": {},
   "source": [
    "## Data\n",
    "\n",
    "The dataset used for this project contains 35050 reviews for hotels in the United States. In addition to the review itself, a review title is provided as well as the hotel rating (from 0 to 10). Metadata about the hotel being reviewed is also provided: name, address, category, date. Metadata about the reviewer is also provided: username, city, and province.  "
   ]
  },
  {
   "cell_type": "code",
   "execution_count": 2,
   "metadata": {
    "collapsed": true
   },
   "outputs": [],
   "source": [
    "import pandas as pd\n",
    "import numpy as np\n",
    "\n",
    "import matplotlib.pyplot as plt\n",
    "import seaborn as sn\n",
    "plt.style.use('ggplot')\n",
    "%matplotlib inline\n",
    "\n",
    "import re\n",
    "\n",
    "from wordcloud import STOPWORDS\n",
    "\n",
    "from sklearn.feature_extraction.text import CountVectorizer\n",
    "from sklearn.feature_extraction.text import TfidfTransformer\n",
    "from sklearn.feature_extraction.text import TfidfVectorizer\n",
    "\n",
    "from sklearn import linear_model\n",
    "from sklearn.naive_bayes import MultinomialNB\n",
    "from sklearn.naive_bayes import BernoulliNB\n",
    "from sklearn.ensemble import RandomForestClassifier\n",
    "from sklearn import svm\n",
    "from sklearn.neighbors import KNeighborsClassifier\n",
    "\n",
    "from sklearn.metrics import accuracy_score, log_loss\n",
    "from sklearn.metrics import roc_curve, auc\n",
    "\n",
    "from sklearn.utils import resample"
   ]
  },
  {
   "cell_type": "code",
   "execution_count": 3,
   "metadata": {
    "collapsed": true
   },
   "outputs": [],
   "source": [
    "data = pd.read_csv('/Users/danielvalle/Documents/Coding/Springboard/Capstone project 2 - NLP/Hotel reviews.csv', encoding='latin-1')"
   ]
  },
  {
   "cell_type": "code",
   "execution_count": 4,
   "metadata": {},
   "outputs": [
    {
     "data": {
      "text/html": [
       "<div>\n",
       "<style scoped>\n",
       "    .dataframe tbody tr th:only-of-type {\n",
       "        vertical-align: middle;\n",
       "    }\n",
       "\n",
       "    .dataframe tbody tr th {\n",
       "        vertical-align: top;\n",
       "    }\n",
       "\n",
       "    .dataframe thead th {\n",
       "        text-align: right;\n",
       "    }\n",
       "</style>\n",
       "<table border=\"1\" class=\"dataframe\">\n",
       "  <thead>\n",
       "    <tr style=\"text-align: right;\">\n",
       "      <th></th>\n",
       "      <th>address</th>\n",
       "      <th>categories</th>\n",
       "      <th>city</th>\n",
       "      <th>country</th>\n",
       "      <th>latitude</th>\n",
       "      <th>longitude</th>\n",
       "      <th>name</th>\n",
       "      <th>postalCode</th>\n",
       "      <th>province</th>\n",
       "      <th>reviews.date</th>\n",
       "      <th>reviews.dateAdded</th>\n",
       "      <th>reviews.doRecommend</th>\n",
       "      <th>reviews.id</th>\n",
       "      <th>reviews.rating</th>\n",
       "      <th>reviews.text</th>\n",
       "      <th>reviews.title</th>\n",
       "      <th>reviews.userCity</th>\n",
       "      <th>reviews.username</th>\n",
       "      <th>reviews.userProvince</th>\n",
       "    </tr>\n",
       "  </thead>\n",
       "  <tbody>\n",
       "    <tr>\n",
       "      <th>0</th>\n",
       "      <td>Riviera San Nicol 11/a</td>\n",
       "      <td>Hotels</td>\n",
       "      <td>Mableton</td>\n",
       "      <td>US</td>\n",
       "      <td>45.421611</td>\n",
       "      <td>12.376187</td>\n",
       "      <td>Hotel Russo Palace</td>\n",
       "      <td>30126</td>\n",
       "      <td>GA</td>\n",
       "      <td>2013-09-22T00:00:00Z</td>\n",
       "      <td>2016-10-24T00:00:25Z</td>\n",
       "      <td>NaN</td>\n",
       "      <td>NaN</td>\n",
       "      <td>4.0</td>\n",
       "      <td>Pleasant 10 min walk along the sea front to th...</td>\n",
       "      <td>Good location away from the crouds</td>\n",
       "      <td>NaN</td>\n",
       "      <td>Russ (kent)</td>\n",
       "      <td>NaN</td>\n",
       "    </tr>\n",
       "    <tr>\n",
       "      <th>1</th>\n",
       "      <td>Riviera San Nicol 11/a</td>\n",
       "      <td>Hotels</td>\n",
       "      <td>Mableton</td>\n",
       "      <td>US</td>\n",
       "      <td>45.421611</td>\n",
       "      <td>12.376187</td>\n",
       "      <td>Hotel Russo Palace</td>\n",
       "      <td>30126</td>\n",
       "      <td>GA</td>\n",
       "      <td>2015-04-03T00:00:00Z</td>\n",
       "      <td>2016-10-24T00:00:25Z</td>\n",
       "      <td>NaN</td>\n",
       "      <td>NaN</td>\n",
       "      <td>5.0</td>\n",
       "      <td>Really lovely hotel. Stayed on the very top fl...</td>\n",
       "      <td>Great hotel with Jacuzzi bath!</td>\n",
       "      <td>NaN</td>\n",
       "      <td>A Traveler</td>\n",
       "      <td>NaN</td>\n",
       "    </tr>\n",
       "    <tr>\n",
       "      <th>2</th>\n",
       "      <td>Riviera San Nicol 11/a</td>\n",
       "      <td>Hotels</td>\n",
       "      <td>Mableton</td>\n",
       "      <td>US</td>\n",
       "      <td>45.421611</td>\n",
       "      <td>12.376187</td>\n",
       "      <td>Hotel Russo Palace</td>\n",
       "      <td>30126</td>\n",
       "      <td>GA</td>\n",
       "      <td>2014-05-13T00:00:00Z</td>\n",
       "      <td>2016-10-24T00:00:25Z</td>\n",
       "      <td>NaN</td>\n",
       "      <td>NaN</td>\n",
       "      <td>5.0</td>\n",
       "      <td>Ett mycket bra hotell. Det som drog ner betyge...</td>\n",
       "      <td>Lugnt lÀ_À_ge</td>\n",
       "      <td>NaN</td>\n",
       "      <td>Maud</td>\n",
       "      <td>NaN</td>\n",
       "    </tr>\n",
       "    <tr>\n",
       "      <th>3</th>\n",
       "      <td>Riviera San Nicol 11/a</td>\n",
       "      <td>Hotels</td>\n",
       "      <td>Mableton</td>\n",
       "      <td>US</td>\n",
       "      <td>45.421611</td>\n",
       "      <td>12.376187</td>\n",
       "      <td>Hotel Russo Palace</td>\n",
       "      <td>30126</td>\n",
       "      <td>GA</td>\n",
       "      <td>2013-10-27T00:00:00Z</td>\n",
       "      <td>2016-10-24T00:00:25Z</td>\n",
       "      <td>NaN</td>\n",
       "      <td>NaN</td>\n",
       "      <td>5.0</td>\n",
       "      <td>We stayed here for four nights in October. The...</td>\n",
       "      <td>Good location on the Lido.</td>\n",
       "      <td>NaN</td>\n",
       "      <td>Julie</td>\n",
       "      <td>NaN</td>\n",
       "    </tr>\n",
       "    <tr>\n",
       "      <th>4</th>\n",
       "      <td>Riviera San Nicol 11/a</td>\n",
       "      <td>Hotels</td>\n",
       "      <td>Mableton</td>\n",
       "      <td>US</td>\n",
       "      <td>45.421611</td>\n",
       "      <td>12.376187</td>\n",
       "      <td>Hotel Russo Palace</td>\n",
       "      <td>30126</td>\n",
       "      <td>GA</td>\n",
       "      <td>2015-03-05T00:00:00Z</td>\n",
       "      <td>2016-10-24T00:00:25Z</td>\n",
       "      <td>NaN</td>\n",
       "      <td>NaN</td>\n",
       "      <td>5.0</td>\n",
       "      <td>We stayed here for four nights in October. The...</td>\n",
       "      <td>À_À_À_À_À_À_ À_À_À_À_À_À_À_À_À_...</td>\n",
       "      <td>NaN</td>\n",
       "      <td>sungchul</td>\n",
       "      <td>NaN</td>\n",
       "    </tr>\n",
       "  </tbody>\n",
       "</table>\n",
       "</div>"
      ],
      "text/plain": [
       "                  address categories      city country   latitude  longitude  \\\n",
       "0  Riviera San Nicol 11/a     Hotels  Mableton      US  45.421611  12.376187   \n",
       "1  Riviera San Nicol 11/a     Hotels  Mableton      US  45.421611  12.376187   \n",
       "2  Riviera San Nicol 11/a     Hotels  Mableton      US  45.421611  12.376187   \n",
       "3  Riviera San Nicol 11/a     Hotels  Mableton      US  45.421611  12.376187   \n",
       "4  Riviera San Nicol 11/a     Hotels  Mableton      US  45.421611  12.376187   \n",
       "\n",
       "                 name postalCode province          reviews.date  \\\n",
       "0  Hotel Russo Palace      30126       GA  2013-09-22T00:00:00Z   \n",
       "1  Hotel Russo Palace      30126       GA  2015-04-03T00:00:00Z   \n",
       "2  Hotel Russo Palace      30126       GA  2014-05-13T00:00:00Z   \n",
       "3  Hotel Russo Palace      30126       GA  2013-10-27T00:00:00Z   \n",
       "4  Hotel Russo Palace      30126       GA  2015-03-05T00:00:00Z   \n",
       "\n",
       "      reviews.dateAdded  reviews.doRecommend  reviews.id  reviews.rating  \\\n",
       "0  2016-10-24T00:00:25Z                  NaN         NaN             4.0   \n",
       "1  2016-10-24T00:00:25Z                  NaN         NaN             5.0   \n",
       "2  2016-10-24T00:00:25Z                  NaN         NaN             5.0   \n",
       "3  2016-10-24T00:00:25Z                  NaN         NaN             5.0   \n",
       "4  2016-10-24T00:00:25Z                  NaN         NaN             5.0   \n",
       "\n",
       "                                        reviews.text  \\\n",
       "0  Pleasant 10 min walk along the sea front to th...   \n",
       "1  Really lovely hotel. Stayed on the very top fl...   \n",
       "2  Ett mycket bra hotell. Det som drog ner betyge...   \n",
       "3  We stayed here for four nights in October. The...   \n",
       "4  We stayed here for four nights in October. The...   \n",
       "\n",
       "                                       reviews.title reviews.userCity  \\\n",
       "0                 Good location away from the crouds              NaN   \n",
       "1                     Great hotel with Jacuzzi bath!              NaN   \n",
       "2                                    Lugnt lÀ_À_ge              NaN   \n",
       "3                         Good location on the Lido.              NaN   \n",
       "4  À_À_À_À_À_À_ À_À_À_À_À_À_À_À_À_...              NaN   \n",
       "\n",
       "  reviews.username reviews.userProvince  \n",
       "0      Russ (kent)                  NaN  \n",
       "1       A Traveler                  NaN  \n",
       "2             Maud                  NaN  \n",
       "3            Julie                  NaN  \n",
       "4         sungchul                  NaN  "
      ]
     },
     "execution_count": 4,
     "metadata": {},
     "output_type": "execute_result"
    }
   ],
   "source": [
    "data.head()"
   ]
  },
  {
   "cell_type": "code",
   "execution_count": 5,
   "metadata": {},
   "outputs": [
    {
     "name": "stdout",
     "output_type": "stream",
     "text": [
      "<class 'pandas.core.frame.DataFrame'>\n",
      "RangeIndex: 35912 entries, 0 to 35911\n",
      "Data columns (total 19 columns):\n",
      "address                 35912 non-null object\n",
      "categories              35912 non-null object\n",
      "city                    35912 non-null object\n",
      "country                 35912 non-null object\n",
      "latitude                35826 non-null float64\n",
      "longitude               35826 non-null float64\n",
      "name                    35912 non-null object\n",
      "postalCode              35857 non-null object\n",
      "province                35912 non-null object\n",
      "reviews.date            35653 non-null object\n",
      "reviews.dateAdded       35912 non-null object\n",
      "reviews.doRecommend     0 non-null float64\n",
      "reviews.id              0 non-null float64\n",
      "reviews.rating          35050 non-null float64\n",
      "reviews.text            35890 non-null object\n",
      "reviews.title           34290 non-null object\n",
      "reviews.userCity        16263 non-null object\n",
      "reviews.username        35869 non-null object\n",
      "reviews.userProvince    17518 non-null object\n",
      "dtypes: float64(5), object(14)\n",
      "memory usage: 5.2+ MB\n"
     ]
    }
   ],
   "source": [
    "data.info()"
   ]
  },
  {
   "cell_type": "markdown",
   "metadata": {},
   "source": [
    "## Data wrangling and cleaning\n",
    "\n",
    "First, those reviews which do not show a rating will be dropped since they do not help us in establishing the ground truth for the sentiment associated with the review. \n",
    "\n",
    "As a starting point, reviews rated as 5 or higher will be considered positive while those rated below 4 will be considered as negative. From this, we can see that negative reviews outnumber positive ones. We will keep this in mind for considering techniques to deal with imbalanced data. \n",
    "\n",
    "Then, we move on to cleaning the text: make sure that reviews are strings, convert them to lower case and delete non alphanumerical characters. \n",
    "\n",
    "Then, we are ready to split the data into train and test sets. In the next step, we fit and transform each review in the train set into a numerical vector having as features each each word (attested at least two times) and contiguous sequences of two words (bigrams). Then, this matrix is further fitted and transformed via tf-idf. A similar process is applied to the test data with the difference that only the transformations are applied; the fitting step is skip since the same fitting of the train data is used in order to allow for the same set of features (words and bigrams) in both train and test samples. During this process of fitting and transformation, stopwords were also removed."
   ]
  },
  {
   "cell_type": "code",
   "execution_count": 6,
   "metadata": {
    "collapsed": true
   },
   "outputs": [],
   "source": [
    "# Drop null values of ratings\n",
    "data = data[data['reviews.rating'].notnull()]"
   ]
  },
  {
   "cell_type": "code",
   "execution_count": 7,
   "metadata": {
    "collapsed": true
   },
   "outputs": [],
   "source": [
    "# Create column with binary values for sentiment\n",
    "data[\"sentiment\"] = [1 if x >= 5 else 0 for x in data['reviews.rating']]"
   ]
  },
  {
   "cell_type": "code",
   "execution_count": 8,
   "metadata": {},
   "outputs": [
    {
     "data": {
      "text/plain": [
       "Text(0.5,1,\"Hotel review sentiment (1 = 'positive')\")"
      ]
     },
     "execution_count": 8,
     "metadata": {},
     "output_type": "execute_result"
    },
    {
     "data": {
      "image/png": "[encoded data removed]",
      "text/plain": [
       "<matplotlib.figure.Figure at 0x1128f7fd0>"
      ]
     },
     "metadata": {},
     "output_type": "display_data"
    }
   ],
   "source": [
    "data.sentiment.value_counts().plot(kind='bar')\n",
    "plt.title(\"Hotel review sentiment (1 = 'positive')\")"
   ]
  },
  {
   "cell_type": "code",
   "execution_count": 9,
   "metadata": {
    "collapsed": true
   },
   "outputs": [],
   "source": [
    "# Cleaning text\n",
    "def clean(review):\n",
    "        review = str(review)\n",
    "        review = str(review.lower())  # Lower case\n",
    "        review = re.compile('[^a-z]+').sub(' ', str(review)).strip() # Remove non alphabetical numbers\n",
    "        return review\n",
    "\n",
    "# Add column review cleaned    \n",
    "data['review_cleaned'] = [clean(x) for x in data['reviews.text']]"
   ]
  },
  {
   "cell_type": "code",
   "execution_count": 10,
   "metadata": {},
   "outputs": [
    {
     "name": "stdout",
     "output_type": "stream",
     "text": [
      "Pleasant 10 min walk along the sea front to the Water Bus. restaurants etc. Hotel was comfortable breakfast was good - quite a variety. Room aircon didn't work very well. Take mosquito repelant!\n",
      "-----------\n",
      "pleasant min walk along the sea front to the water bus restaurants etc hotel was comfortable breakfast was good quite a variety room aircon didn t work very well take mosquito repelant\n"
     ]
    }
   ],
   "source": [
    "# Sanity check\n",
    "print(data['reviews.text'][0])\n",
    "print('-----------')\n",
    "print(data['review_cleaned'][0])"
   ]
  },
  {
   "cell_type": "code",
   "execution_count": 11,
   "metadata": {},
   "outputs": [
    {
     "name": "stdout",
     "output_type": "stream",
     "text": [
      "28040\n",
      "7010\n"
     ]
    }
   ],
   "source": [
    "# Split dataset into train and test\n",
    "data_senti = data[[\"sentiment\" , \"review_cleaned\"]]\n",
    "train = data_senti.sample(frac=0.8,random_state=200)\n",
    "test = data_senti.drop(train.index)\n",
    "\n",
    "print(len(train))\n",
    "print(len(test))"
   ]
  },
  {
   "cell_type": "code",
   "execution_count": 12,
   "metadata": {
    "collapsed": true
   },
   "outputs": [],
   "source": [
    "# Call up stopwords\n",
    "stopwords = STOPWORDS\n",
    "stopwords.remove('not')\n",
    "stopwords.remove('no')"
   ]
  },
  {
   "cell_type": "code",
   "execution_count": 13,
   "metadata": {
    "collapsed": true
   },
   "outputs": [],
   "source": [
    "# Vectorize reviews for classification: random forest, linear regression, SVM, BernouliNB, etc\n",
    "\n",
    "# Call tfidf vectorizer, fit and transform the data \n",
    "count_vect = CountVectorizer(min_df = 2, stop_words = stopwords , ngram_range = (1,2))\n",
    "tfidf_transformer = TfidfTransformer()\n",
    "\n",
    "X_train_counts = count_vect.fit_transform(train[\"review_cleaned\"])        \n",
    "X_train_tfidf = tfidf_transformer.fit_transform(X_train_counts)\n",
    "\n",
    "X_test_counts = count_vect.transform(test[\"review_cleaned\"])        \n",
    "X_test_tfidf = tfidf_transformer.transform(X_test_counts)\n",
    "\n",
    "#tfidf_vect = TfidfVectorizer(min_df = 2, stop_words = stopwords, ngram_range=(1, 2))\n",
    "#X_train_tfidf = tfidf_vect.fit_transform(train['review_cleaned'])\n",
    "#X_test_tfidf = tfidf_vect.fit_transform(test['review_cleaned'])\n",
    "\n",
    "y_train = train['sentiment']\n",
    "y_test = test['sentiment']"
   ]
  },
  {
   "cell_type": "code",
   "execution_count": 14,
   "metadata": {},
   "outputs": [
    {
     "name": "stdout",
     "output_type": "stream",
     "text": [
      "X_train: (28040, 89627)\n",
      "y_train: (28040,)\n",
      "X_test: (7010, 89627)\n",
      "y_test: (7010,)\n"
     ]
    }
   ],
   "source": [
    "# Evaluate dimensionality\n",
    "print('X_train:', X_train_tfidf.shape)\n",
    "print('y_train:', y_train.shape)\n",
    "print('X_test:', X_test_tfidf.shape)\n",
    "print('y_test:', y_test.shape)"
   ]
  },
  {
   "cell_type": "code",
   "execution_count": 15,
   "metadata": {
    "collapsed": true
   },
   "outputs": [],
   "source": [
    "# Instantiate different classifiers\n",
    "#logreg = linear_model.LogisticRegression(solver='lbfgs' , C=10000)  # Logistic regression\n",
    "#multi_NB = MultinomialNB()   # Multinomial naive bayes\n",
    "#b_NB = BernoulliNB()   # Bernoulli naive bayes\n",
    "#rf = RandomForestRegressor(n_estimators=20, max_depth=30, random_state=30)  # Random forest\n",
    "\n",
    "# SVM won't be used because of its difficulty to scale\n",
    "\n",
    "\n",
    "# Set up lists to store models, results and names\n",
    "#models = []\n",
    "\n",
    "#models.append(('LR', logreg))\n",
    "#models.append(('Multi_NB', multi_NB))\n",
    "#models.append(('Bernoulli_NB', b_NB))\n",
    "#models.append(('Random_forest', rf))\n",
    "    \n",
    "#results = []\n",
    "#names = []"
   ]
  },
  {
   "cell_type": "markdown",
   "metadata": {},
   "source": [
    "## Training the model\n",
    "\n",
    "Given that we are trying to predict whether the review was positive or negative, this involves a binary classification task. Since there is a variety of classifiers for this task with different strengths and weakneses, we attempt to try some of the compare their performace. Here we will be testing the following classifiers: Logistic Regression, Multinomial N(aive) B(ayes), Bernoulli N(aive) B(ayes), Random Fores and KNeighbors classifier. \n",
    "\n",
    "These classifiers will be evaluated with regard to their accuracy in both the train and test data, prediction accuracy and log loss. A dataframe is created to store this information and another dataframe to contain the review predictions for each classifier. \n",
    "\n",
    "After running the models, we find the the BernoulliNB classifier obtains the highest performance: 75.69%. Furthermore, it is the BernoulliNB classifier that also has the highest ROC AUC value: .77. "
   ]
  },
  {
   "cell_type": "code",
   "execution_count": 16,
   "metadata": {
    "collapsed": true
   },
   "outputs": [],
   "source": [
    "classifiers = [linear_model.LogisticRegression(solver='lbfgs' , C=10000), \n",
    "              MultinomialNB(), \n",
    "              BernoulliNB(), \n",
    "              RandomForestClassifier(n_estimators=20, max_depth=30, random_state=30), \n",
    "              KNeighborsClassifier()]"
   ]
  },
  {
   "cell_type": "code",
   "execution_count": 17,
   "metadata": {
    "collapsed": true
   },
   "outputs": [],
   "source": [
    "# Create a dataframe with results\n",
    "results_cols = ['Classifier', 'Train score', 'Test score', 'Accuracy', 'Log Loss']\n",
    "results = pd.DataFrame(columns = results_cols)\n",
    "\n",
    "predictions_cols = ['Logistic_regression', 'MultinomialNB', 'BernoulliNB', 'RandomForest', 'KNeighbors']\n",
    "predictions = pd.DataFrame()"
   ]
  },
  {
   "cell_type": "code",
   "execution_count": 18,
   "metadata": {},
   "outputs": [
    {
     "name": "stdout",
     "output_type": "stream",
     "text": [
      "==============================\n",
      "LogisticRegression\n",
      "**** Results ****\n",
      "Train score: 98.0884%\n",
      "Test score: 73.1954%\n",
      "Accuracy: 73.1954%\n",
      "Log Loss: 1.599029948996817\n",
      "==============================\n",
      "MultinomialNB\n",
      "**** Results ****\n",
      "Train score: 83.4629%\n",
      "Test score: 74.2939%\n",
      "Accuracy: 74.2939%\n",
      "Log Loss: 0.49556609892741993\n",
      "==============================\n",
      "BernoulliNB\n",
      "**** Results ****\n",
      "Train score: 82.7960%\n",
      "Test score: 75.6919%\n",
      "Accuracy: 75.6919%\n",
      "Log Loss: 1.461166745324262\n",
      "==============================\n",
      "RandomForestClassifier\n",
      "**** Results ****\n",
      "Train score: 72.3502%\n",
      "Test score: 66.8616%\n",
      "Accuracy: 66.8616%\n",
      "Log Loss: 0.5856102467161411\n",
      "==============================\n",
      "KNeighborsClassifier\n",
      "**** Results ****\n",
      "Train score: 72.8174%\n",
      "Test score: 57.7746%\n",
      "Accuracy: 57.7746%\n",
      "Log Loss: 1.7583295665041503\n"
     ]
    }
   ],
   "source": [
    "# Run classifiers\n",
    "\n",
    "for clf in classifiers:\n",
    "    clf.fit(X_train_tfidf, y_train)\n",
    "    \n",
    "    name = clf.__class__.__name__\n",
    "    \n",
    "    print('='*30)\n",
    "    print(name)\n",
    "    \n",
    "    print('**** Results ****')\n",
    "    train_score = clf.score(X_train_tfidf, y_train)\n",
    "    test_score = clf.score(X_test_tfidf, y_test)\n",
    "    print('Train score: {:.4%}'.format(train_score))\n",
    "    print('Test score: {:.4%}'.format(test_score))\n",
    "    \n",
    "    prediction = clf.predict(X_test_tfidf)\n",
    "    acc = accuracy_score(y_test, prediction)\n",
    "    print(\"Accuracy: {:.4%}\".format(acc))\n",
    "    log_predictions = pd.DataFrame(prediction.tolist())\n",
    "    predictions = pd.concat([predictions, log_predictions], axis = 1)\n",
    "    \n",
    "    \n",
    "    train_predictions = clf.predict_proba(X_test_tfidf)\n",
    "    ll = log_loss(y_test, train_predictions)\n",
    "    print(\"Log Loss: {}\".format(ll))\n",
    "    \n",
    "    #acc and ll have been removed\n",
    "    log_entry = pd.DataFrame([[name, train_score, test_score, acc, ll]], columns = results_cols)\n",
    "    results = results.append(log_entry)"
   ]
  },
  {
   "cell_type": "code",
   "execution_count": 19,
   "metadata": {},
   "outputs": [
    {
     "data": {
      "text/html": [
       "<div>\n",
       "<style scoped>\n",
       "    .dataframe tbody tr th:only-of-type {\n",
       "        vertical-align: middle;\n",
       "    }\n",
       "\n",
       "    .dataframe tbody tr th {\n",
       "        vertical-align: top;\n",
       "    }\n",
       "\n",
       "    .dataframe thead th {\n",
       "        text-align: right;\n",
       "    }\n",
       "</style>\n",
       "<table border=\"1\" class=\"dataframe\">\n",
       "  <thead>\n",
       "    <tr style=\"text-align: right;\">\n",
       "      <th></th>\n",
       "      <th>Classifier</th>\n",
       "      <th>Train score</th>\n",
       "      <th>Test score</th>\n",
       "      <th>Accuracy</th>\n",
       "      <th>Log Loss</th>\n",
       "    </tr>\n",
       "  </thead>\n",
       "  <tbody>\n",
       "    <tr>\n",
       "      <th>0</th>\n",
       "      <td>LogisticRegression</td>\n",
       "      <td>0.980884</td>\n",
       "      <td>0.731954</td>\n",
       "      <td>0.731954</td>\n",
       "      <td>1.599030</td>\n",
       "    </tr>\n",
       "    <tr>\n",
       "      <th>0</th>\n",
       "      <td>MultinomialNB</td>\n",
       "      <td>0.834629</td>\n",
       "      <td>0.742939</td>\n",
       "      <td>0.742939</td>\n",
       "      <td>0.495566</td>\n",
       "    </tr>\n",
       "    <tr>\n",
       "      <th>0</th>\n",
       "      <td>BernoulliNB</td>\n",
       "      <td>0.827960</td>\n",
       "      <td>0.756919</td>\n",
       "      <td>0.756919</td>\n",
       "      <td>1.461167</td>\n",
       "    </tr>\n",
       "    <tr>\n",
       "      <th>0</th>\n",
       "      <td>RandomForestClassifier</td>\n",
       "      <td>0.723502</td>\n",
       "      <td>0.668616</td>\n",
       "      <td>0.668616</td>\n",
       "      <td>0.585610</td>\n",
       "    </tr>\n",
       "    <tr>\n",
       "      <th>0</th>\n",
       "      <td>KNeighborsClassifier</td>\n",
       "      <td>0.728174</td>\n",
       "      <td>0.577746</td>\n",
       "      <td>0.577746</td>\n",
       "      <td>1.758330</td>\n",
       "    </tr>\n",
       "  </tbody>\n",
       "</table>\n",
       "</div>"
      ],
      "text/plain": [
       "               Classifier  Train score  Test score  Accuracy  Log Loss\n",
       "0      LogisticRegression     0.980884    0.731954  0.731954  1.599030\n",
       "0           MultinomialNB     0.834629    0.742939  0.742939  0.495566\n",
       "0             BernoulliNB     0.827960    0.756919  0.756919  1.461167\n",
       "0  RandomForestClassifier     0.723502    0.668616  0.668616  0.585610\n",
       "0    KNeighborsClassifier     0.728174    0.577746  0.577746  1.758330"
      ]
     },
     "execution_count": 19,
     "metadata": {},
     "output_type": "execute_result"
    }
   ],
   "source": [
    "# Check out results\n",
    "results.head()"
   ]
  },
  {
   "cell_type": "code",
   "execution_count": 20,
   "metadata": {},
   "outputs": [
    {
     "name": "stdout",
     "output_type": "stream",
     "text": [
      "   Logistic_regression  MultinomialNB  BernoulliNB  RandomForest  KNeighbors\n",
      "0                    0              0            1             0           1\n",
      "1                    0              0            1             0           1\n",
      "2                    0              1            1             1           1\n",
      "3                    0              1            1             1           0\n",
      "4                    1              0            0             0           0\n",
      "(7010, 5)\n"
     ]
    }
   ],
   "source": [
    "# Check out results: predictions\n",
    "predictions.columns = predictions_cols\n",
    "print(predictions.head())\n",
    "print(predictions.shape)"
   ]
  },
  {
   "cell_type": "code",
   "execution_count": 21,
   "metadata": {},
   "outputs": [
    {
     "data": {
      "image/png": "[encoded data removed]",
      "text/plain": [
       "<matplotlib.figure.Figure at 0x1122bf2b0>"
      ]
     },
     "metadata": {},
     "output_type": "display_data"
    }
   ],
   "source": [
    "# Further metrics ROC\n",
    "\n",
    "cmp = 0\n",
    "colors = ['b', 'g', 'y', 'm', 'k']\n",
    "for model, predict in predictions.items():\n",
    "    false_positive_rate, true_positive_rate, thresholds = roc_curve(y_test, predict)\n",
    "    roc_auc = auc(false_positive_rate, true_positive_rate)\n",
    "    plt.plot(false_positive_rate, true_positive_rate, colors[cmp], label='%s: AUC %0.2f'% (model,roc_auc))\n",
    "    cmp += 1\n",
    "\n",
    "plt.title('Classifiers  ROC AUC')\n",
    "plt.xlabel('False positive rate')\n",
    "plt.ylabel('True positive rate')\n",
    "plt.legend(loc='lower right')\n",
    "plt.plot([0,1],[0,1],'r--')\n",
    "plt.show()"
   ]
  },
  {
   "cell_type": "markdown",
   "metadata": {},
   "source": [
    "## Further steps\n",
    "\n",
    "The next steps of this project involve mainly improving the model performance. For this, a number of different approaches will be tried:\n",
    "\n",
    "    - Keep the difference in (upper) case in certain words that could help the classifier make the class distinction. \n",
    "    - Adjust the rating threshold in order to show better the contrast between positive and negative review, e.g. have a more polarized system for classifying rewies. \n",
    "    - Add additional models to evaluate their performance. \n",
    "    - Tune manually the models hyperparameters using grid serach.\n",
    "    - Add additional features to be used by the classifiers: metadata, review title, etc. \n",
    "    - Try a model using neural networks. "
   ]
  },
  {
   "cell_type": "markdown",
   "metadata": {},
   "source": [
    "### Change the threshold for review sentiment"
   ]
  },
  {
   "cell_type": "code",
   "execution_count": 22,
   "metadata": {},
   "outputs": [
    {
     "name": "stdout",
     "output_type": "stream",
     "text": [
      "None    22605\n",
      "0       12103\n",
      "1         342\n",
      "Name: sentiment_conservative, dtype: int64\n",
      "12445\n",
      "0    12103\n",
      "1      342\n",
      "Name: sentiment_conservative, dtype: int64\n"
     ]
    }
   ],
   "source": [
    "# Reorganize the data into positive and negative reviews with a more conservative margin\n",
    "# Positive => 7; Negative =< 3\n",
    "\n",
    "# Create column with binary values for sentiment\n",
    "data[\"sentiment_conservative\"] = [1 if x >= 6 else 0 if x <= 3 else 'None' for x in data['reviews.rating']]\n",
    "print(data['sentiment_conservative'].value_counts()) \n",
    "\n",
    "# Create data_cs with only the positive and negative values \n",
    "data_cs = data.loc[data['sentiment_conservative'].isin([1,0])]\n",
    "print(len(data_cs))\n",
    "print(data_cs['sentiment_conservative'].value_counts())"
   ]
  },
  {
   "cell_type": "markdown",
   "metadata": {},
   "source": [
    "Notice the highly imbalanced data obtained with a strong bias towards the negative class. In order to account for this, we will upsample the positive class and downsample the negative class. "
   ]
  },
  {
   "cell_type": "code",
   "execution_count": 23,
   "metadata": {
    "collapsed": true
   },
   "outputs": [],
   "source": [
    "# Resampling: upsampling and downsampling\n",
    "\n",
    "# Separate the classes\n",
    "positive_cs = data_cs[data_cs.sentiment_conservative == 1]\n",
    "negative_cs = data_cs[data_cs.sentiment_conservative != 1]\n",
    "\n",
    "# Perform up and downsampling\n",
    "positive_cs_upsample = resample(positive_cs, replace=True, n_samples=1500, random_state=123)\n",
    "negative_cs_downsample = resample(negative_cs, replace=False, n_samples=1500, random_state=123)\n",
    "\n",
    "# Concatenate the resampled dataframes\n",
    "data_cs_resampled = pd.concat([positive_cs_upsample, negative_cs_downsample])\n",
    "\n",
    "# Split dataset into train and test\n",
    "data_senti_cs_resampled = data_cs_resampled[[\"sentiment_conservative\" , \"review_cleaned\"]] # dataframe with only 2 columns\n",
    "train_cs_resampled = data_senti_cs_resampled.sample(frac=0.8,random_state=200)\n",
    "test_cs_resampled = data_senti_cs_resampled.drop(train.index)"
   ]
  },
  {
   "cell_type": "code",
   "execution_count": 24,
   "metadata": {
    "collapsed": true
   },
   "outputs": [],
   "source": [
    "# Vectorize reviews from resampled dataset\n",
    "X_train_counts_cs_resampled = count_vect.fit_transform(train_cs_resampled[\"review_cleaned\"])        \n",
    "X_train_tfidf_cs_resampled = tfidf_transformer.fit_transform(X_train_counts_cs_resampled)\n",
    "\n",
    "X_test_counts_cs_resampled = count_vect.transform(test_cs_resampled[\"review_cleaned\"])        \n",
    "X_test_tfidf_cs_resampled = tfidf_transformer.transform(X_test_counts_cs_resampled)\n",
    "\n",
    "y_train_cs_resampled = train_cs_resampled['sentiment_conservative'].astype('int')\n",
    "y_test_cs_resampled = test_cs_resampled['sentiment_conservative'].astype('int')"
   ]
  },
  {
   "cell_type": "code",
   "execution_count": 25,
   "metadata": {},
   "outputs": [
    {
     "name": "stdout",
     "output_type": "stream",
     "text": [
      "==============================\n",
      "LogisticRegression\n",
      "**** Results ****\n",
      "Train score: 99.9583%\n",
      "Test score: 99.3092%\n",
      "Accuracy: 99.3092%\n",
      "Log Loss: 0.015718726019979153\n",
      "==============================\n",
      "MultinomialNB\n",
      "**** Results ****\n",
      "Train score: 98.1667%\n",
      "Test score: 97.4093%\n",
      "Accuracy: 97.4093%\n",
      "Log Loss: 0.1624447931612195\n",
      "==============================\n",
      "BernoulliNB\n",
      "**** Results ****\n",
      "Train score: 90.7500%\n",
      "Test score: 91.3644%\n",
      "Accuracy: 91.3644%\n",
      "Log Loss: 0.35380962933480803\n",
      "==============================\n",
      "RandomForestClassifier\n",
      "**** Results ****\n",
      "Train score: 96.8333%\n",
      "Test score: 94.1278%\n",
      "Accuracy: 94.1278%\n",
      "Log Loss: 0.31145346835904997\n",
      "==============================\n",
      "KNeighborsClassifier\n",
      "**** Results ****\n",
      "Train score: 92.8333%\n",
      "Test score: 92.2280%\n",
      "Accuracy: 92.2280%\n",
      "Log Loss: 0.22132969487484686\n"
     ]
    }
   ],
   "source": [
    "# Run the classifiers\n",
    "\n",
    "# Create list of classifiers\n",
    "classifiers_cs_resampled = [linear_model.LogisticRegression(solver='lbfgs' , C=10000), \n",
    "              MultinomialNB(), \n",
    "              BernoulliNB(), \n",
    "              RandomForestClassifier(n_estimators=20, max_depth=30, random_state=30), \n",
    "              KNeighborsClassifier()]\n",
    "\n",
    "# Create a dataframe with results\n",
    "results_cols_cs_resampled = ['Classifier', 'Train score', 'Test score', 'Accuracy', 'Log Loss']\n",
    "results_cs_resampled = pd.DataFrame(columns = results_cols)\n",
    "\n",
    "predictions_cols_cs_resampled = ['Logistic_regression', 'MultinomialNB', 'BernoulliNB', 'RandomForest', 'KNeighbors']\n",
    "predictions_cs_resampled = pd.DataFrame()\n",
    "\n",
    "# Run classifiers\n",
    "\n",
    "for clf in classifiers_cs_resampled:\n",
    "    clf.fit(X_train_tfidf_cs_resampled, y_train_cs_resampled)\n",
    "    \n",
    "    name = clf.__class__.__name__\n",
    "    \n",
    "    print('='*30)\n",
    "    print(name)\n",
    "    \n",
    "    print('**** Results ****')\n",
    "    train_score = clf.score(X_train_tfidf_cs_resampled, y_train_cs_resampled)\n",
    "    test_score = clf.score(X_test_tfidf_cs_resampled, y_test_cs_resampled)\n",
    "    print('Train score: {:.4%}'.format(train_score))\n",
    "    print('Test score: {:.4%}'.format(test_score))\n",
    "    \n",
    "    prediction = clf.predict(X_test_tfidf_cs_resampled)\n",
    "    acc = accuracy_score(y_test_cs_resampled, prediction)\n",
    "    print(\"Accuracy: {:.4%}\".format(acc))\n",
    "    log_predictions = pd.DataFrame(prediction.tolist())\n",
    "    predictions_cs_resampled = pd.concat([predictions_cs_resampled, log_predictions], axis = 1)\n",
    "    \n",
    "    \n",
    "    train_predictions = clf.predict_proba(X_test_tfidf_cs_resampled)\n",
    "    ll = log_loss(y_test_cs_resampled, train_predictions)\n",
    "    print(\"Log Loss: {}\".format(ll))\n",
    "    \n",
    "    #acc and ll have been removed\n",
    "    log_entry = pd.DataFrame([[name, train_score, test_score, acc, ll]], columns = results_cols_cs_resampled)\n",
    "    results_cs_resampled = results_cs_resampled.append(log_entry)"
   ]
  },
  {
   "cell_type": "markdown",
   "metadata": {},
   "source": [
    "Notice that all these models seem to perform very well, higher than 90% each. This is a little bit too suspicious. Find possible causes for this. "
   ]
  },
  {
   "cell_type": "code",
   "execution_count": 26,
   "metadata": {},
   "outputs": [
    {
     "name": "stdout",
     "output_type": "stream",
     "text": [
      "   Logistic_regression  MultinomialNB  BernoulliNB  RandomForest  KNeighbors\n",
      "0                    1              1            1             1           1\n",
      "1                    1              1            0             0           1\n",
      "2                    1              1            0             1           1\n",
      "3                    1              1            1             1           1\n",
      "4                    1              1            1             1           1\n",
      "(579, 5)\n"
     ]
    }
   ],
   "source": [
    "# Check out results: predictions\n",
    "predictions_cs_resampled.columns = predictions_cols_cs_resampled\n",
    "print(predictions_cs_resampled.head())\n",
    "print(predictions_cs_resampled.shape)"
   ]
  },
  {
   "cell_type": "code",
   "execution_count": 27,
   "metadata": {},
   "outputs": [
    {
     "data": {
      "image/png": "[encoded data removed]",
      "text/plain": [
       "<matplotlib.figure.Figure at 0x106f700b8>"
      ]
     },
     "metadata": {},
     "output_type": "display_data"
    }
   ],
   "source": [
    "# Further metrics ROC of resampled sentiment conservative data\n",
    "\n",
    "cmp = 0\n",
    "colors = ['b', 'g', 'y', 'm', 'k']\n",
    "for model, predict in predictions_cs_resampled.items():\n",
    "    false_positive_rate, true_positive_rate, thresholds = roc_curve(y_test_cs_resampled, predict)\n",
    "    roc_auc = auc(false_positive_rate, true_positive_rate)\n",
    "    plt.plot(false_positive_rate, true_positive_rate, colors[cmp], label='%s: AUC %0.2f'% (model,roc_auc))\n",
    "    cmp += 1\n",
    "\n",
    "plt.title('Classifiers  ROC AUC - Resampled (\"Conservative sentiment\")')\n",
    "plt.xlabel('False positive rate')\n",
    "plt.ylabel('True positive rate')\n",
    "plt.legend(loc='lower right')\n",
    "plt.plot([0,1],[0,1],'r--')\n",
    "plt.show()"
   ]
  },
  {
   "cell_type": "markdown",
   "metadata": {},
   "source": [
    "### Neural network analysis"
   ]
  },
  {
   "cell_type": "code",
   "execution_count": 27,
   "metadata": {},
   "outputs": [
    {
     "name": "stderr",
     "output_type": "stream",
     "text": [
      "Using TensorFlow backend.\n"
     ]
    },
    {
     "name": "stdout",
     "output_type": "stream",
     "text": [
      "(35050, 110680)\n",
      "(35050, 2)\n",
      "<class 'scipy.sparse.csr.csr_matrix'>\n",
      "<class 'numpy.matrixlib.defmatrix.matrix'>\n"
     ]
    }
   ],
   "source": [
    "# Neural network analysis\n",
    "\n",
    "# Pre_process data\n",
    "# Note this data has 1 for reviews >=5 and 0 for everyting lower\n",
    "\n",
    "# Convert target data into categorical and then to a matrix\n",
    "from keras.utils import to_categorical\n",
    "\n",
    "y_nn = to_categorical(data_senti.sentiment)\n",
    "y_nn = np.asmatrix(y_nn)\n",
    "\n",
    "# Create data for variable X\n",
    "X_nn = data_senti.review_cleaned\n",
    "X_nn = count_vect.fit_transform(X_nn)        \n",
    "X_nn = tfidf_transformer.fit_transform(X_nn)\n",
    "\n",
    "print(X_nn.shape)\n",
    "print(y_nn.shape)\n",
    "print(type(X_nn))\n",
    "print(type(y_nn))"
   ]
  },
  {
   "cell_type": "code",
   "execution_count": 29,
   "metadata": {},
   "outputs": [
    {
     "name": "stdout",
     "output_type": "stream",
     "text": [
      "Train on 26287 samples, validate on 8763 samples\n",
      "Epoch 1/20\n",
      "26287/26287 [==============================] - 142s 5ms/step - loss: 0.4918 - acc: 0.7525 - val_loss: 0.4943 - val_acc: 0.7455\n",
      "Epoch 2/20\n",
      "26287/26287 [==============================] - 165s 6ms/step - loss: 0.2426 - acc: 0.8979 - val_loss: 0.5861 - val_acc: 0.7290\n",
      "Epoch 3/20\n",
      "26287/26287 [==============================] - 169s 6ms/step - loss: 0.1100 - acc: 0.9513 - val_loss: 0.7494 - val_acc: 0.7242\n"
     ]
    },
    {
     "data": {
      "text/plain": [
       "<keras.callbacks.History at 0x110aea898>"
      ]
     },
     "execution_count": 29,
     "metadata": {},
     "output_type": "execute_result"
    }
   ],
   "source": [
    "# Create a simple neural network\n",
    "\n",
    "import keras\n",
    "from keras.layers import Dense\n",
    "from keras.models import Sequential\n",
    "from keras.callbacks import EarlyStopping\n",
    "\n",
    "input_shape = X_nn.shape[1]\n",
    "early_stopping_monitor = EarlyStopping(patience=2)\n",
    "\n",
    "model = Sequential()\n",
    "model.add(Dense(100, activation='relu', input_shape=(input_shape, ))) #Input shape: number of columns of X\n",
    "model.add(Dense(2, activation='softmax'))\n",
    "model.compile(optimizer='adam', loss='categorical_crossentropy', metrics=['accuracy'])\n",
    "model.fit(X_nn, y_nn, validation_split=0.25, epochs=20, callbacks=[early_stopping_monitor])"
   ]
  },
  {
   "cell_type": "code",
   "execution_count": 30,
   "metadata": {},
   "outputs": [
    {
     "name": "stdout",
     "output_type": "stream",
     "text": [
      "Train on 26287 samples, validate on 8763 samples\n",
      "Epoch 1/20\n",
      "26287/26287 [==============================] - 163s 6ms/step - loss: 0.4903 - acc: 0.7533 - val_loss: 0.4938 - val_acc: 0.7469\n",
      "Epoch 2/20\n",
      "26287/26287 [==============================] - 147s 6ms/step - loss: 0.2126 - acc: 0.9074 - val_loss: 0.6426 - val_acc: 0.7273\n",
      "Epoch 3/20\n",
      "26287/26287 [==============================] - 157s 6ms/step - loss: 0.0933 - acc: 0.9553 - val_loss: 0.9220 - val_acc: 0.7185\n"
     ]
    },
    {
     "data": {
      "text/plain": [
       "<keras.callbacks.History at 0x11789a438>"
      ]
     },
     "execution_count": 30,
     "metadata": {},
     "output_type": "execute_result"
    }
   ],
   "source": [
    "# Neural netwrok with two hidden layers (100 nodes each)\n",
    "model_2 = Sequential()\n",
    "model_2.add(Dense(100, activation='relu', input_shape=(input_shape, ))) #Input shape: number of columns of X\n",
    "model_2.add(Dense(100, activation='relu'))\n",
    "model_2.add(Dense(2, activation='softmax'))\n",
    "model_2.compile(optimizer='adam', loss='categorical_crossentropy', metrics=['accuracy'])\n",
    "model_2.fit(X_nn, y_nn, validation_split=0.25, epochs=20, callbacks=[early_stopping_monitor])"
   ]
  },
  {
   "cell_type": "code",
   "execution_count": 31,
   "metadata": {},
   "outputs": [
    {
     "name": "stdout",
     "output_type": "stream",
     "text": [
      "Train on 26287 samples, validate on 8763 samples\n",
      "Epoch 1/20\n",
      "26287/26287 [==============================] - 340s 13ms/step - loss: 0.4893 - acc: 0.7545 - val_loss: 0.4927 - val_acc: 0.7508\n",
      "Epoch 2/20\n",
      "26287/26287 [==============================] - 309s 12ms/step - loss: 0.2222 - acc: 0.9025 - val_loss: 0.6282 - val_acc: 0.7220\n",
      "Epoch 3/20\n",
      "26287/26287 [==============================] - 334s 13ms/step - loss: 0.0991 - acc: 0.9554 - val_loss: 0.8053 - val_acc: 0.7200\n"
     ]
    },
    {
     "data": {
      "text/plain": [
       "<keras.callbacks.History at 0x1172967b8>"
      ]
     },
     "execution_count": 31,
     "metadata": {},
     "output_type": "execute_result"
    }
   ],
   "source": [
    "# Model 3: 1 hidden layer, 250 nodes\n",
    "model_3 = Sequential()\n",
    "model_3.add(Dense(250, activation='relu', input_shape=(input_shape, ))) #Input shape: number of columns of X\n",
    "model_3.add(Dense(2, activation='softmax'))\n",
    "model_3.compile(optimizer='adam', loss='categorical_crossentropy', metrics=['accuracy'])\n",
    "model_3.fit(X_nn, y_nn, validation_split=0.25, epochs=20, callbacks=[early_stopping_monitor])"
   ]
  },
  {
   "cell_type": "markdown",
   "metadata": {},
   "source": [
    "### Neural networks\n",
    "\n",
    "Notice that the three neural networks models tried here produce results less accurate than the BernoulliNB (75%). Maybe more data could make the neural network performance better. "
   ]
  },
  {
   "cell_type": "code",
   "execution_count": 32,
   "metadata": {
    "collapsed": true
   },
   "outputs": [],
   "source": [
    "### Neural networks second part\n",
    "\n",
    "# Import keras tokenizer\n",
    "from keras.preprocessing.text import Tokenizer\n",
    "\n",
    "def nn_tokenizer(data, mode):\n",
    "    '''Define function to convert X text data into numerical data though different tokenization modes'''\n",
    "    tokenizer = Tokenizer()\n",
    "    tokenizer.fit_on_texts(data)\n",
    "    X_nn = tokenizer.texts_to_matrix(data, mode=mode)\n",
    "    return X_nn"
   ]
  },
  {
   "cell_type": "code",
   "execution_count": 33,
   "metadata": {
    "collapsed": true
   },
   "outputs": [],
   "source": [
    "# Define a simple model for neural network\n",
    "\n",
    "def snn_model(X, y, input_shape):\n",
    "    '''Define a model, compile and fit it: return accuracy scores'''\n",
    "    model = Sequential()\n",
    "    model.add(Dense(100, activation='relu', input_shape=(input_shape, ))) #Input shape: number of columns of X\n",
    "    model.add(Dense(2, activation='softmax'))\n",
    "    \n",
    "    model.compile(optimizer='adam', loss='categorical_crossentropy', metrics=['accuracy'])\n",
    "    \n",
    "    history = model.fit(X, y, validation_split=0.25, epochs=20, callbacks=[early_stopping_monitor], verbose=2)\n",
    "    scores.append(history.history.keys())"
   ]
  },
  {
   "cell_type": "code",
   "execution_count": 34,
   "metadata": {},
   "outputs": [
    {
     "name": "stdout",
     "output_type": "stream",
     "text": [
      "Train on 26287 samples, validate on 8763 samples\n",
      "Epoch 1/20\n",
      " - 37s - loss: 0.4901 - acc: 0.7593 - val_loss: 0.4949 - val_acc: 0.7503\n",
      "Epoch 2/20\n",
      " - 41s - loss: 0.3726 - acc: 0.8244 - val_loss: 0.5330 - val_acc: 0.7439\n",
      "Epoch 3/20\n",
      " - 33s - loss: 0.2785 - acc: 0.8766 - val_loss: 0.6195 - val_acc: 0.7374\n",
      "Train on 26287 samples, validate on 8763 samples\n",
      "Epoch 1/20\n",
      " - 39s - loss: 0.4886 - acc: 0.7611 - val_loss: 0.4928 - val_acc: 0.7553\n",
      "Epoch 2/20\n",
      " - 36s - loss: 0.3700 - acc: 0.8269 - val_loss: 0.5391 - val_acc: 0.7446\n",
      "Epoch 3/20\n",
      " - 32s - loss: 0.2757 - acc: 0.8808 - val_loss: 0.6134 - val_acc: 0.7431\n",
      "Train on 26287 samples, validate on 8763 samples\n",
      "Epoch 1/20\n",
      " - 36s - loss: 0.5000 - acc: 0.7590 - val_loss: 0.5046 - val_acc: 0.7519\n",
      "Epoch 2/20\n",
      " - 46s - loss: 0.3326 - acc: 0.8477 - val_loss: 0.5741 - val_acc: 0.7372\n",
      "Epoch 3/20\n",
      " - 32s - loss: 0.2260 - acc: 0.9038 - val_loss: 0.7163 - val_acc: 0.7291\n",
      "Train on 26287 samples, validate on 8763 samples\n",
      "Epoch 1/20\n",
      " - 40s - loss: 0.5462 - acc: 0.7216 - val_loss: 0.5244 - val_acc: 0.7462\n",
      "Epoch 2/20\n",
      " - 38s - loss: 0.4490 - acc: 0.7931 - val_loss: 0.5285 - val_acc: 0.7496\n",
      "Epoch 3/20\n",
      " - 32s - loss: 0.4021 - acc: 0.8178 - val_loss: 0.5393 - val_acc: 0.7478\n"
     ]
    }
   ],
   "source": [
    "# Define different modes\n",
    "modes = ['binary', 'count', 'tfidf', 'freq']\n",
    "\n",
    "# Define list of scores to record the results\n",
    "scores = []\n",
    "\n",
    "# Run the different methods and score the scores\n",
    "\n",
    "for mode in modes:\n",
    "    X_nn = nn_tokenizer(data_senti.review_cleaned, mode)\n",
    "    input_shape = X_nn.shape[1] \n",
    "    snn_model(X_nn, y_nn, input_shape=input_shape)"
   ]
  },
  {
   "cell_type": "markdown",
   "metadata": {},
   "source": [
    "It looks like the neural network performance is relatively the same with respect to the mode of tokenization used with slightly higher values for binary and frequency modes. "
   ]
  },
  {
   "cell_type": "markdown",
   "metadata": {},
   "source": [
    "## Part of speech tagging"
   ]
  },
  {
   "cell_type": "code",
   "execution_count": 28,
   "metadata": {},
   "outputs": [
    {
     "name": "stdout",
     "output_type": "stream",
     "text": [
      "pleasant min walk along the sea front to the water bus restaurants etc hotel was comfortable breakfast was good quite a variety room aircon didn t work very well take mosquito repelant\n",
      "==============================\n",
      "pleasant min walk along sea front water bus restaurants etc hotel comfortable breakfast good quite variety room aircon work well take mosquito repelant\n",
      "==============================\n",
      "[('pleasant', 'JJ'), ('min', 'NN'), ('walk', 'NN'), ('along', 'IN'), ('sea', 'NN'), ('front', 'JJ'), ('water', 'NN'), ('bus', 'NN'), ('restaurants', 'NNS'), ('etc', 'JJ'), ('hotel', 'NN'), ('comfortable', 'JJ'), ('breakfast', 'NN'), ('good', 'JJ'), ('quite', 'RB'), ('variety', 'NN'), ('room', 'NN'), ('aircon', 'NN'), ('work', 'NN'), ('well', 'RB'), ('take', 'VB'), ('mosquito', 'NN'), ('repelant', 'NN')]\n",
      "==============================\n",
      "['pleasantJJ', 'minNN', 'walkNN', 'alongIN', 'seaNN', 'frontJJ', 'waterNN', 'busNN', 'restaurantsNNS', 'etcJJ', 'hotelNN', 'comfortableJJ', 'breakfastNN', 'goodJJ', 'quiteRB', 'varietyNN', 'roomNN', 'airconNN', 'workNN', 'wellRB', 'takeVB', 'mosquitoNN', 'repelantNN']\n",
      "==============================\n",
      "pleasantJJ minNN walkNN alongIN seaNN frontJJ waterNN busNN restaurantsNNS etcJJ hotelNN comfortableJJ breakfastNN goodJJ quiteRB varietyNN roomNN airconNN workNN wellRB takeVB mosquitoNN repelantNN\n"
     ]
    }
   ],
   "source": [
    "# Add pos tagging to the bag of words\n",
    "from nltk import pos_tag\n",
    "from nltk.tokenize import word_tokenize\n",
    "from nltk.corpus import stopwords\n",
    "\n",
    "# Create column with cleaned text (str, lower case); tokenize it and add part of speech    \n",
    "data['pos'] = [clean(x) for x in data['reviews.text']]\n",
    "print(data['pos'][0])\n",
    "(print('=' * 30))\n",
    "\n",
    "# Remove stop words\n",
    "stoplist = set(stopwords.words('english'))\n",
    "data['pos'] = data['pos'].apply(lambda x: ' '.join([word for word in x.split() if word not in (stoplist)]))\n",
    "print(data['pos'][0])\n",
    "(print('=' * 30))\n",
    "\n",
    "# Tokenize and add part of speech\n",
    "data['pos'] = [pos_tag(word_tokenize(x)) for x in data['pos']]\n",
    "print(data['pos'][0])\n",
    "(print('=' * 30))\n",
    "\n",
    "# Join tuples into a single string for each row\n",
    "data['pos'] = [[''.join(tup) for tup in row] for row in data['pos']]\n",
    "print(data['pos'][0])\n",
    "(print('=' * 30))\n",
    "\n",
    "# Convert a list of strings into a single string\n",
    "data['pos'] = [' '.join(x) for x in data['pos']]\n",
    "print(data['pos'][0])"
   ]
  },
  {
   "cell_type": "code",
   "execution_count": 29,
   "metadata": {},
   "outputs": [
    {
     "name": "stdout",
     "output_type": "stream",
     "text": [
      "28040\n",
      "7010\n"
     ]
    }
   ],
   "source": [
    "# Split dataset into train and test\n",
    "data_pos = data[[\"sentiment\" , \"pos\"]]\n",
    "train_pos = data_pos.sample(frac=0.8,random_state=200)\n",
    "test_pos = data_pos.drop(train_pos.index)\n",
    "\n",
    "print(len(train_pos))\n",
    "print(len(test_pos))"
   ]
  },
  {
   "cell_type": "code",
   "execution_count": 30,
   "metadata": {},
   "outputs": [
    {
     "name": "stdout",
     "output_type": "stream",
     "text": [
      "pleasantJJ minNN walkNN alongIN seaNN frontJJ waterNN busNN restaurantsNNS etcJJ hotelNN comfortableJJ breakfastNN goodJJ quiteRB varietyNN roomNN airconNN workNN wellRB takeVB mosquitoNN repelantNN\n",
      "<class 'str'>\n"
     ]
    }
   ],
   "source": [
    "print(train_pos['pos'][0])\n",
    "print(type(train_pos['pos'][0]))"
   ]
  },
  {
   "cell_type": "code",
   "execution_count": 31,
   "metadata": {},
   "outputs": [],
   "source": [
    "# Vectorize reviews for classification: random forest, linear regression, SVM, BernouliNB, etc\n",
    "\n",
    "# Call tfidf vectorizer, fit and transform the data \n",
    "count_vect = CountVectorizer(min_df = 2, stop_words = None, ngram_range = (1, 2))\n",
    "tfidf_transformer = TfidfTransformer()\n",
    "\n",
    "X_train_pos_counts = count_vect.fit_transform(train_pos[\"pos\"])        \n",
    "X_train_pos_tfidf = tfidf_transformer.fit_transform(X_train_pos_counts)\n",
    "\n",
    "X_test_pos_counts = count_vect.transform(test_pos[\"pos\"])        \n",
    "X_test_pos_tfidf = tfidf_transformer.transform(X_test_pos_counts)\n",
    "\n",
    "y_train = train_pos['sentiment']\n",
    "y_test = test_pos['sentiment']"
   ]
  },
  {
   "cell_type": "code",
   "execution_count": 32,
   "metadata": {
    "collapsed": true
   },
   "outputs": [],
   "source": [
    "# Define a function to run the classifiers\n",
    "def run_classifiers(X_train, X_test, y_train, y_test, classifiers):\n",
    "    # Create a dataframe with results\n",
    "    results_cols = ['Classifier', 'Train score', 'Test score', 'Accuracy', 'Log Loss']\n",
    "    results = pd.DataFrame(columns = results_cols)\n",
    "\n",
    "    predictions_cols = ['Logistic_regression', 'MultinomialNB', 'BernoulliNB', 'RandomForest', 'KNeighbors']\n",
    "    predictions = pd.DataFrame()\n",
    "\n",
    "    for clf in classifiers:\n",
    "        clf.fit(X_train, y_train)\n",
    "    \n",
    "        name = clf.__class__.__name__\n",
    "    \n",
    "        print('='*30)\n",
    "        print(name)\n",
    "    \n",
    "        print('**** Results ****')\n",
    "        train_score = clf.score(X_train, y_train)\n",
    "        test_score = clf.score(X_test, y_test)\n",
    "        print('Train score: {:.4%}'.format(train_score))\n",
    "        print('Test score: {:.4%}'.format(test_score))\n",
    "    \n",
    "        prediction = clf.predict(X_test)\n",
    "        acc = accuracy_score(y_test, prediction)\n",
    "        print(\"Accuracy: {:.4%}\".format(acc))\n",
    "        log_predictions = pd.DataFrame(prediction.tolist())\n",
    "        predictions = pd.concat([predictions, log_predictions], axis = 1)\n",
    "    \n",
    "    \n",
    "        train_predictions = clf.predict_proba(X_test)\n",
    "        ll = log_loss(y_test, train_predictions)\n",
    "        print(\"Log Loss: {}\".format(ll))\n",
    "    \n",
    "        #acc and ll have been removed\n",
    "        log_entry = pd.DataFrame([[name, train_score, test_score, acc, ll]], columns = results_cols)\n",
    "        results = results.append(log_entry)\n",
    "        \n",
    "    # Get results in one view\n",
    "    print(results.head())\n",
    "    predictions.columns = predictions_cols\n",
    "    print('*' * 40)\n",
    "    print(predictions.head())    "
   ]
  },
  {
   "cell_type": "code",
   "execution_count": 33,
   "metadata": {
    "collapsed": true
   },
   "outputs": [],
   "source": [
    "# Set up variables for output data\n",
    "classifiers = [linear_model.LogisticRegression(solver='lbfgs' , C=10000), \n",
    "              MultinomialNB(), \n",
    "              BernoulliNB(), \n",
    "              RandomForestClassifier(n_estimators=20, max_depth=30, random_state=30), \n",
    "              KNeighborsClassifier()]"
   ]
  },
  {
   "cell_type": "code",
   "execution_count": 27,
   "metadata": {},
   "outputs": [
    {
     "name": "stdout",
     "output_type": "stream",
     "text": [
      "==============================\n",
      "LogisticRegression\n",
      "**** Results ****\n",
      "Train score: 98.2168%\n",
      "Test score: 73.3666%\n",
      "Accuracy: 73.3666%\n",
      "Log Loss: 1.7117901167757348\n",
      "==============================\n",
      "MultinomialNB\n",
      "**** Results ****\n",
      "Train score: 83.3987%\n",
      "Test score: 73.6947%\n",
      "Accuracy: 73.6947%\n",
      "Log Loss: 0.5071141746802602\n",
      "==============================\n",
      "BernoulliNB\n",
      "**** Results ****\n",
      "Train score: 84.1833%\n",
      "Test score: 75.8773%\n",
      "Accuracy: 75.8773%\n",
      "Log Loss: 1.312334423350751\n",
      "==============================\n",
      "RandomForestClassifier\n",
      "**** Results ****\n",
      "Train score: 70.1534%\n",
      "Test score: 65.9914%\n",
      "Accuracy: 65.9914%\n",
      "Log Loss: 0.6030410247560132\n",
      "==============================\n",
      "KNeighborsClassifier\n",
      "**** Results ****\n",
      "Train score: 72.6819%\n",
      "Test score: 56.0057%\n",
      "Accuracy: 56.0057%\n",
      "Log Loss: 1.5688813943888873\n",
      "               Classifier  Train score  Test score  Accuracy  Log Loss\n",
      "0      LogisticRegression     0.982168    0.733666  0.733666  1.711790\n",
      "0           MultinomialNB     0.833987    0.736947  0.736947  0.507114\n",
      "0             BernoulliNB     0.841833    0.758773  0.758773  1.312334\n",
      "0  RandomForestClassifier     0.701534    0.659914  0.659914  0.603041\n",
      "0    KNeighborsClassifier     0.726819    0.560057  0.560057  1.568881\n",
      "****************************************\n",
      "   Logistic_regression  MultinomialNB  BernoulliNB  RandomForest  KNeighbors\n",
      "0                    1              0            1             0           0\n",
      "1                    1              0            1             0           0\n",
      "2                    0              1            1             0           0\n",
      "3                    1              0            1             1           0\n",
      "4                    1              0            0             0           1\n"
     ]
    }
   ],
   "source": [
    "run_classifiers(X_train_pos_tfidf, X_test_pos_tfidf, y_train, y_test, classifiers)"
   ]
  },
  {
   "cell_type": "markdown",
   "metadata": {},
   "source": [
    "Overall, the results of the classifiers with the pos data is comparable with that of the data without pos information. However, there is a slight increase in the Bernoulli NB classifier with pos to .758 in the test data  in comparison to the same classifier without that info .756."
   ]
  },
  {
   "cell_type": "markdown",
   "metadata": {},
   "source": [
    "### Add additional features beyond review (textual)"
   ]
  },
  {
   "cell_type": "code",
   "execution_count": 34,
   "metadata": {},
   "outputs": [
    {
     "name": "stdout",
     "output_type": "stream",
     "text": [
      "goodJJ locationNN awayRB croudsNNS\n"
     ]
    }
   ],
   "source": [
    "# Make a copy of the dataframe to add the additional features\n",
    "data_moref = data.copy()\n",
    "\n",
    "## Clean both review and title (notice that review is already cleaned)\n",
    "# Remove stop words in review\n",
    "data_moref['review_cleaned'] = data_moref['review_cleaned'].apply(lambda x: ' '.join([word for word in x.split() if word not in (stoplist)]))\n",
    "\n",
    "# Clean and remove stopwords in title\n",
    "data_moref['title_cleaned'] = [clean(x) for x in data_moref['reviews.title']]\n",
    "data_moref['title_cleaned'] = data_moref['title_cleaned'].apply(lambda x: ' '.join([word for word in x.split() if word not in (stoplist)]))\n",
    "\n",
    "\n",
    "\n",
    "## Tokenize and add part of speech for review title\n",
    "data_moref['title_pos'] = [pos_tag(word_tokenize(x)) for x in data_moref['title_cleaned']]\n",
    "\n",
    "# Join tuples into a single string for each row\n",
    "data_moref['title_pos'] = [[''.join(tup) for tup in row] for row in data_moref['title_pos']]\n",
    "\n",
    "# Convert a list of strings into a single string\n",
    "data_moref['title_pos'] = [' '.join(x) for x in data_moref['title_pos']]\n",
    "print(data_moref['title_pos'][0])"
   ]
  },
  {
   "cell_type": "code",
   "execution_count": 35,
   "metadata": {},
   "outputs": [
    {
     "data": {
      "text/html": [
       "<div>\n",
       "<style scoped>\n",
       "    .dataframe tbody tr th:only-of-type {\n",
       "        vertical-align: middle;\n",
       "    }\n",
       "\n",
       "    .dataframe tbody tr th {\n",
       "        vertical-align: top;\n",
       "    }\n",
       "\n",
       "    .dataframe thead th {\n",
       "        text-align: right;\n",
       "    }\n",
       "</style>\n",
       "<table border=\"1\" class=\"dataframe\">\n",
       "  <thead>\n",
       "    <tr style=\"text-align: right;\">\n",
       "      <th></th>\n",
       "      <th>address</th>\n",
       "      <th>categories</th>\n",
       "      <th>city</th>\n",
       "      <th>country</th>\n",
       "      <th>latitude</th>\n",
       "      <th>longitude</th>\n",
       "      <th>name</th>\n",
       "      <th>postalCode</th>\n",
       "      <th>province</th>\n",
       "      <th>reviews.date</th>\n",
       "      <th>...</th>\n",
       "      <th>reviews.title</th>\n",
       "      <th>reviews.userCity</th>\n",
       "      <th>reviews.username</th>\n",
       "      <th>reviews.userProvince</th>\n",
       "      <th>sentiment</th>\n",
       "      <th>review_cleaned</th>\n",
       "      <th>sentiment_conservative</th>\n",
       "      <th>pos</th>\n",
       "      <th>title_cleaned</th>\n",
       "      <th>title_pos</th>\n",
       "    </tr>\n",
       "  </thead>\n",
       "  <tbody>\n",
       "    <tr>\n",
       "      <th>0</th>\n",
       "      <td>Riviera San Nicol 11/a</td>\n",
       "      <td>Hotels</td>\n",
       "      <td>Mableton</td>\n",
       "      <td>US</td>\n",
       "      <td>45.421611</td>\n",
       "      <td>12.376187</td>\n",
       "      <td>Hotel Russo Palace</td>\n",
       "      <td>30126</td>\n",
       "      <td>GA</td>\n",
       "      <td>2013-09-22T00:00:00Z</td>\n",
       "      <td>...</td>\n",
       "      <td>Good location away from the crouds</td>\n",
       "      <td>NaN</td>\n",
       "      <td>Russ (kent)</td>\n",
       "      <td>NaN</td>\n",
       "      <td>0</td>\n",
       "      <td>pleasant min walk along sea front water bus re...</td>\n",
       "      <td>None</td>\n",
       "      <td>pleasantJJ minNN walkNN alongIN seaNN frontJJ ...</td>\n",
       "      <td>good location away crouds</td>\n",
       "      <td>goodJJ locationNN awayRB croudsNNS</td>\n",
       "    </tr>\n",
       "    <tr>\n",
       "      <th>1</th>\n",
       "      <td>Riviera San Nicol 11/a</td>\n",
       "      <td>Hotels</td>\n",
       "      <td>Mableton</td>\n",
       "      <td>US</td>\n",
       "      <td>45.421611</td>\n",
       "      <td>12.376187</td>\n",
       "      <td>Hotel Russo Palace</td>\n",
       "      <td>30126</td>\n",
       "      <td>GA</td>\n",
       "      <td>2015-04-03T00:00:00Z</td>\n",
       "      <td>...</td>\n",
       "      <td>Great hotel with Jacuzzi bath!</td>\n",
       "      <td>NaN</td>\n",
       "      <td>A Traveler</td>\n",
       "      <td>NaN</td>\n",
       "      <td>1</td>\n",
       "      <td>really lovely hotel stayed top floor surprised...</td>\n",
       "      <td>None</td>\n",
       "      <td>reallyRB lovelyJJ hotelNN stayedVBD topJJ floo...</td>\n",
       "      <td>great hotel jacuzzi bath</td>\n",
       "      <td>greatJJ hotelNN jacuzziNN bathNN</td>\n",
       "    </tr>\n",
       "  </tbody>\n",
       "</table>\n",
       "<p>2 rows × 25 columns</p>\n",
       "</div>"
      ],
      "text/plain": [
       "                  address categories      city country   latitude  longitude  \\\n",
       "0  Riviera San Nicol 11/a     Hotels  Mableton      US  45.421611  12.376187   \n",
       "1  Riviera San Nicol 11/a     Hotels  Mableton      US  45.421611  12.376187   \n",
       "\n",
       "                 name postalCode province          reviews.date  \\\n",
       "0  Hotel Russo Palace      30126       GA  2013-09-22T00:00:00Z   \n",
       "1  Hotel Russo Palace      30126       GA  2015-04-03T00:00:00Z   \n",
       "\n",
       "                  ...                                       reviews.title  \\\n",
       "0                 ...                  Good location away from the crouds   \n",
       "1                 ...                      Great hotel with Jacuzzi bath!   \n",
       "\n",
       "   reviews.userCity  reviews.username  reviews.userProvince sentiment  \\\n",
       "0               NaN       Russ (kent)                   NaN         0   \n",
       "1               NaN        A Traveler                   NaN         1   \n",
       "\n",
       "                                      review_cleaned sentiment_conservative  \\\n",
       "0  pleasant min walk along sea front water bus re...                   None   \n",
       "1  really lovely hotel stayed top floor surprised...                   None   \n",
       "\n",
       "                                                 pos  \\\n",
       "0  pleasantJJ minNN walkNN alongIN seaNN frontJJ ...   \n",
       "1  reallyRB lovelyJJ hotelNN stayedVBD topJJ floo...   \n",
       "\n",
       "               title_cleaned                           title_pos  \n",
       "0  good location away crouds  goodJJ locationNN awayRB croudsNNS  \n",
       "1   great hotel jacuzzi bath    greatJJ hotelNN jacuzziNN bathNN  \n",
       "\n",
       "[2 rows x 25 columns]"
      ]
     },
     "execution_count": 35,
     "metadata": {},
     "output_type": "execute_result"
    }
   ],
   "source": [
    "data_moref.head(2)"
   ]
  },
  {
   "cell_type": "code",
   "execution_count": 36,
   "metadata": {},
   "outputs": [
    {
     "name": "stdout",
     "output_type": "stream",
     "text": [
      "28040\n",
      "7010\n"
     ]
    }
   ],
   "source": [
    "# Split dataset into train and test\n",
    "train_moref = data_moref.sample(frac=0.8,random_state=200)\n",
    "test_moref = data_moref.drop(train.index)\n",
    "\n",
    "print(len(train))\n",
    "print(len(test))"
   ]
  },
  {
   "cell_type": "code",
   "execution_count": 37,
   "metadata": {},
   "outputs": [
    {
     "name": "stdout",
     "output_type": "stream",
     "text": [
      "X_train review: (28040, 93905)\n",
      "X_test review: (7010, 93905)\n",
      "X_train title: (28040, 11260)\n",
      "X_test title: (7010, 11260)\n",
      "y_train: (28040,)\n",
      "y_test: (7010,)\n"
     ]
    }
   ],
   "source": [
    "## Vectorize and tf-idf for both title and review\n",
    "\n",
    "# Call tfidf vectorizer, fit and transform the data \n",
    "count_vect_review = CountVectorizer(min_df = 2, stop_words = None , ngram_range = (1,2))\n",
    "tfidf_transformer_review = TfidfTransformer()\n",
    "\n",
    "## Vectorize review\n",
    "# Vectorize review for X train\n",
    "X_train_review = count_vect_review.fit_transform(train_moref[\"pos\"])        \n",
    "X_train_review_tfidf = tfidf_transformer_review.fit_transform(X_train_review)\n",
    "\n",
    "# Vectorize review for X test\n",
    "X_test_review = count_vect_review.transform(test_moref[\"pos\"])        \n",
    "X_test_review_tfidf = tfidf_transformer_review.transform(X_test_review)\n",
    "\n",
    "\n",
    "## Vectorize title\n",
    "# Reset vectorizer\n",
    "count_vect_title = CountVectorizer(min_df = 2, stop_words = None , ngram_range = (1,2))\n",
    "tfidf_transformer_title = TfidfTransformer()\n",
    "\n",
    "# Vectorize title for X train\n",
    "X_train_title = count_vect_title.fit_transform(train_moref[\"title_pos\"])        \n",
    "X_train_title_tfidf = tfidf_transformer_title.fit_transform(X_train_title)\n",
    "\n",
    "# Vectorize title for X test\n",
    "X_test_title = count_vect_title.transform(test_moref[\"title_pos\"])        \n",
    "X_test_title_tfidf = tfidf_transformer_title.transform(X_test_title)\n",
    "\n",
    "\n",
    "# Separate the y for train and test\n",
    "y_train_moref = train_moref['sentiment']\n",
    "y_test_moref = test_moref['sentiment']\n",
    "\n",
    "# Check shape of created variables\n",
    "print('X_train review:', X_train_review_tfidf.shape)\n",
    "print('X_test review:', X_test_review_tfidf.shape)\n",
    "print('X_train title:', X_train_title_tfidf.shape)\n",
    "print('X_test title:', X_test_title_tfidf.shape)\n",
    "print('y_train:', y_train_moref.shape)\n",
    "print('y_test:', y_test_moref.shape)"
   ]
  },
  {
   "cell_type": "code",
   "execution_count": 39,
   "metadata": {},
   "outputs": [
    {
     "name": "stdout",
     "output_type": "stream",
     "text": [
      "(28040, 9)\n"
     ]
    }
   ],
   "source": [
    "# Add further features contained in the dataset\n",
    "\n",
    "# Add meta features\n",
    "transform_functions = [\n",
    "    lambda x: len(x),                              # length of review\n",
    "    lambda x: x.count(\" \"),                        # number of spaces\n",
    "    lambda x: x.count(\".\"),                        # number of sentences\n",
    "    lambda x: x.count(\"!\"),                        # number of exclamation sentences\n",
    "    lambda x: x.count(\"?\"),                        # number of questions\n",
    "    lambda x: len(x) / (x.count(\" \") + 1),         # ratio of length over spaces\n",
    "    lambda x: x.count(\" \") / (x.count(\".\") + 1),   # number of spaces per sentence\n",
    "    lambda x: len(re.findall(\"\\d\", x)),            # number of digits\n",
    "    lambda x: len(re.findall(\"[A-Z]\", x)),         # number of capitalized words\n",
    "]\n",
    "\n",
    "# Add these meta features into a column\n",
    "# Make sure that all rows in 'reviews.text' are string type\n",
    "train_moref['reviews.text'] = train_moref['reviews.text'].astype(str)\n",
    "\n",
    "meta = []\n",
    "\n",
    "# Create column for each meta-feature\n",
    "for func in transform_functions:\n",
    "    meta.append(train_moref['reviews.text'].apply(func))\n",
    "    \n",
    "# Convert metafeatures to a numpy array and transpose it\n",
    "meta_ft = np.asarray(meta).T\n",
    "\n",
    "print(meta_ft.shape)"
   ]
  },
  {
   "cell_type": "code",
   "execution_count": null,
   "metadata": {},
   "outputs": [
    {
     "name": "stdout",
     "output_type": "stream",
     "text": [
      "X_train review (28040, 93905)\n",
      "X_train title (28040, 11260)\n",
      "X_test review (7010, 93905)\n",
      "X_test title (7010, 11260)\n"
     ]
    }
   ],
   "source": [
    "## Create dataframes for X_train review and title\n",
    "# Convert review sparse matrix into dataframe\n",
    "X_train_review_df = pd.DataFrame(X_train_review_tfidf.todense())\n",
    "X_train_review_df.columns = count_vect_review.get_feature_names()\n",
    "\n",
    "# Convert title sparse matrix into dataframe\n",
    "X_train_title_df = pd.DataFrame(X_train_title_tfidf.todense())\n",
    "X_train_title_df.columns = count_vect_title.get_feature_names()\n",
    "\n",
    "\n",
    "## Create dataframes for X_test review and title\n",
    "# Create dataframe for X_test review\n",
    "X_test_review_df = pd.DataFrame(X_test_review_tfidf.todense())\n",
    "X_test_review_df.columns = count_vect_review.get_feature_names()\n",
    "\n",
    "# Create dataframe for X_test title\n",
    "X_test_title_df = pd.DataFrame(X_test_title_tfidf.todense())\n",
    "X_test_title_df.columns = count_vect_title.get_feature_names()\n",
    "\n",
    "print('X_train review', X_train_review_df.shape)\n",
    "print('X_train title', X_train_title_df.shape)\n",
    "print('X_test review', X_test_review_df.shape)\n",
    "print('X_test title', X_test_title_df.shape)"
   ]
  },
  {
   "cell_type": "code",
   "execution_count": 1,
   "metadata": {},
   "outputs": [],
   "source": [
    "# *** This approach consumes a lot of memory (55gb) and crashes the kernel ***\n",
    "# Use Spark to handle big data\n",
    "\n",
    "#import findspark\n",
    "#from pyspark.sql import SQLContext\n",
    "#import pyspark\n",
    "\n",
    "#findspark.init('/users/danielvalle/spark-2.3.0-bin-hadoop2.7')\n",
    "\n",
    "#sc = pyspark.SparkContext()\n",
    "\n",
    "#sqlsc = SQLContext(sc)\n",
    "\n",
    "# Convert data frames into pyspark rdd\n",
    "# Using this approach also outran memory and the kernel shut down\n",
    "#X_train_review_rdd = sqlsc.createDataFrame(X_train_review_df)\n",
    "#X_train_title_rdd = sqlsc.createDataFrame(X_train_title_df)\n",
    "#X_test_review_rdd = sqlsc.createDataFrame(X_test_review_df)\n",
    "#X_test_title_rdd = sqlsc.createDataFrame(X_test_title_df)\n",
    "\n",
    "# Join the rdds into a single rdd for train and test data\n",
    "#X_train_rt_rdd =  X_train_review_rdd.union(X_train_title_rdd)\n",
    "#X_test_rt_rdd = X_test_review_rdd.union(X_test_title_rdd)"
   ]
  },
  {
   "cell_type": "code",
   "execution_count": null,
   "metadata": {},
   "outputs": [],
   "source": []
  },
  {
   "cell_type": "code",
   "execution_count": 30,
   "metadata": {},
   "outputs": [
    {
     "name": "stdout",
     "output_type": "stream",
     "text": [
      "X_train rt: (28040, 105165)\n",
      "X_train rt expected: 106087\n",
      "X_test rt: (7010, 105165)\n",
      "X_test rt expected: 106087\n"
     ]
    }
   ],
   "source": [
    "# *** This approach consumes a lot of memory (55gb) and crashes the kernel\n",
    "# Concatenate dataframes for X_train (review and title)\n",
    "#X_train_rt = pd.concat([X_train_review_df, X_train_title_df], axis=1)\n",
    "#print('X_train rt:', X_train_rt.shape)\n",
    "#print('X_train rt expected:', 94827 + 11260)\n",
    "\n",
    "# Concatenate dataframes for X_test (review and title)\n",
    "#X_test_rt = pd.concat([X_test_review_df, X_test_title_df], axis=1)\n",
    "#print('X_test rt:', X_test_rt.shape)\n",
    "#print('X_test rt expected:', 94827 + 11260)"
   ]
  },
  {
   "cell_type": "code",
   "execution_count": 39,
   "metadata": {
    "collapsed": true
   },
   "outputs": [],
   "source": [
    "## *** This approach took more than 2 hours and still did not concantenate the two dataframes ***\n",
    "\n",
    "# An alternative to concatenating dataframes on memory\n",
    "# Save them as .csv files on disk instead\n",
    "\n",
    "# a csv solution\n",
    "#def bycsv(dfs):\n",
    "    #md,hd='w',True\n",
    "    #for df in dfs:\n",
    "        #df.to_csv('df_all.csv',mode=md,header=hd,index=None)\n",
    "        #md,hd='a',False\n",
    "    #del dfs\n",
    "    #df_all=pd.read_csv('df_all.csv',index_col=None)\n",
    "    #os.remove('df_all.csv') \n",
    "    #return df_all  \n",
    "    \n",
    "# Concatenate X_train\n",
    "#bycsv([X_train_review_df, X_train_title_df])\n",
    "#print(df_all.shape)\n",
    "#print(type(df_all))\n",
    "#print('X_train rt expected:', 94827 + 11260)"
   ]
  },
  {
   "cell_type": "code",
   "execution_count": 37,
   "metadata": {
    "collapsed": true
   },
   "outputs": [],
   "source": []
  },
  {
   "cell_type": "code",
   "execution_count": null,
   "metadata": {},
   "outputs": [],
   "source": []
  },
  {
   "cell_type": "code",
   "execution_count": 1,
   "metadata": {},
   "outputs": [],
   "source": [
    "# Run classifiers for the review and title data (without metadata)\n",
    "#run_classifiers(X_train_rt, X_test_rt, y_train_moref, y_test_moref, classifiers)\n"
   ]
  },
  {
   "cell_type": "code",
   "execution_count": null,
   "metadata": {},
   "outputs": [],
   "source": []
  },
  {
   "cell_type": "code",
   "execution_count": null,
   "metadata": {
    "collapsed": true
   },
   "outputs": [],
   "source": [
    "# Add features:\n",
    "# - categories\n",
    "# - city\n",
    "# - postalCode\n",
    "# - province\n",
    "\n",
    "# - reviews.userProvince\n",
    "# - reviews.data"
   ]
  },
  {
   "cell_type": "markdown",
   "metadata": {},
   "source": [
    "### Further analysis"
   ]
  },
  {
   "cell_type": "code",
   "execution_count": 36,
   "metadata": {
    "collapsed": true
   },
   "outputs": [],
   "source": [
    "# Further analysis\n",
    "\n",
    "    # Try feature extraction and dimensionality reduction  \n",
    "    # Analysis POS, uppercase\n",
    "    # Grid search: tune hyper parameters\n",
    "    # Add other models: Maximun entropy model, SVC, GradientBoostingClasssifier\n",
    "    # Try adding additional features, eg. date, location, headline text, etc\n",
    "\n",
    "# Add the review headline feature\n",
    "\n",
    "#data_add_features = data[['reviews.text', 'sentiment', 'review_cleaned']]"
   ]
  },
  {
   "cell_type": "code",
   "execution_count": null,
   "metadata": {
    "collapsed": true
   },
   "outputs": [],
   "source": []
  },
  {
   "cell_type": "markdown",
   "metadata": {},
   "source": [
    "### References\n",
    "https://www.brightlocal.com/2014/08/14/5-visual-stats-power-of-online-reviews/"
   ]
  }
 ],
 "metadata": {
  "kernelspec": {
   "display_name": "Python 3",
   "language": "python",
   "name": "python3"
  },
  "language_info": {
   "codemirror_mode": {
    "name": "ipython",
    "version": 3
   },
   "file_extension": ".py",
   "mimetype": "text/x-python",
   "name": "python",
   "nbconvert_exporter": "python",
   "pygments_lexer": "ipython3",
   "version": "3.6.1"
  }
 },
 "nbformat": 4,
 "nbformat_minor": 2
}
